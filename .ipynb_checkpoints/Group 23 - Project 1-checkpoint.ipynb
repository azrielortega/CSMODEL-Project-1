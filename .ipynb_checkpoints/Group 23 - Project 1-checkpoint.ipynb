{
 "cells": [
  {
   "cell_type": "markdown",
   "metadata": {},
   "source": [
    "<h1> CSMODEL Project 1 </h1>\n",
    "<h2> Group 23</h2>\n",
    "Members:\n",
    "Lima, Alfonso Gabriel V.\n",
    "Olalia, Pamela Kirsten G.\n",
    "Ortega, Azriel Matthew\n"
   ]
  },
  {
   "cell_type": "markdown",
   "metadata": {},
   "source": [
    "## Netflix Original Films & IMDb Scores\n",
    "The dataset of the notebook is called *Netflix Original Films & IMDB Scores*. It contains all of Netflix's produced films as of June 1, 2021. It contains basic information regarding each film such as the title, genre, language, runtime, and IMDb Score. \n",
    "\n",
    "The data in this dataset was acquired via webscraping of a [Wikipedia page](https://en.wikipedia.org/wiki/Lists_of_Netflix_original_films) by Nakul Lakhotia about Netflix's produced films over the years. The data was then integrated with its corresponding IMDb score manually by the owner of the dataset. The IMDb scores were aquired in their official website: [imdb.com](https://www.imdb.com/), which is the premiere website for movie reviews and critique.\n",
    "\n"
   ]
  },
  {
   "cell_type": "markdown",
   "metadata": {},
   "source": [
    "## pandas, matplotlib and chardet\n",
    "**pandas** is a software library for Python that is designed for data manipulation and data analysis. **matplotlib** is a software libary for data visualization, which allows us to easily render various types of graphs. We will be using these two libraries in this Notebook. **chardet** is a software library for Python that serves as the Universal Character Encoding Detector."
   ]
  },
  {
   "cell_type": "code",
   "execution_count": 28,
   "metadata": {},
   "outputs": [],
   "source": [
    "import numpy as np\n",
    "import pandas as pd\n",
    "import matplotlib.pyplot as plt\n",
    "import seaborn as sns\n",
    "import chardet\n",
    "import scipy.stats"
   ]
  },
  {
   "cell_type": "markdown",
   "metadata": {},
   "source": [
    "## Reading the dataset"
   ]
  },
  {
   "cell_type": "code",
   "execution_count": 29,
   "metadata": {},
   "outputs": [],
   "source": [
    "with open('NetflixOriginals.csv', 'rb') as f:\n",
    "    result = chardet.detect(f.read())  # or readline if the file is large"
   ]
  },
  {
   "cell_type": "code",
   "execution_count": 30,
   "metadata": {},
   "outputs": [],
   "source": [
    "netflix_df = pd.read_csv('NetflixOriginals.csv', encoding=result['encoding'])"
   ]
  },
  {
   "cell_type": "markdown",
   "metadata": {},
   "source": [
    "## Structure of the Dataset"
   ]
  },
  {
   "cell_type": "code",
   "execution_count": 31,
   "metadata": {},
   "outputs": [
    {
     "name": "stdout",
     "output_type": "stream",
     "text": [
      "<class 'pandas.core.frame.DataFrame'>\n",
      "RangeIndex: 584 entries, 0 to 583\n",
      "Data columns (total 6 columns):\n",
      " #   Column      Non-Null Count  Dtype  \n",
      "---  ------      --------------  -----  \n",
      " 0   Title       584 non-null    object \n",
      " 1   Genre       584 non-null    object \n",
      " 2   Premiere    584 non-null    object \n",
      " 3   Runtime     584 non-null    int64  \n",
      " 4   IMDB Score  584 non-null    float64\n",
      " 5   Language    584 non-null    object \n",
      "dtypes: float64(1), int64(1), object(4)\n",
      "memory usage: 27.5+ KB\n"
     ]
    }
   ],
   "source": [
    "netflix_df.info()"
   ]
  },
  {
   "cell_type": "markdown",
   "metadata": {},
   "source": [
    "There are a total of 584 observations in the dataset. Each observation contains 6 variables to describe each observation. These are the records and details for every film by Netflix"
   ]
  },
  {
   "cell_type": "code",
   "execution_count": 32,
   "metadata": {},
   "outputs": [
    {
     "data": {
      "text/html": [
       "<div>\n",
       "<style scoped>\n",
       "    .dataframe tbody tr th:only-of-type {\n",
       "        vertical-align: middle;\n",
       "    }\n",
       "\n",
       "    .dataframe tbody tr th {\n",
       "        vertical-align: top;\n",
       "    }\n",
       "\n",
       "    .dataframe thead th {\n",
       "        text-align: right;\n",
       "    }\n",
       "</style>\n",
       "<table border=\"1\" class=\"dataframe\">\n",
       "  <thead>\n",
       "    <tr style=\"text-align: right;\">\n",
       "      <th></th>\n",
       "      <th>Title</th>\n",
       "      <th>Genre</th>\n",
       "      <th>Premiere</th>\n",
       "      <th>Runtime</th>\n",
       "      <th>IMDB Score</th>\n",
       "      <th>Language</th>\n",
       "    </tr>\n",
       "  </thead>\n",
       "  <tbody>\n",
       "    <tr>\n",
       "      <th>0</th>\n",
       "      <td>Enter the Anime</td>\n",
       "      <td>Documentary</td>\n",
       "      <td>August 5, 2019</td>\n",
       "      <td>58</td>\n",
       "      <td>2.5</td>\n",
       "      <td>English/Japanese</td>\n",
       "    </tr>\n",
       "    <tr>\n",
       "      <th>1</th>\n",
       "      <td>Dark Forces</td>\n",
       "      <td>Thriller</td>\n",
       "      <td>August 21, 2020</td>\n",
       "      <td>81</td>\n",
       "      <td>2.6</td>\n",
       "      <td>Spanish</td>\n",
       "    </tr>\n",
       "    <tr>\n",
       "      <th>2</th>\n",
       "      <td>The App</td>\n",
       "      <td>Science fiction/Drama</td>\n",
       "      <td>December 26, 2019</td>\n",
       "      <td>79</td>\n",
       "      <td>2.6</td>\n",
       "      <td>Italian</td>\n",
       "    </tr>\n",
       "    <tr>\n",
       "      <th>3</th>\n",
       "      <td>The Open House</td>\n",
       "      <td>Horror thriller</td>\n",
       "      <td>January 19, 2018</td>\n",
       "      <td>94</td>\n",
       "      <td>3.2</td>\n",
       "      <td>English</td>\n",
       "    </tr>\n",
       "    <tr>\n",
       "      <th>4</th>\n",
       "      <td>Kaali Khuhi</td>\n",
       "      <td>Mystery</td>\n",
       "      <td>October 30, 2020</td>\n",
       "      <td>90</td>\n",
       "      <td>3.4</td>\n",
       "      <td>Hindi</td>\n",
       "    </tr>\n",
       "  </tbody>\n",
       "</table>\n",
       "</div>"
      ],
      "text/plain": [
       "             Title                  Genre           Premiere  Runtime  \\\n",
       "0  Enter the Anime            Documentary     August 5, 2019       58   \n",
       "1      Dark Forces               Thriller    August 21, 2020       81   \n",
       "2          The App  Science fiction/Drama  December 26, 2019       79   \n",
       "3   The Open House        Horror thriller   January 19, 2018       94   \n",
       "4      Kaali Khuhi                Mystery   October 30, 2020       90   \n",
       "\n",
       "   IMDB Score          Language  \n",
       "0         2.5  English/Japanese  \n",
       "1         2.6           Spanish  \n",
       "2         2.6           Italian  \n",
       "3         3.2           English  \n",
       "4         3.4             Hindi  "
      ]
     },
     "execution_count": 32,
     "metadata": {},
     "output_type": "execute_result"
    }
   ],
   "source": [
    "netflix_df.head()"
   ]
  },
  {
   "cell_type": "markdown",
   "metadata": {},
   "source": [
    "## Variables in the Dataset"
   ]
  },
  {
   "cell_type": "markdown",
   "metadata": {},
   "source": [
    "The following are detailed descriptions of each column in the dataset: <br>\n",
    "> 1. ***`Title`*** - The name of the film. This is the unique value of each observation in the dataset <br>\n",
    "2. ***`Genre`*** - The type of film based on its narrative elements. This describes what kind of plot the film portrays. Some observations may have a mix of 2 or more genres. <br>\n",
    "3. ***`Premiere`*** - The date when the film was released to the public.<br>\n",
    "4. ***`Runtime`*** - The overall length of the film in minutes.<br>\n",
    "5. ***`IMDB Score`*** - The score of the film on the IMDB website. The scores are taken from members of the IMDB community.\n",
    "6. ***`Language`*** - The languages used in the film. Some films may have a mix of 2 or more languages"
   ]
  },
  {
   "cell_type": "markdown",
   "metadata": {},
   "source": [
    "## Data Cleaning"
   ]
  },
  {
   "cell_type": "markdown",
   "metadata": {},
   "source": [
    "#### Missing Values\n",
    "The following code returns the number of null values which represents a missing value for each variable in the dataset."
   ]
  },
  {
   "cell_type": "code",
   "execution_count": 33,
   "metadata": {},
   "outputs": [
    {
     "data": {
      "text/plain": [
       "Title         0\n",
       "Genre         0\n",
       "Premiere      0\n",
       "Runtime       0\n",
       "IMDB Score    0\n",
       "Language      0\n",
       "dtype: int64"
      ]
     },
     "execution_count": 33,
     "metadata": {},
     "output_type": "execute_result"
    }
   ],
   "source": [
    "netflix_df.isnull().sum()"
   ]
  },
  {
   "cell_type": "markdown",
   "metadata": {},
   "source": [
    "As seen above, there are no observations that contains a null value in any variable."
   ]
  },
  {
   "cell_type": "markdown",
   "metadata": {},
   "source": [
    "#### Data Type\n",
    "The following code returns the data type of each variable in the dataset."
   ]
  },
  {
   "cell_type": "code",
   "execution_count": 34,
   "metadata": {},
   "outputs": [
    {
     "data": {
      "text/plain": [
       "Title          object\n",
       "Genre          object\n",
       "Premiere       object\n",
       "Runtime         int64\n",
       "IMDB Score    float64\n",
       "Language       object\n",
       "dtype: object"
      ]
     },
     "execution_count": 34,
     "metadata": {},
     "output_type": "execute_result"
    }
   ],
   "source": [
    "netflix_df.dtypes"
   ]
  },
  {
   "cell_type": "markdown",
   "metadata": {},
   "source": [
    "Almost all of the variables have the appropriate data type for their values except for the *Premiere*. Since the *Premiere* column contains the date of the premiere of the film, the appropriate data type for this is the **Datetime** data type not an object/string.\n",
    "\n",
    "The following code will convert the data type to **Datetime**."
   ]
  },
  {
   "cell_type": "code",
   "execution_count": 35,
   "metadata": {},
   "outputs": [
    {
     "data": {
      "text/plain": [
       "Title                 object\n",
       "Genre                 object\n",
       "Premiere      datetime64[ns]\n",
       "Runtime                int64\n",
       "IMDB Score           float64\n",
       "Language              object\n",
       "dtype: object"
      ]
     },
     "execution_count": 35,
     "metadata": {},
     "output_type": "execute_result"
    }
   ],
   "source": [
    "netflix_df[\"Premiere\"] = pd.to_datetime(netflix_df['Premiere'])\n",
    "netflix_df.dtypes"
   ]
  },
  {
   "cell_type": "markdown",
   "metadata": {},
   "source": [
    "Now all of the variables in the dataset have the appropriate data type for their values."
   ]
  },
  {
   "cell_type": "markdown",
   "metadata": {},
   "source": [
    "#### Duplicate  Values\n",
    "The values under the *Title* column are the only distinct values for each observation. This is because this is the only attribute that does not describe the observation but names it. So, to check if there are any duplicate values in the dataset, we must count how many unique values are under the *Title* column. If they are equal to the number of observations, then there are no duplicate observations.\n"
   ]
  },
  {
   "cell_type": "code",
   "execution_count": 36,
   "metadata": {},
   "outputs": [
    {
     "data": {
      "text/plain": [
       "584"
      ]
     },
     "execution_count": 36,
     "metadata": {},
     "output_type": "execute_result"
    }
   ],
   "source": [
    "netflix_df['Title'].nunique()"
   ]
  },
  {
   "cell_type": "markdown",
   "metadata": {},
   "source": [
    "The code above returns the number of unique values under the *Title* column. It is equal to the number of observations, therefore, there are **no duplicate values in the dataset**"
   ]
  },
  {
   "cell_type": "markdown",
   "metadata": {},
   "source": [
    "#### Data Format\n",
    "Now we want to check if the data under the different columns are consistent with each other. The following blocks of code will display this."
   ]
  },
  {
   "cell_type": "code",
   "execution_count": 37,
   "metadata": {},
   "outputs": [
    {
     "data": {
      "text/plain": [
       "array(['Enter the Anime', 'Dark Forces', 'The App', 'The Open House',\n",
       "       'Kaali Khuhi', 'Drive', 'Leyla Everlasting',\n",
       "       'The Last Days of American Crime', 'Paradox', 'Sardar Ka Grandson',\n",
       "       'Searching for Sheela', 'The Call', 'Whipped',\n",
       "       'All Because of You', 'Mercy', 'After the Raid', 'Ghost Stories',\n",
       "       'The Last Thing He Wanted', 'What Happened to Mr. Cha?',\n",
       "       'Death Note', \"Hello Privilege. It's Me, Chelsea\",\n",
       "       'Secret Obsession', 'Sextuplets', 'The Girl on the Train',\n",
       "       'Thunder Force', 'Fatal Affair', 'Just Say Yes',\n",
       "       'Seriously Single', 'The Misadventures of Hedi and Cokeman',\n",
       "       '5 Star Christmas', 'After Maria',\n",
       "       'I Am the Pretty Thing That Lives in the House', 'Paris Is Us',\n",
       "       'Porta dos Fundos: The First Temptation of Christ', 'Rattlesnake',\n",
       "       'The Players', 'We Are One', 'Finding Agnes', 'IO', 'Sentinelle',\n",
       "       'Sol Levante', 'The Binding', 'We Can Be Heroes',\n",
       "       'Christmas Crossfire', 'Coin Heist', 'Mrs. Serial Killer',\n",
       "       'Nobody Sleeps in the Woods Tonight', 'Take the 10',\n",
       "       'The Main Event', 'The Ridiculous 6', 'Earth and Blood',\n",
       "       'Fearless', 'Holiday Rush', 'The Day of the Lord', 'Airplane Mode',\n",
       "       'How It Ends', 'Love Like the Falling Rain', 'Rebirth',\n",
       "       'Squared Love', 'Cadaver', 'Clinical', 'Coffee & Kareem', 'Dude',\n",
       "       'Geez & Ann', 'The Larva Island Movie', '#REALITYHIGH',\n",
       "       'American Factory: A Conversation with the Obamas ', 'Desperados',\n",
       "       \"Dolly Parton's Christmas on the Square\", 'Father of the Year',\n",
       "       'Firebrand', 'Ghost Lab', \"Girlfriend's Day\",\n",
       "       'Handsome: A Netflix Mystery Movie', 'Hubie Halloween', 'Ibiza',\n",
       "       'Rim of the World', 'Sandy Wexler', 'See You Yesterday',\n",
       "       'Still Laugh-In: The Stars Celebrate', 'Strip Down, Rise Up',\n",
       "       'Tall Girl', 'The Beast', 'The Week Of',\n",
       "       'A Christmas Prince: The Royal Wedding', 'Back to School',\n",
       "       'Dangerous Lies', 'Gunjan Saxena: The Kargil Girl', 'Intuition',\n",
       "       'The Most Assassinated Woman in the World', 'Things Heard & Seen',\n",
       "       'To Each, Her Own', 'Who Would You Take to a Deserted Island?',\n",
       "       'XOXO', \"A Babysitter's Guide to Monster Hunting\",\n",
       "       'A Christmas Prince: The Royal Baby', 'Despite Everything',\n",
       "       'Dolly Kitty and Those Twinkling Stars',\n",
       "       \"Freaks: You're One of Us\", 'Game Over, Man!', 'Guilty',\n",
       "       'In the Tall Grass', 'Madame Claude', 'Naked', 'Outside the Wire',\n",
       "       'The Princess Switch: Switched Again', 'Under the Riccione Sun',\n",
       "       'A Very Murray Christmas', 'Been So Long', 'Dead Kids',\n",
       "       'Get the Grift', 'Ghosts of Sugar Land', 'House Arrest',\n",
       "       \"Kevin Hart's Guide to Black History\", 'Love Wedding Repeat',\n",
       "       'Mute', 'Òlòt?ré', 'Red Dot', 'Ride or Die', 'Step Sisters',\n",
       "       'The Cloverfield Paradox', 'The Knight Before Christmas',\n",
       "       'The Legacy of a Whitetail Deer Hunter', 'The Package',\n",
       "       'Unicorn Store', 'Wine Country', 'Bomb Scared', 'Brahman Naman',\n",
       "       'Double Dad', 'Falling Inn Love', 'Hold the Dark',\n",
       "       'Love, Guaranteed', 'One-Way to Tomorrow',\n",
       "       \"Sarah Cooper: Everything's Fine\", 'The Last Laugh',\n",
       "       'The Last Paradiso', 'The Midnight Sky', 'The Paramedic',\n",
       "       'The Sleepover', 'Vampires vs. the Bronx', 'Why Did You Kill Me?',\n",
       "       'A Week Away', 'Caught by a Wave', 'Christmas Inheritance',\n",
       "       'Dad Wanted', 'El Camino Christmas', 'Eli', 'Ginny Weds Sunny',\n",
       "       'Good Sam', 'Lionheart', 'Little Evil', 'One Take',\n",
       "       'Out of Many, One', 'Point Blank', 'Prime Time', 'The Do-Over',\n",
       "       'The Holiday Calendar', 'The Woman in the Window',\n",
       "       'The Wrong Missy', 'Velvet Buzzsaw', 'Yes Day', '15 August',\n",
       "       'A California Christmas', 'A Christmas Prince',\n",
       "       'All Day and a Night', 'American Son', 'Barry', 'Candy Jar',\n",
       "       'Choked: Paisa Bolta Hai', \"Class of '83\", 'Extinction',\n",
       "       'Happy Anniversary', 'I Am All Girls', 'Let It Snow', 'Mascots',\n",
       "       'Operation Christmas Drop', 'Rajma Chawal', 'Rich in Love',\n",
       "       'Rising High', 'Rodney King', 'Sierra Burgess Is a Loser',\n",
       "       'Small Crimes', 'Special Correspondents', 'TAU', 'The After Party',\n",
       "       'The Babysitter: Killer Queen', 'The Claus Family',\n",
       "       'The Kissing Booth 2', 'The Perfect Date', 'What We Wanted',\n",
       "       \"You've Got This\", '6 Balloons', 'A Fall from Grace', 'Amateur',\n",
       "       'Army of the Dead', 'Cam', 'Earthquake Bird',\n",
       "       \"Frankenstein's Monster's Monster, Frankenstein\", 'Horse Girl',\n",
       "       'Notes from Dunblane: Lesson from a School Shooting', 'Maska',\n",
       "       'The Decline', 'The Minimalists: Less Is Now', 'The Polka King',\n",
       "       'The Prom', 'True Memoirs of an International Assassin', 'Ultras',\n",
       "       'Come Sunday', 'Forgive Us Our Debts', 'iBoy', 'Lovefucked',\n",
       "       'Juanita', 'Murder Mystery', 'Project Power', 'Rebecca',\n",
       "       'The Christmas Chronicles: Part Two', 'The Kissing Booth',\n",
       "       'The Princess Switch', 'To All the Boys: P.S. I Still Love You',\n",
       "       'War Machine', '6 Underground', 'Between Two Ferns: The Movie',\n",
       "       'Burning Sands', 'Casting JonBenet', 'Deidra & Laney Rob a Train',\n",
       "       \"Finding 'Ohana\", 'Holidate', 'Holiday in the Wild',\n",
       "       'Hot Girls Wanted', 'Like Father', 'Lost Girls', 'Otherhood',\n",
       "       \"Pee-wee's Big Holiday\", 'Rogue City', 'Sergio', 'Stuck Apart',\n",
       "       'Tersanjung the Movie', 'The Killer', 'The Lovebirds',\n",
       "       'The Most Hated Woman in America', 'The Perfection',\n",
       "       'Tribhanga – Tedhi Medhi Crazy', 'Unknown Origins', 'Work It',\n",
       "       'Alien Xmas', 'Baggio: The Divine Ponytail', 'Below Zero',\n",
       "       'Citation', 'Crazy Awesome Teachers',\n",
       "       'Have You Ever Seen Fireflies?', 'High Flying Bird',\n",
       "       'In the Shadow of the Moon', 'Lost Bullet',\n",
       "       'Octonauts & the Caves of Sac Actun', 'Offering to the Storm',\n",
       "       'Roxanne Roxanne', 'Someone Great', 'Spenser Confidential',\n",
       "       'The Land of Steady Habits', 'The Rachel Divide', 'Voyuer ',\n",
       "       'Win It All', '1922', 'A Tale of Two Kitchens', 'Alex Strangelove',\n",
       "       'Apostle', 'Benji', 'Bright', 'Cargo', 'Concrete Cowboy',\n",
       "       'Feel the Beat', 'Get the Goat', 'I Am Not an Easy Man',\n",
       "       'June & Kopi', 'Music Teacher', 'Nail Bomber: Manhunt',\n",
       "       'Notes for My Son', 'Polar', 'Porta dos Fundos: The Last Hangover',\n",
       "       'Sand Castle', 'Shimmer Lake', 'Spectral', 'The Babysitter',\n",
       "       'The Discovery', 'The Forest of Love', 'The Laundromat',\n",
       "       'The Legend of Cocaine Island', 'The Outsider', 'Time to Hunt',\n",
       "       'To All the Boys: Always and Forever',\n",
       "       'Travis Scott: Look Mom I Can Fly', 'Uncorked',\n",
       "       'Anelka: Misunderstood', 'Ariana Grande: Excuse Me, I Love You',\n",
       "       'ARQ', 'Birders', 'Como Caído del Cielo', 'First Match',\n",
       "       'Fractured', 'Irreplaceable You', 'Isi & Ossi',\n",
       "       'John Was Trying to Contact Aliens', 'Layla Majnun',\n",
       "       'Murder to Mercy: The Cyntoia Brown Story', 'My Own Man',\n",
       "       'Nappily Ever After', 'Over the Moon', 'Street Flow',\n",
       "       'Strong Island', 'Sturgill Simpson Presents: Sound & Fury',\n",
       "       'Take Your Pills', 'The Heartbreak Club', 'The Mars Generation',\n",
       "       'The Occupant', 'The Willoughbys', 'Triple Frontier',\n",
       "       'Two Catalonias', 'Walk. Ride. Rodeo.', 'Wheelman',\n",
       "       'When We First Met', 'A 3 Minute Hug', 'All the Bright Places',\n",
       "       'All Together Now', 'Altered Carbon: Resleeved',\n",
       "       'Antoine Griezmann: The Making of a Legend', 'Canvas ',\n",
       "       'Chadwick Boseman: Portrait of an Artist', 'Chopsticks',\n",
       "       'Da 5 Bloods', 'Dolly Parton: A MusiCares Tribute',\n",
       "       'Eurovision Song Contest: The Story of Fire Saga', \"Gerald's Game\",\n",
       "       'His House', 'Jingle Jangle: A Christmas Journey',\n",
       "       'Life Overtakes Me', 'Lust Stories', 'Monster',\n",
       "       'Mowgli: Legend of the Jungle', \"Nobody Knows I'm Here\",\n",
       "       'Nobody Speak: Trials of the Free Press', 'Oxygen', 'Set It Up',\n",
       "       'The Incredible Jessica James', 'Tigertail', 'Tramps',\n",
       "       'What Did Jack Do?', 'Bad Trip', 'Bird Box', 'Bulbbul',\n",
       "       'Crazy About Her', 'Elisa & Marcela', \"I'll Sleep When I'm Dead\",\n",
       "       \"I'm Thinking of Ending Things\", 'It Takes a Lunatic', 'Milestone',\n",
       "       'Recovery Boys', 'ReMastered: Who Killed Jam Master Jay?',\n",
       "       'Shawn Mendes: In Wonder', 'Space Sweepers', 'The American Meme',\n",
       "       'The Angel', 'The Crimes That Bind', 'The Red Sea Diving Resort',\n",
       "       'What Would Sophia Loren Do?', 'A Whisker Away', 'Ajeeb Daastaans',\n",
       "       'Arlo the Alligator Boy', 'Bikram: Yogi, Guru, Predator', 'Blame!',\n",
       "       'Blue Miracle', 'CounterPunch ',\n",
       "       'Crack: Cocaine, Corruption & Conspiracy', 'Extraction',\n",
       "       'Giving Voice', 'Hillbilly Elegy',\n",
       "       'Hope Frozen: A Quest to Live Twice', 'Imperial Dreams',\n",
       "       'Just Another Christmas', 'Little Miss Sumo', 'Malcolm & Marie',\n",
       "       \"Michael Bolton's Big, Sexy, Valentine's Day Special\", 'Moxie',\n",
       "       'Night in Paradise', 'Paper Lives', 'Parchis: The Documentary',\n",
       "       'Tallulah', 'The Old Guard', 'Tony Robbins: I Am Not Your Guru',\n",
       "       'Upstarts', '22 July', '7 años', 'A Futile and Stupid Gesture',\n",
       "       'A Life of Speed: The Juan Manuel Fangio Story',\n",
       "       'A Love Song for Latasha', 'All in My Family',\n",
       "       'Always Be My Maybe', 'Becoming', 'Long Live Brij Mohan',\n",
       "       'Calibre', 'Death to 2020', 'GIMS: On the Record',\n",
       "       'Have a Good Trip: Adventures in Psychedelics', 'Heroin(e) ',\n",
       "       'Mercury 13', 'Saving Capitalism', 'Serious Men',\n",
       "       'The Boys in the Band', 'The Boys in the Band: Something Personal',\n",
       "       'The Life Ahead', 'The Other Side of the Wind', 'The Trader',\n",
       "       'To the Bone', 'Tony Parker: The Final Shot', 'AK vs AK',\n",
       "       'Amanda Knox', 'Bigflo & Oil: Hip Hop Frenzy',\n",
       "       'Biggie: I Got a Story to Tell', 'Cops and Robbers',\n",
       "       \"I Don't Feel at Home in This World Anymore\", 'Laerte-se', 'Mank',\n",
       "       'Our Souls at Night', 'Outlaw King', 'Pagglait',\n",
       "       'ReMastered: Who Shot the Sheriff?', 'Seeing Allred',\n",
       "       'Spelling the Dream', 'The Claudia Kishi Club', 'The Half of It',\n",
       "       'The Highwaymen',\n",
       "       'The Lonely Island Presents: The Unauthorized Bash Brothers Experience',\n",
       "       'The Meyerowitz Stories (New and Selected)',\n",
       "       'Feminists: What Were They Thinking?', 'Gaga: Five Foot Two',\n",
       "       \"I'm No Longer Here: A Discussion with Guillermo del Toro and Alfonso Cuaron\",\n",
       "       'Kingdom of Us', 'Lorena, Light-Footed Woman',\n",
       "       'Los Tigres del Norte at Folsom Prison',\n",
       "       \"Ma Rainey's Black Bottom\",\n",
       "       \"Ma Rainey's Black Bottom: A Legacy Brought to Screen\",\n",
       "       'Operation Varsity Blues: The College Admissions Scandal', 'Pele',\n",
       "       'ReMastered: Devil at the Crossroads',\n",
       "       \"ReMastered: The Lion's Share\",\n",
       "       'ReMastered: The Miami Showband Massacre', 'Resurface',\n",
       "       \"Rocko's Modern Life: Static Cling\", 'Rose Island',\n",
       "       'The Christmas Chronicles', 'The Dirt', 'The Night Comes for Us',\n",
       "       '13th: A Conversation with Oprah Winfrey & Ava DuVernay',\n",
       "       \"Angela's Christmas\", \"Angela's Christmas Wish\", 'Beats',\n",
       "       'Circus of Books', 'Dance Dreams: Hot Chocolate Nutcracker',\n",
       "       'Derren Brown: Sacrifice', 'El Pepe: A Supreme Life', 'End Game',\n",
       "       'Evelyn', 'Ferry', 'Grass Is Greener',\n",
       "       'Guillermo Vilas: Settling the Score',\n",
       "       'Joshua: Teenager vs. Superpower',\n",
       "       'Keith Richards: Under the Influence', 'Knock Down the House',\n",
       "       'Loudon Wainwright III: Surviving Twin',\n",
       "       'My Beautiful Broken Brain', 'One of Us', 'Pieces of a Woman',\n",
       "       'Ram Dass, Going Home',\n",
       "       'ReMastered: Tricky Dick & the Man in Black', 'Rooting for Roona',\n",
       "       'The Devil All the Time', 'The Dig', 'The Great Hack',\n",
       "       'The White Tiger', \"To All the Boys I've Loved Before\",\n",
       "       'American Murder: The Family Next Door', 'Audrie & Daisy',\n",
       "       'First They Killed My Father',\n",
       "       'Fyre: The Greatest Party That Never Happened', 'Into the Inferno',\n",
       "       'LA Originals', 'Ladies First', 'Love per Square Foot',\n",
       "       'Paddleton', 'Private Life', 'Seventeen', 'Sometimes', 'Soni',\n",
       "       'The 40-Year-Old Version', 'The Disciple', 'The Edge of Democracy',\n",
       "       'The King', 'The Road to El Camino: A Breaking Bad Movie',\n",
       "       'The Siege of Jadotville', 'Zion ', 'Dolemite Is My Name',\n",
       "       'El Camino: A Breaking Bad Movie', 'Extremis',\n",
       "       'Father Soldier Son', 'Get Me Roger Stone', \"I'm No Longer Here\",\n",
       "       'Mucho Mucho Amor: The Legend of Walter Mercado ',\n",
       "       'Octonauts & the Great Barrier Reef', 'Okja', 'On My Skin',\n",
       "       'Raat Akeli Hai', 'ReMastered: Massacre at the Stadium',\n",
       "       'ReMastered: The Two Killings of Sam Cooke',\n",
       "       'Secrets of the Saqqara Tomb', 'Sitara: Let Girls Dream',\n",
       "       'Sky Ladder: The Art of Cai Guo-Qiang', 'Team Foxcatcher',\n",
       "       'The Ballad of Buster Scruggs',\n",
       "       'The Death and Life of Marsha P. Johnson',\n",
       "       'The Fundamentals of Caring',\n",
       "       'The Other One: The Long Strange Trip of Bob Weir',\n",
       "       'American Factory', 'Fire in Paradise', 'Long Shot',\n",
       "       'Miss Americana', 'Period. End of Sentence.',\n",
       "       'Shawn Mendes: Live in Concert', 'Shirkers', 'The Black Godfather',\n",
       "       'The Irishman: In Conversation', 'The Speed Cubers',\n",
       "       \"They'll Love Me When I'm Dead\", 'Tig',\n",
       "       \"Barbra: The Music, The Mem'ries, The Magic!\",\n",
       "       'Blackpink: Light Up the Sky', 'City of Joy',\n",
       "       'Dick Johnson Is Dead', 'Homecoming: A Film by Beyonce ',\n",
       "       'Invader Zim: Enter the Florpus',\n",
       "       'Joan Didion: The Center Will Not Hold',\n",
       "       'John Mulaney & the Sack Lunch Bunch', 'Reversing Roe',\n",
       "       'The White Helmets', 'Athlete A', 'Ludo', 'Quincy',\n",
       "       'Rolling Thunder Revue: A bob Dylan Story by Martin Scorsere',\n",
       "       'Tell Me Who I Am', 'The Bleeding Edge', 'The Social Dilemma',\n",
       "       'The Two Popes', 'What Happened, Miss Simone?', 'Yeh Ballet',\n",
       "       'Anima', 'Beasts of No Nation', 'Brene Brown: The Call to Courage',\n",
       "       'Crip Camp: A Disability Revolution',\n",
       "       'Jim & Andy: The Great Beyond - Featuring a Very Special, Contractually Obligated Mention of Tony Cliffton ',\n",
       "       'Justin Timberlake + The Tennessee Kids', 'Road to Roma', 'Roma',\n",
       "       'If Anything Happens I Love You', 'The Irishman',\n",
       "       'The Trial of the Chicago 7', 'A Secret Love', 'Icarus',\n",
       "       'Marriage Story', 'The Ivory Game',\n",
       "       'Struggle: The Life and Lost Art of Szukaiski', 'Chasing Coral ',\n",
       "       'My Octopus Teacher', 'Rising Phoenix', '13th',\n",
       "       'Disclosure: Trans Lives on Screen', 'Klaus', 'Seaspiracy',\n",
       "       'The Three Deaths of Marisela Escobedo', 'Cuba and the Cameraman ',\n",
       "       'Dancing with the Birds',\n",
       "       'Ben Platt: Live from Radio City Music Hall',\n",
       "       'Taylor Swift: Reputation Stadium Tour',\n",
       "       \"Winter on Fire: Ukraine's Fight for Freedom\",\n",
       "       'Springsteen on Broadway',\n",
       "       \"Emicida: AmarElo - It's All For Yesterday\",\n",
       "       'David Attenborough: A Life on Our Planet'], dtype=object)"
      ]
     },
     "execution_count": 37,
     "metadata": {},
     "output_type": "execute_result"
    }
   ],
   "source": [
    "netflix_df['Title'].unique()\n"
   ]
  },
  {
   "cell_type": "code",
   "execution_count": 38,
   "metadata": {},
   "outputs": [
    {
     "data": {
      "text/plain": [
       "array(['Documentary', 'Thriller', 'Science fiction/Drama',\n",
       "       'Horror thriller', 'Mystery', 'Action', 'Comedy',\n",
       "       'Heist film/Thriller', 'Musical/Western/Fantasy', 'Drama',\n",
       "       'Romantic comedy', 'Action comedy', 'Horror anthology',\n",
       "       'Political thriller', 'Superhero-Comedy', 'Horror',\n",
       "       'Romance drama', 'Anime / Short', 'Superhero', 'Heist', 'Western',\n",
       "       'Animation/Superhero', 'Family film', 'Action-thriller',\n",
       "       'Teen comedy-drama', 'Romantic drama', 'Animation',\n",
       "       'Aftershow / Interview', 'Christmas musical',\n",
       "       'Science fiction adventure', 'Science fiction', 'Variety show',\n",
       "       'Comedy-drama', 'Comedy/Fantasy/Family', 'Supernatural drama',\n",
       "       'Action/Comedy', 'Action/Science fiction',\n",
       "       'Romantic teenage drama', 'Comedy / Musical', 'Musical',\n",
       "       'Science fiction/Mystery', 'Crime drama',\n",
       "       'Psychological thriller drama', 'Adventure/Comedy', 'Black comedy',\n",
       "       'Romance', 'Horror comedy', 'Christian musical',\n",
       "       'Romantic teen drama', 'Family', 'Dark comedy', 'Comedy horror',\n",
       "       'Psychological thriller', 'Biopic', 'Science fiction/Thriller',\n",
       "       'Mockumentary', 'Satire', 'One-man show', 'Romantic comedy-drama',\n",
       "       'Comedy/Horror', 'Fantasy', 'Sports-drama', 'Zombie/Heist',\n",
       "       'Psychological horror', 'Sports film', 'Comedy mystery',\n",
       "       'Romantic thriller', 'Christmas comedy', 'War-Comedy',\n",
       "       'Romantic comedy/Holiday', 'Adventure-romance', 'Adventure',\n",
       "       'Horror-thriller', 'Dance comedy', 'Stop Motion',\n",
       "       'Horror/Crime drama', 'Urban fantasy', 'Drama/Horror',\n",
       "       'Family/Comedy-drama', 'War', 'Crime thriller',\n",
       "       'Science fiction/Action', 'Teen comedy horror', 'Concert Film',\n",
       "       'Musical comedy', 'Animation/Musical/Adventure',\n",
       "       'Animation / Musicial', 'Animation/Comedy/Adventure',\n",
       "       'Action thriller', 'Anime/Science fiction', 'Animation / Short',\n",
       "       'War drama', 'Family/Christmas musical',\n",
       "       'Science fiction thriller', 'Drama / Short',\n",
       "       'Hidden-camera prank comedy', 'Spy thriller', 'Anime/Fantasy',\n",
       "       'Animated musical comedy', 'Variety Show', 'Superhero/Action',\n",
       "       'Biographical/Comedy', 'Historical-epic', 'Animation / Comedy',\n",
       "       'Christmas/Fantasy/Adventure/Comedy', 'Mentalism special',\n",
       "       'Drama-Comedy', 'Coming-of-age comedy-drama', 'Historical drama',\n",
       "       'Making-of', 'Action-adventure', 'Animation / Science Fiction',\n",
       "       'Anthology/Dark comedy', 'Musical / Short',\n",
       "       'Animation/Christmas/Comedy/Adventure'], dtype=object)"
      ]
     },
     "execution_count": 38,
     "metadata": {},
     "output_type": "execute_result"
    }
   ],
   "source": [
    "netflix_df['Genre'].unique()\n"
   ]
  },
  {
   "cell_type": "markdown",
   "metadata": {},
   "source": [
    "For the *Genre* column, we can see that some multi-genre values are inconsistent with each other. Some have spaces before and after the \"/\" while others do not. This might cause difficulty later on in finding values so we want to change this to be having no space at all. <br> <br>\n",
    "The following code will do that:\n"
   ]
  },
  {
   "cell_type": "code",
   "execution_count": 39,
   "metadata": {},
   "outputs": [
    {
     "data": {
      "text/plain": [
       "array(['Documentary', 'Thriller', 'Science fiction/Drama',\n",
       "       'Horror thriller', 'Mystery', 'Action', 'Comedy',\n",
       "       'Heist film/Thriller', 'Musical/Western/Fantasy', 'Drama',\n",
       "       'Romantic comedy', 'Action comedy', 'Horror anthology',\n",
       "       'Political thriller', 'Superhero-Comedy', 'Horror',\n",
       "       'Romance drama', 'Anime/Short', 'Superhero', 'Heist', 'Western',\n",
       "       'Animation/Superhero', 'Family film', 'Action-thriller',\n",
       "       'Teen comedy-drama', 'Romantic drama', 'Animation',\n",
       "       'Aftershow/Interview', 'Christmas musical',\n",
       "       'Science fiction adventure', 'Science fiction', 'Variety show',\n",
       "       'Comedy-drama', 'Comedy/Fantasy/Family', 'Supernatural drama',\n",
       "       'Action/Comedy', 'Action/Science fiction',\n",
       "       'Romantic teenage drama', 'Comedy/Musical', 'Musical',\n",
       "       'Science fiction/Mystery', 'Crime drama',\n",
       "       'Psychological thriller drama', 'Adventure/Comedy', 'Black comedy',\n",
       "       'Romance', 'Horror comedy', 'Christian musical',\n",
       "       'Romantic teen drama', 'Family', 'Dark comedy', 'Comedy horror',\n",
       "       'Psychological thriller', 'Biopic', 'Science fiction/Thriller',\n",
       "       'Mockumentary', 'Satire', 'One-man show', 'Romantic comedy-drama',\n",
       "       'Comedy/Horror', 'Fantasy', 'Sports-drama', 'Zombie/Heist',\n",
       "       'Psychological horror', 'Sports film', 'Comedy mystery',\n",
       "       'Romantic thriller', 'Christmas comedy', 'War-Comedy',\n",
       "       'Romantic comedy/Holiday', 'Adventure-romance', 'Adventure',\n",
       "       'Horror-thriller', 'Dance comedy', 'Stop Motion',\n",
       "       'Horror/Crime drama', 'Urban fantasy', 'Drama/Horror',\n",
       "       'Family/Comedy-drama', 'War', 'Crime thriller',\n",
       "       'Science fiction/Action', 'Teen comedy horror', 'Concert Film',\n",
       "       'Musical comedy', 'Animation/Musical/Adventure',\n",
       "       'Animation/Musicial', 'Animation/Comedy/Adventure',\n",
       "       'Action thriller', 'Anime/Science fiction', 'Animation/Short',\n",
       "       'War drama', 'Family/Christmas musical',\n",
       "       'Science fiction thriller', 'Drama/Short',\n",
       "       'Hidden-camera prank comedy', 'Spy thriller', 'Anime/Fantasy',\n",
       "       'Animated musical comedy', 'Variety Show', 'Superhero/Action',\n",
       "       'Biographical/Comedy', 'Historical-epic', 'Animation/Comedy',\n",
       "       'Christmas/Fantasy/Adventure/Comedy', 'Mentalism special',\n",
       "       'Drama-Comedy', 'Coming-of-age comedy-drama', 'Historical drama',\n",
       "       'Making-of', 'Action-adventure', 'Animation/Science Fiction',\n",
       "       'Anthology/Dark comedy', 'Musical/Short',\n",
       "       'Animation/Christmas/Comedy/Adventure'], dtype=object)"
      ]
     },
     "execution_count": 39,
     "metadata": {},
     "output_type": "execute_result"
    }
   ],
   "source": [
    "netflix_df[\"Genre\"] = netflix_df[\"Genre\"].str.replace(\" / \",\"/\")\n",
    "netflix_df[\"Genre\"].unique()"
   ]
  },
  {
   "cell_type": "markdown",
   "metadata": {},
   "source": [
    "Another problem with the *Genre* column is that it has multiple representations of the same data, For example \"Black comedy\", \"Satire\" are both sub-genre of the Comedy Genre. We can just include them to be together. The following code will do that:"
   ]
  },
  {
   "cell_type": "code",
   "execution_count": 40,
   "metadata": {},
   "outputs": [
    {
     "data": {
      "text/plain": [
       "array(['Documentary', 'Thriller', 'Science fiction/Drama', 'Mystery',\n",
       "       'Action', 'Comedy', 'Heist film/Thriller',\n",
       "       'Musical/Western/Fantasy', 'Drama', 'Horror', 'Anime/Short',\n",
       "       'Superhero', 'Heist', 'Western', 'Animation/Superhero', 'Family',\n",
       "       'Animation', 'Aftershow/Interview', 'Musical', 'Adventure',\n",
       "       'Science fiction', 'Variety show', 'Comedy/Fantasy/Family',\n",
       "       'Action/Comedy', 'Action/Science fiction', 'Comedy/Musical',\n",
       "       'Science fiction/Mystery', 'Adventure/Comedy', 'Romance', 'Biopic',\n",
       "       'Science fiction/Thriller', 'Mockumentary', 'One-man show',\n",
       "       'Comedy/Horror', 'Fantasy', 'Zombie/Heist', 'Sports film',\n",
       "       'Stop Motion', 'Drama/Horror', 'War', 'Science fiction/Action',\n",
       "       'Concert Film', 'Animation/Musical/Adventure',\n",
       "       'Animation/Musicial', 'Animation/Comedy/Adventure',\n",
       "       'Anime/Science fiction', 'Animation/Short', 'Drama/Short',\n",
       "       'Anime/Fantasy', 'Variety Show', 'Superhero/Action',\n",
       "       'Biographical/Comedy', 'Historical-epic', 'Animation/Comedy',\n",
       "       'Christmas/Fantasy/Adventure/Comedy', 'Mentalism special',\n",
       "       'Making-of', 'Animation/Science Fiction', 'Musical/Short',\n",
       "       'Animation/Christmas/Comedy/Adventure'], dtype=object)"
      ]
     },
     "execution_count": 40,
     "metadata": {},
     "output_type": "execute_result"
    }
   ],
   "source": [
    "for i in range(len(netflix_df[\"Genre\"])):\n",
    "    if \"comedy\" in netflix_df[\"Genre\"][i] or \"-Comedy\" in netflix_df[\"Genre\"][i] or \"Satire\" in netflix_df[\"Genre\"][i]:\n",
    "        netflix_df[\"Genre\"] = netflix_df[\"Genre\"].replace({netflix_df[\"Genre\"][i]: \"Comedy\"})\n",
    "    if \"drama\" in netflix_df[\"Genre\"][i]:\n",
    "        netflix_df[\"Genre\"] = netflix_df[\"Genre\"].replace({netflix_df[\"Genre\"][i]: \"Drama\"})\n",
    "    if \"thriller\" in netflix_df[\"Genre\"][i]:\n",
    "        netflix_df[\"Genre\"] = netflix_df[\"Genre\"].replace({netflix_df[\"Genre\"][i]: \"Thriller\"})\n",
    "    if \"horror\" in netflix_df[\"Genre\"][i] or \"Horror anthology\" in netflix_df[\"Genre\"][i]:\n",
    "        netflix_df[\"Genre\"] = netflix_df[\"Genre\"].replace({netflix_df[\"Genre\"][i]: \"Horror\"})\n",
    "    if \"adventure\" in netflix_df[\"Genre\"][i]:\n",
    "        netflix_df[\"Genre\"] = netflix_df[\"Genre\"].replace({netflix_df[\"Genre\"][i]: \"Adventure\"})\n",
    "    if \"musical\" in netflix_df[\"Genre\"][i]:\n",
    "        netflix_df[\"Genre\"] = netflix_df[\"Genre\"].replace({netflix_df[\"Genre\"][i]: \"Musical\"})\n",
    "    if \"Family film\" in netflix_df[\"Genre\"][i]:\n",
    "        netflix_df[\"Genre\"] = netflix_df[\"Genre\"].replace({netflix_df[\"Genre\"][i]: \"Family\"})\n",
    "    if \"romance\" in netflix_df[\"Genre\"][i]:\n",
    "        netflix_df[\"Genre\"] = netflix_df[\"Genre\"].replace({netflix_df[\"Genre\"][i]: \"Romance\"})\n",
    "    if \"fantasy\" in netflix_df[\"Genre\"][i]:\n",
    "        netflix_df[\"Genre\"] = netflix_df[\"Genre\"].replace({netflix_df[\"Genre\"][i]: \"Fantasy\"})\n",
    "    if \"mystery\" in netflix_df[\"Genre\"][i]:\n",
    "        netflix_df[\"Genre\"] = netflix_df[\"Genre\"].replace({netflix_df[\"Genre\"][i]: \"Mystery\"})\n",
    "    if \"war\" in netflix_df[\"Genre\"][i]:\n",
    "        netflix_df[\"Genre\"] = netflix_df[\"Genre\"].replace({netflix_df[\"Genre\"][i]: \"Action\"})\n",
    "netflix_df[\"Genre\"].unique()"
   ]
  },
  {
   "cell_type": "code",
   "execution_count": 41,
   "metadata": {},
   "outputs": [
    {
     "data": {
      "text/plain": [
       "array(['2019-08-05T00:00:00.000000000', '2020-08-21T00:00:00.000000000',\n",
       "       '2019-12-26T00:00:00.000000000', '2018-01-19T00:00:00.000000000',\n",
       "       '2020-10-30T00:00:00.000000000', '2019-11-01T00:00:00.000000000',\n",
       "       '2020-12-04T00:00:00.000000000', '2020-06-05T00:00:00.000000000',\n",
       "       '2018-03-23T00:00:00.000000000', '2021-05-18T00:00:00.000000000',\n",
       "       '2021-04-22T00:00:00.000000000', '2020-11-27T00:00:00.000000000',\n",
       "       '2020-09-18T00:00:00.000000000', '2020-10-01T00:00:00.000000000',\n",
       "       '2016-11-22T00:00:00.000000000', '2019-12-19T00:00:00.000000000',\n",
       "       '2020-01-01T00:00:00.000000000', '2020-02-21T00:00:00.000000000',\n",
       "       '2021-01-01T00:00:00.000000000', '2017-08-25T00:00:00.000000000',\n",
       "       '2019-09-13T00:00:00.000000000', '2019-07-18T00:00:00.000000000',\n",
       "       '2019-08-16T00:00:00.000000000', '2021-02-26T00:00:00.000000000',\n",
       "       '2021-04-09T00:00:00.000000000', '2020-07-16T00:00:00.000000000',\n",
       "       '2021-04-02T00:00:00.000000000', '2020-07-31T00:00:00.000000000',\n",
       "       '2021-02-10T00:00:00.000000000', '2018-12-07T00:00:00.000000000',\n",
       "       '2019-05-24T00:00:00.000000000', '2016-10-28T00:00:00.000000000',\n",
       "       '2019-02-22T00:00:00.000000000', '2019-12-03T00:00:00.000000000',\n",
       "       '2019-10-25T00:00:00.000000000', '2020-07-15T00:00:00.000000000',\n",
       "       '2020-07-14T00:00:00.000000000', '2020-11-30T00:00:00.000000000',\n",
       "       '2019-01-18T00:00:00.000000000', '2021-03-05T00:00:00.000000000',\n",
       "       '2020-04-02T00:00:00.000000000', '2020-10-02T00:00:00.000000000',\n",
       "       '2020-12-25T00:00:00.000000000', '2017-01-06T00:00:00.000000000',\n",
       "       '2020-05-01T00:00:00.000000000', '2020-10-28T00:00:00.000000000',\n",
       "       '2017-01-20T00:00:00.000000000', '2020-04-10T00:00:00.000000000',\n",
       "       '2015-12-11T00:00:00.000000000', '2020-04-17T00:00:00.000000000',\n",
       "       '2020-08-14T00:00:00.000000000', '2019-11-28T00:00:00.000000000',\n",
       "       '2020-01-23T00:00:00.000000000', '2018-07-13T00:00:00.000000000',\n",
       "       '2020-10-15T00:00:00.000000000', '2016-07-15T00:00:00.000000000',\n",
       "       '2021-02-11T00:00:00.000000000', '2020-10-22T00:00:00.000000000',\n",
       "       '2017-01-13T00:00:00.000000000', '2020-04-03T00:00:00.000000000',\n",
       "       '2018-04-20T00:00:00.000000000', '2021-02-25T00:00:00.000000000',\n",
       "       '2020-07-23T00:00:00.000000000', '2017-09-08T00:00:00.000000000',\n",
       "       '2019-08-21T00:00:00.000000000', '2020-07-03T00:00:00.000000000',\n",
       "       '2020-11-22T00:00:00.000000000', '2018-07-20T00:00:00.000000000',\n",
       "       '2021-05-26T00:00:00.000000000', '2017-02-14T00:00:00.000000000',\n",
       "       '2017-05-05T00:00:00.000000000', '2020-10-07T00:00:00.000000000',\n",
       "       '2018-05-25T00:00:00.000000000', '2017-04-14T00:00:00.000000000',\n",
       "       '2019-05-17T00:00:00.000000000', '2019-05-14T00:00:00.000000000',\n",
       "       '2021-02-05T00:00:00.000000000', '2018-04-27T00:00:00.000000000',\n",
       "       '2018-11-30T00:00:00.000000000', '2019-08-30T00:00:00.000000000',\n",
       "       '2020-04-30T00:00:00.000000000', '2020-08-12T00:00:00.000000000',\n",
       "       '2020-05-28T00:00:00.000000000', '2018-09-07T00:00:00.000000000',\n",
       "       '2021-04-29T00:00:00.000000000', '2018-06-24T00:00:00.000000000',\n",
       "       '2019-04-12T00:00:00.000000000', '2016-08-26T00:00:00.000000000',\n",
       "       '2019-12-05T00:00:00.000000000', '2019-05-03T00:00:00.000000000',\n",
       "       '2020-09-02T00:00:00.000000000', '2020-03-06T00:00:00.000000000',\n",
       "       '2019-10-04T00:00:00.000000000', '2017-08-11T00:00:00.000000000',\n",
       "       '2021-01-15T00:00:00.000000000', '2020-11-19T00:00:00.000000000',\n",
       "       '2020-07-01T00:00:00.000000000', '2015-12-04T00:00:00.000000000',\n",
       "       '2018-10-26T00:00:00.000000000', '2019-12-01T00:00:00.000000000',\n",
       "       '2021-04-28T00:00:00.000000000', '2019-10-16T00:00:00.000000000',\n",
       "       '2019-11-15T00:00:00.000000000', '2019-02-08T00:00:00.000000000',\n",
       "       '2018-02-23T00:00:00.000000000', '2021-04-15T00:00:00.000000000',\n",
       "       '2018-02-04T00:00:00.000000000', '2019-11-21T00:00:00.000000000',\n",
       "       '2018-07-06T00:00:00.000000000', '2018-08-10T00:00:00.000000000',\n",
       "       '2019-04-05T00:00:00.000000000', '2019-05-10T00:00:00.000000000',\n",
       "       '2017-10-12T00:00:00.000000000', '2016-07-07T00:00:00.000000000',\n",
       "       '2019-08-29T00:00:00.000000000', '2018-09-28T00:00:00.000000000',\n",
       "       '2020-09-03T00:00:00.000000000', '2020-06-19T00:00:00.000000000',\n",
       "       '2020-10-27T00:00:00.000000000', '2019-01-11T00:00:00.000000000',\n",
       "       '2020-12-23T00:00:00.000000000', '2020-09-16T00:00:00.000000000',\n",
       "       '2021-04-14T00:00:00.000000000', '2021-03-26T00:00:00.000000000',\n",
       "       '2021-03-25T00:00:00.000000000', '2017-12-15T00:00:00.000000000',\n",
       "       '2020-09-11T00:00:00.000000000', '2017-12-08T00:00:00.000000000',\n",
       "       '2019-10-18T00:00:00.000000000', '2020-10-09T00:00:00.000000000',\n",
       "       '2019-05-16T00:00:00.000000000', '2019-01-04T00:00:00.000000000',\n",
       "       '2017-09-01T00:00:00.000000000', '2020-06-18T00:00:00.000000000',\n",
       "       '2018-12-12T00:00:00.000000000', '2019-07-12T00:00:00.000000000',\n",
       "       '2016-05-27T00:00:00.000000000', '2018-11-02T00:00:00.000000000',\n",
       "       '2021-05-14T00:00:00.000000000', '2020-05-13T00:00:00.000000000',\n",
       "       '2019-02-01T00:00:00.000000000', '2021-03-12T00:00:00.000000000',\n",
       "       '2019-03-29T00:00:00.000000000', '2020-12-14T00:00:00.000000000',\n",
       "       '2017-11-17T00:00:00.000000000', '2016-12-16T00:00:00.000000000',\n",
       "       '2018-07-27T00:00:00.000000000', '2018-03-30T00:00:00.000000000',\n",
       "       '2019-11-08T00:00:00.000000000', '2016-10-13T00:00:00.000000000',\n",
       "       '2020-11-05T00:00:00.000000000', '2017-04-28T00:00:00.000000000',\n",
       "       '2016-04-29T00:00:00.000000000', '2018-06-29T00:00:00.000000000',\n",
       "       '2018-08-24T00:00:00.000000000', '2020-09-10T00:00:00.000000000',\n",
       "       '2020-12-07T00:00:00.000000000', '2020-07-24T00:00:00.000000000',\n",
       "       '2020-11-11T00:00:00.000000000', '2018-04-06T00:00:00.000000000',\n",
       "       '2020-01-17T00:00:00.000000000', '2021-05-21T00:00:00.000000000',\n",
       "       '2018-11-16T00:00:00.000000000', '2019-07-16T00:00:00.000000000',\n",
       "       '2020-02-07T00:00:00.000000000', '2020-03-27T00:00:00.000000000',\n",
       "       '2018-01-12T00:00:00.000000000', '2020-12-11T00:00:00.000000000',\n",
       "       '2016-11-11T00:00:00.000000000', '2020-03-20T00:00:00.000000000',\n",
       "       '2018-04-13T00:00:00.000000000', '2018-05-04T00:00:00.000000000',\n",
       "       '2017-01-27T00:00:00.000000000', '2019-08-09T00:00:00.000000000',\n",
       "       '2019-03-08T00:00:00.000000000', '2019-06-14T00:00:00.000000000',\n",
       "       '2020-10-21T00:00:00.000000000', '2020-11-25T00:00:00.000000000',\n",
       "       '2018-05-11T00:00:00.000000000', '2020-02-12T00:00:00.000000000',\n",
       "       '2017-05-26T00:00:00.000000000', '2019-12-13T00:00:00.000000000',\n",
       "       '2019-09-20T00:00:00.000000000', '2017-03-10T00:00:00.000000000',\n",
       "       '2017-03-17T00:00:00.000000000', '2021-01-29T00:00:00.000000000',\n",
       "       '2015-05-29T00:00:00.000000000', '2018-08-03T00:00:00.000000000',\n",
       "       '2020-03-13T00:00:00.000000000', '2019-08-02T00:00:00.000000000',\n",
       "       '2016-03-18T00:00:00.000000000', '2021-01-08T00:00:00.000000000',\n",
       "       '2021-04-01T00:00:00.000000000', '2017-11-10T00:00:00.000000000',\n",
       "       '2020-05-22T00:00:00.000000000', '2017-03-24T00:00:00.000000000',\n",
       "       '2020-08-28T00:00:00.000000000', '2020-08-07T00:00:00.000000000',\n",
       "       '2020-11-20T00:00:00.000000000', '2020-11-06T00:00:00.000000000',\n",
       "       '2020-08-17T00:00:00.000000000', '2019-09-27T00:00:00.000000000',\n",
       "       '2019-04-19T00:00:00.000000000', '2018-09-14T00:00:00.000000000',\n",
       "       '2017-12-01T00:00:00.000000000', '2017-04-07T00:00:00.000000000',\n",
       "       '2017-10-20T00:00:00.000000000', '2019-05-22T00:00:00.000000000',\n",
       "       '2018-06-08T00:00:00.000000000', '2018-10-12T00:00:00.000000000',\n",
       "       '2018-03-16T00:00:00.000000000', '2017-12-22T00:00:00.000000000',\n",
       "       '2018-05-18T00:00:00.000000000', '2021-03-18T00:00:00.000000000',\n",
       "       '2021-01-28T00:00:00.000000000', '2020-11-24T00:00:00.000000000',\n",
       "       '2019-01-25T00:00:00.000000000', '2018-12-21T00:00:00.000000000',\n",
       "       '2017-04-21T00:00:00.000000000', '2017-06-09T00:00:00.000000000',\n",
       "       '2016-12-09T00:00:00.000000000', '2017-10-13T00:00:00.000000000',\n",
       "       '2017-03-31T00:00:00.000000000', '2019-10-11T00:00:00.000000000',\n",
       "       '2018-03-09T00:00:00.000000000', '2020-04-23T00:00:00.000000000',\n",
       "       '2021-02-12T00:00:00.000000000', '2019-08-28T00:00:00.000000000',\n",
       "       '2020-08-05T00:00:00.000000000', '2020-12-21T00:00:00.000000000',\n",
       "       '2016-09-16T00:00:00.000000000', '2019-09-25T00:00:00.000000000',\n",
       "       '2019-12-24T00:00:00.000000000', '2018-02-16T00:00:00.000000000',\n",
       "       '2020-02-14T00:00:00.000000000', '2020-08-20T00:00:00.000000000',\n",
       "       '2020-04-29T00:00:00.000000000', '2014-12-13T00:00:00.000000000',\n",
       "       '2018-09-21T00:00:00.000000000', '2020-10-23T00:00:00.000000000',\n",
       "       '2019-10-12T00:00:00.000000000', '2017-09-15T00:00:00.000000000',\n",
       "       '2021-01-14T00:00:00.000000000', '2020-03-25T00:00:00.000000000',\n",
       "       '2020-04-22T00:00:00.000000000', '2019-03-13T00:00:00.000000000',\n",
       "       '2018-02-09T00:00:00.000000000', '2019-10-28T00:00:00.000000000',\n",
       "       '2020-02-28T00:00:00.000000000', '2020-03-19T00:00:00.000000000',\n",
       "       '2019-03-21T00:00:00.000000000', '2021-04-17T00:00:00.000000000',\n",
       "       '2019-05-31T00:00:00.000000000', '2020-06-12T00:00:00.000000000',\n",
       "       '2021-04-07T00:00:00.000000000', '2020-06-26T00:00:00.000000000',\n",
       "       '2017-09-29T00:00:00.000000000', '2020-11-13T00:00:00.000000000',\n",
       "       '2018-06-15T00:00:00.000000000', '2021-05-07T00:00:00.000000000',\n",
       "       '2020-06-24T00:00:00.000000000', '2017-06-23T00:00:00.000000000',\n",
       "       '2021-05-12T00:00:00.000000000', '2017-07-28T00:00:00.000000000',\n",
       "       '2020-01-20T00:00:00.000000000', '2019-06-07T00:00:00.000000000',\n",
       "       '2016-08-19T00:00:00.000000000', '2020-09-04T00:00:00.000000000',\n",
       "       '2020-11-23T00:00:00.000000000', '2019-07-31T00:00:00.000000000',\n",
       "       '2021-04-16T00:00:00.000000000', '2019-11-20T00:00:00.000000000',\n",
       "       '2017-05-20T00:00:00.000000000', '2021-05-27T00:00:00.000000000',\n",
       "       '2017-06-16T00:00:00.000000000', '2021-01-11T00:00:00.000000000',\n",
       "       '2020-04-24T00:00:00.000000000', '2020-09-15T00:00:00.000000000',\n",
       "       '2017-02-03T00:00:00.000000000', '2020-12-03T00:00:00.000000000',\n",
       "       '2017-02-07T00:00:00.000000000', '2021-03-03T00:00:00.000000000',\n",
       "       '2019-07-10T00:00:00.000000000', '2016-07-29T00:00:00.000000000',\n",
       "       '2020-07-10T00:00:00.000000000', '2018-10-10T00:00:00.000000000',\n",
       "       '2018-01-26T00:00:00.000000000', '2020-09-21T00:00:00.000000000',\n",
       "       '2020-05-06T00:00:00.000000000', '2020-12-27T00:00:00.000000000',\n",
       "       '2020-09-17T00:00:00.000000000', '2020-05-11T00:00:00.000000000',\n",
       "       '2017-09-12T00:00:00.000000000', '2017-11-21T00:00:00.000000000',\n",
       "       '2020-09-30T00:00:00.000000000', '2017-07-14T00:00:00.000000000',\n",
       "       '2021-01-06T00:00:00.000000000', '2020-12-24T00:00:00.000000000',\n",
       "       '2016-09-30T00:00:00.000000000', '2020-10-08T00:00:00.000000000',\n",
       "       '2021-03-01T00:00:00.000000000', '2020-12-28T00:00:00.000000000',\n",
       "       '2017-02-24T00:00:00.000000000', '2017-05-19T00:00:00.000000000',\n",
       "       '2018-11-09T00:00:00.000000000', '2020-06-03T00:00:00.000000000',\n",
       "       '2019-05-23T00:00:00.000000000', '2017-09-22T00:00:00.000000000',\n",
       "       '2020-11-03T00:00:00.000000000', '2019-09-15T00:00:00.000000000',\n",
       "       '2020-12-18T00:00:00.000000000', '2021-03-17T00:00:00.000000000',\n",
       "       '2021-02-23T00:00:00.000000000', '2019-04-26T00:00:00.000000000',\n",
       "       '2019-03-22T00:00:00.000000000', '2020-12-09T00:00:00.000000000',\n",
       "       '2018-11-22T00:00:00.000000000', '2018-10-19T00:00:00.000000000',\n",
       "       '2017-01-26T00:00:00.000000000', '2020-12-01T00:00:00.000000000',\n",
       "       '2019-06-19T00:00:00.000000000', '2019-12-27T00:00:00.000000000',\n",
       "       '2019-09-10T00:00:00.000000000', '2019-04-20T00:00:00.000000000',\n",
       "       '2015-09-18T00:00:00.000000000', '2019-05-01T00:00:00.000000000',\n",
       "       '2018-11-13T00:00:00.000000000', '2021-01-07T00:00:00.000000000',\n",
       "       '2019-07-24T00:00:00.000000000', '2021-01-22T00:00:00.000000000',\n",
       "       '2018-08-17T00:00:00.000000000', '2016-09-23T00:00:00.000000000',\n",
       "       '2018-03-08T00:00:00.000000000', '2018-02-14T00:00:00.000000000',\n",
       "       '2018-10-05T00:00:00.000000000', '2018-05-01T00:00:00.000000000',\n",
       "       '2021-04-30T00:00:00.000000000', '2019-10-29T00:00:00.000000000',\n",
       "       '2016-10-07T00:00:00.000000000', '2016-09-13T00:00:00.000000000',\n",
       "       '2020-07-17T00:00:00.000000000', '2017-05-12T00:00:00.000000000',\n",
       "       '2020-05-27T00:00:00.000000000', '2020-07-08T00:00:00.000000000',\n",
       "       '2020-10-13T00:00:00.000000000', '2017-06-28T00:00:00.000000000',\n",
       "       '2018-09-12T00:00:00.000000000', '2020-03-08T00:00:00.000000000',\n",
       "       '2016-10-14T00:00:00.000000000', '2017-10-06T00:00:00.000000000',\n",
       "       '2016-06-24T00:00:00.000000000', '2015-05-22T00:00:00.000000000',\n",
       "       '2020-01-31T00:00:00.000000000', '2019-02-12T00:00:00.000000000',\n",
       "       '2019-11-27T00:00:00.000000000', '2020-07-29T00:00:00.000000000',\n",
       "       '2015-07-17T00:00:00.000000000', '2017-11-22T00:00:00.000000000',\n",
       "       '2020-10-14T00:00:00.000000000', '2019-04-17T00:00:00.000000000',\n",
       "       '2017-10-27T00:00:00.000000000', '2018-09-13T00:00:00.000000000',\n",
       "       '2020-11-12T00:00:00.000000000', '2019-06-12T00:00:00.000000000',\n",
       "       '2020-09-09T00:00:00.000000000', '2019-12-20T00:00:00.000000000',\n",
       "       '2015-06-26T00:00:00.000000000', '2019-06-27T00:00:00.000000000',\n",
       "       '2015-10-16T00:00:00.000000000', '2016-10-12T00:00:00.000000000',\n",
       "       '2020-02-11T00:00:00.000000000', '2018-12-14T00:00:00.000000000',\n",
       "       '2020-10-16T00:00:00.000000000', '2017-08-04T00:00:00.000000000',\n",
       "       '2019-12-06T00:00:00.000000000', '2016-11-04T00:00:00.000000000',\n",
       "       '2020-09-07T00:00:00.000000000', '2020-08-26T00:00:00.000000000',\n",
       "       '2021-03-24T00:00:00.000000000', '2017-11-24T00:00:00.000000000',\n",
       "       '2019-10-23T00:00:00.000000000', '2020-05-20T00:00:00.000000000',\n",
       "       '2018-12-31T00:00:00.000000000', '2015-10-09T00:00:00.000000000',\n",
       "       '2018-12-16T00:00:00.000000000', '2020-12-08T00:00:00.000000000',\n",
       "       '2020-10-04T00:00:00.000000000'], dtype='datetime64[ns]')"
      ]
     },
     "execution_count": 41,
     "metadata": {},
     "output_type": "execute_result"
    }
   ],
   "source": [
    "netflix_df[\"Premiere\"].unique()"
   ]
  },
  {
   "cell_type": "code",
   "execution_count": 42,
   "metadata": {},
   "outputs": [
    {
     "data": {
      "text/plain": [
       "array([ 58,  81,  79,  94,  90, 147, 112, 149,  73, 139,  97, 101,  25,\n",
       "       144, 115, 102, 100,  64,  99, 120, 105,  89, 107,  95,  37,  83,\n",
       "        46,  85,  88,  86,  80,   4,  93, 106, 103, 119,  96, 113, 104,\n",
       "        10,  98, 117,  70, 131,  87,  60, 116,  92, 121,  78, 114,  56,\n",
       "        21,  63, 126, 142, 108, 125,  91,  49, 118,  34, 124,  52, 111,\n",
       "        75, 148,  32,  23,  53, 132, 123, 122, 128,  82,  84,  42, 151,\n",
       "        72,  30, 129,  44, 134, 109,  16,  41,  28,  74,   9, 155,  55,\n",
       "        40,  17, 136, 130,  19,  54,  76,  39,   7,  57,  14,  31,  48,\n",
       "        27,  45,  36,  47, 110, 138, 133, 140,  13,  11,  24,  15,  26,\n",
       "       137,  71, 135,  12, 209,  51, 153])"
      ]
     },
     "execution_count": 42,
     "metadata": {},
     "output_type": "execute_result"
    }
   ],
   "source": [
    "netflix_df[\"Runtime\"].unique()"
   ]
  },
  {
   "cell_type": "code",
   "execution_count": 43,
   "metadata": {},
   "outputs": [
    {
     "data": {
      "text/plain": [
       "array([2.5, 2.6, 3.2, 3.4, 3.5, 3.7, 3.9, 4.1, 4.2, 4.3, 4.4, 4.5, 4.6,\n",
       "       4.7, 4.8, 4.9, 5. , 5.1, 5.2, 5.3, 5.4, 5.5, 5.6, 5.7, 5.8, 5.9,\n",
       "       6. , 6.1, 6.2, 6.3, 6.4, 6.5, 6.6, 6.7, 6.8, 6.9, 7. , 7.1, 7.2,\n",
       "       7.3, 7.4, 7.5, 7.6, 7.7, 7.8, 7.9, 8. , 8.1, 8.2, 8.3, 8.4, 8.5,\n",
       "       8.6, 9. ])"
      ]
     },
     "execution_count": 43,
     "metadata": {},
     "output_type": "execute_result"
    }
   ],
   "source": [
    "netflix_df[\"IMDB Score\"].unique()"
   ]
  },
  {
   "cell_type": "code",
   "execution_count": 44,
   "metadata": {},
   "outputs": [
    {
     "data": {
      "text/plain": [
       "array(['English/Japanese', 'Spanish', 'Italian', 'English', 'Hindi',\n",
       "       'Turkish', 'Korean', 'Indonesian', 'Malay', 'Dutch', 'French',\n",
       "       'English/Spanish', 'Portuguese', 'Filipino', 'German', 'Polish',\n",
       "       'Norwegian', 'Marathi', 'Thai', 'Swedish', 'Japanese',\n",
       "       'Spanish/Basque', 'Spanish/Catalan', 'English/Swedish',\n",
       "       'English/Taiwanese/Mandarin', 'Thia/English', 'English/Mandarin',\n",
       "       'Georgian', 'Bengali', 'Khmer/English/French', 'English/Hindi',\n",
       "       'Tamil', 'Spanish/English', 'English/Korean', 'English/Arabic',\n",
       "       'English/Russian', 'English/Akan', 'English/Ukranian/Russian'],\n",
       "      dtype=object)"
      ]
     },
     "execution_count": 44,
     "metadata": {},
     "output_type": "execute_result"
    }
   ],
   "source": [
    "netflix_df[\"Language\"].unique()"
   ]
  },
  {
   "cell_type": "markdown",
   "metadata": {},
   "source": [
    "One of the values presented has a typo error. Instead of *\"Thia/English\"*, it should be *\"Thai/English\"*. The following code will correct this."
   ]
  },
  {
   "cell_type": "code",
   "execution_count": 45,
   "metadata": {},
   "outputs": [
    {
     "data": {
      "text/plain": [
       "array(['English/Japanese', 'Spanish', 'Italian', 'English', 'Hindi',\n",
       "       'Turkish', 'Korean', 'Indonesian', 'Malay', 'Dutch', 'French',\n",
       "       'English/Spanish', 'Portuguese', 'Filipino', 'German', 'Polish',\n",
       "       'Norwegian', 'Marathi', 'Thai', 'Swedish', 'Japanese',\n",
       "       'Spanish/Basque', 'Spanish/Catalan', 'English/Swedish',\n",
       "       'English/Taiwanese/Mandarin', 'Thai/English', 'English/Mandarin',\n",
       "       'Georgian', 'Bengali', 'Khmer/English/French', 'English/Hindi',\n",
       "       'Tamil', 'Spanish/English', 'English/Korean', 'English/Arabic',\n",
       "       'English/Russian', 'English/Akan', 'English/Ukranian/Russian'],\n",
       "      dtype=object)"
      ]
     },
     "execution_count": 45,
     "metadata": {},
     "output_type": "execute_result"
    }
   ],
   "source": [
    "netflix_df[\"Language\"] = netflix_df[\"Language\"].str.replace(\"Thia/English\",\"Thai/English\")\n",
    "netflix_df[\"Language\"].unique()"
   ]
  },
  {
   "cell_type": "markdown",
   "metadata": {},
   "source": [
    "The data that contained *\"Thia/English\"* has now been converted to *\"Thai/English\"*"
   ]
  },
  {
   "cell_type": "markdown",
   "metadata": {},
   "source": [
    "However, the languages could be divided into more columns as it would describe the languages present in the specific film better."
   ]
  },
  {
   "cell_type": "code",
   "execution_count": 46,
   "metadata": {},
   "outputs": [
    {
     "data": {
      "text/html": [
       "<div>\n",
       "<style scoped>\n",
       "    .dataframe tbody tr th:only-of-type {\n",
       "        vertical-align: middle;\n",
       "    }\n",
       "\n",
       "    .dataframe tbody tr th {\n",
       "        vertical-align: top;\n",
       "    }\n",
       "\n",
       "    .dataframe thead th {\n",
       "        text-align: right;\n",
       "    }\n",
       "</style>\n",
       "<table border=\"1\" class=\"dataframe\">\n",
       "  <thead>\n",
       "    <tr style=\"text-align: right;\">\n",
       "      <th></th>\n",
       "      <th>Title</th>\n",
       "      <th>Genre</th>\n",
       "      <th>Premiere</th>\n",
       "      <th>Runtime</th>\n",
       "      <th>IMDB Score</th>\n",
       "      <th>Language1</th>\n",
       "      <th>Language2</th>\n",
       "      <th>Language3</th>\n",
       "    </tr>\n",
       "  </thead>\n",
       "  <tbody>\n",
       "    <tr>\n",
       "      <th>0</th>\n",
       "      <td>Enter the Anime</td>\n",
       "      <td>Documentary</td>\n",
       "      <td>2019-08-05</td>\n",
       "      <td>58</td>\n",
       "      <td>2.5</td>\n",
       "      <td>English</td>\n",
       "      <td>Japanese</td>\n",
       "      <td>None</td>\n",
       "    </tr>\n",
       "    <tr>\n",
       "      <th>1</th>\n",
       "      <td>Dark Forces</td>\n",
       "      <td>Thriller</td>\n",
       "      <td>2020-08-21</td>\n",
       "      <td>81</td>\n",
       "      <td>2.6</td>\n",
       "      <td>Spanish</td>\n",
       "      <td>None</td>\n",
       "      <td>None</td>\n",
       "    </tr>\n",
       "    <tr>\n",
       "      <th>2</th>\n",
       "      <td>The App</td>\n",
       "      <td>Science fiction/Drama</td>\n",
       "      <td>2019-12-26</td>\n",
       "      <td>79</td>\n",
       "      <td>2.6</td>\n",
       "      <td>Italian</td>\n",
       "      <td>None</td>\n",
       "      <td>None</td>\n",
       "    </tr>\n",
       "    <tr>\n",
       "      <th>3</th>\n",
       "      <td>The Open House</td>\n",
       "      <td>Thriller</td>\n",
       "      <td>2018-01-19</td>\n",
       "      <td>94</td>\n",
       "      <td>3.2</td>\n",
       "      <td>English</td>\n",
       "      <td>None</td>\n",
       "      <td>None</td>\n",
       "    </tr>\n",
       "    <tr>\n",
       "      <th>4</th>\n",
       "      <td>Kaali Khuhi</td>\n",
       "      <td>Mystery</td>\n",
       "      <td>2020-10-30</td>\n",
       "      <td>90</td>\n",
       "      <td>3.4</td>\n",
       "      <td>Hindi</td>\n",
       "      <td>None</td>\n",
       "      <td>None</td>\n",
       "    </tr>\n",
       "    <tr>\n",
       "      <th>...</th>\n",
       "      <td>...</td>\n",
       "      <td>...</td>\n",
       "      <td>...</td>\n",
       "      <td>...</td>\n",
       "      <td>...</td>\n",
       "      <td>...</td>\n",
       "      <td>...</td>\n",
       "      <td>...</td>\n",
       "    </tr>\n",
       "    <tr>\n",
       "      <th>579</th>\n",
       "      <td>Taylor Swift: Reputation Stadium Tour</td>\n",
       "      <td>Concert Film</td>\n",
       "      <td>2018-12-31</td>\n",
       "      <td>125</td>\n",
       "      <td>8.4</td>\n",
       "      <td>English</td>\n",
       "      <td>None</td>\n",
       "      <td>None</td>\n",
       "    </tr>\n",
       "    <tr>\n",
       "      <th>580</th>\n",
       "      <td>Winter on Fire: Ukraine's Fight for Freedom</td>\n",
       "      <td>Documentary</td>\n",
       "      <td>2015-10-09</td>\n",
       "      <td>91</td>\n",
       "      <td>8.4</td>\n",
       "      <td>English</td>\n",
       "      <td>Ukranian</td>\n",
       "      <td>Russian</td>\n",
       "    </tr>\n",
       "    <tr>\n",
       "      <th>581</th>\n",
       "      <td>Springsteen on Broadway</td>\n",
       "      <td>One-man show</td>\n",
       "      <td>2018-12-16</td>\n",
       "      <td>153</td>\n",
       "      <td>8.5</td>\n",
       "      <td>English</td>\n",
       "      <td>None</td>\n",
       "      <td>None</td>\n",
       "    </tr>\n",
       "    <tr>\n",
       "      <th>582</th>\n",
       "      <td>Emicida: AmarElo - It's All For Yesterday</td>\n",
       "      <td>Documentary</td>\n",
       "      <td>2020-12-08</td>\n",
       "      <td>89</td>\n",
       "      <td>8.6</td>\n",
       "      <td>Portuguese</td>\n",
       "      <td>None</td>\n",
       "      <td>None</td>\n",
       "    </tr>\n",
       "    <tr>\n",
       "      <th>583</th>\n",
       "      <td>David Attenborough: A Life on Our Planet</td>\n",
       "      <td>Documentary</td>\n",
       "      <td>2020-10-04</td>\n",
       "      <td>83</td>\n",
       "      <td>9.0</td>\n",
       "      <td>English</td>\n",
       "      <td>None</td>\n",
       "      <td>None</td>\n",
       "    </tr>\n",
       "  </tbody>\n",
       "</table>\n",
       "<p>584 rows × 8 columns</p>\n",
       "</div>"
      ],
      "text/plain": [
       "                                           Title                  Genre  \\\n",
       "0                                Enter the Anime            Documentary   \n",
       "1                                    Dark Forces               Thriller   \n",
       "2                                        The App  Science fiction/Drama   \n",
       "3                                 The Open House               Thriller   \n",
       "4                                    Kaali Khuhi                Mystery   \n",
       "..                                           ...                    ...   \n",
       "579        Taylor Swift: Reputation Stadium Tour           Concert Film   \n",
       "580  Winter on Fire: Ukraine's Fight for Freedom            Documentary   \n",
       "581                      Springsteen on Broadway           One-man show   \n",
       "582    Emicida: AmarElo - It's All For Yesterday            Documentary   \n",
       "583     David Attenborough: A Life on Our Planet            Documentary   \n",
       "\n",
       "      Premiere  Runtime  IMDB Score   Language1 Language2 Language3  \n",
       "0   2019-08-05       58         2.5     English  Japanese      None  \n",
       "1   2020-08-21       81         2.6     Spanish      None      None  \n",
       "2   2019-12-26       79         2.6     Italian      None      None  \n",
       "3   2018-01-19       94         3.2     English      None      None  \n",
       "4   2020-10-30       90         3.4       Hindi      None      None  \n",
       "..         ...      ...         ...         ...       ...       ...  \n",
       "579 2018-12-31      125         8.4     English      None      None  \n",
       "580 2015-10-09       91         8.4     English  Ukranian   Russian  \n",
       "581 2018-12-16      153         8.5     English      None      None  \n",
       "582 2020-12-08       89         8.6  Portuguese      None      None  \n",
       "583 2020-10-04       83         9.0     English      None      None  \n",
       "\n",
       "[584 rows x 8 columns]"
      ]
     },
     "execution_count": 46,
     "metadata": {},
     "output_type": "execute_result"
    }
   ],
   "source": [
    "netflix_df[[\"Language1\", \"Language2\", \"Language3\"]] = netflix_df['Language'].str.split(\"/\",expand=True)\n",
    "netflix_df.drop(\"Language\",inplace=True,axis=1)\n",
    "netflix_df"
   ]
  },
  {
   "cell_type": "code",
   "execution_count": null,
   "metadata": {},
   "outputs": [],
   "source": []
  },
  {
   "cell_type": "code",
   "execution_count": null,
   "metadata": {},
   "outputs": [],
   "source": []
  },
  {
   "cell_type": "code",
   "execution_count": null,
   "metadata": {},
   "outputs": [],
   "source": []
  },
  {
   "cell_type": "markdown",
   "metadata": {},
   "source": [
    "From the following blocks of code, only the *Genre* and *Language* columns had issues then was fixed. The rest of the data in other columns were consistent with each other."
   ]
  },
  {
   "cell_type": "markdown",
   "metadata": {},
   "source": [
    "## Exploratory Data Analysis"
   ]
  },
  {
   "cell_type": "markdown",
   "metadata": {},
   "source": [
    "To start the exploratory data analysis, we want to eliminate all the data with Language and Genre categories that have less than 5 sample size."
   ]
  },
  {
   "cell_type": "code",
   "execution_count": 148,
   "metadata": {},
   "outputs": [
    {
     "data": {
      "text/html": [
       "<div>\n",
       "<style scoped>\n",
       "    .dataframe tbody tr th:only-of-type {\n",
       "        vertical-align: middle;\n",
       "    }\n",
       "\n",
       "    .dataframe tbody tr th {\n",
       "        vertical-align: top;\n",
       "    }\n",
       "\n",
       "    .dataframe thead th {\n",
       "        text-align: right;\n",
       "    }\n",
       "</style>\n",
       "<table border=\"1\" class=\"dataframe\">\n",
       "  <thead>\n",
       "    <tr style=\"text-align: right;\">\n",
       "      <th></th>\n",
       "      <th>Title</th>\n",
       "      <th>Genre</th>\n",
       "      <th>Premiere</th>\n",
       "      <th>Runtime</th>\n",
       "      <th>IMDB Score</th>\n",
       "      <th>Language1</th>\n",
       "      <th>Language2</th>\n",
       "      <th>Language3</th>\n",
       "    </tr>\n",
       "  </thead>\n",
       "  <tbody>\n",
       "    <tr>\n",
       "      <th>0</th>\n",
       "      <td>Enter the Anime</td>\n",
       "      <td>Documentary</td>\n",
       "      <td>2019-08-05</td>\n",
       "      <td>58</td>\n",
       "      <td>2.5</td>\n",
       "      <td>English</td>\n",
       "      <td>Japanese</td>\n",
       "      <td>None</td>\n",
       "    </tr>\n",
       "    <tr>\n",
       "      <th>1</th>\n",
       "      <td>Dark Forces</td>\n",
       "      <td>Thriller</td>\n",
       "      <td>2020-08-21</td>\n",
       "      <td>81</td>\n",
       "      <td>2.6</td>\n",
       "      <td>Spanish</td>\n",
       "      <td>None</td>\n",
       "      <td>None</td>\n",
       "    </tr>\n",
       "    <tr>\n",
       "      <th>2</th>\n",
       "      <td>The App</td>\n",
       "      <td>Science fiction/Drama</td>\n",
       "      <td>2019-12-26</td>\n",
       "      <td>79</td>\n",
       "      <td>2.6</td>\n",
       "      <td>Italian</td>\n",
       "      <td>None</td>\n",
       "      <td>None</td>\n",
       "    </tr>\n",
       "    <tr>\n",
       "      <th>3</th>\n",
       "      <td>The Open House</td>\n",
       "      <td>Thriller</td>\n",
       "      <td>2018-01-19</td>\n",
       "      <td>94</td>\n",
       "      <td>3.2</td>\n",
       "      <td>English</td>\n",
       "      <td>None</td>\n",
       "      <td>None</td>\n",
       "    </tr>\n",
       "    <tr>\n",
       "      <th>4</th>\n",
       "      <td>Kaali Khuhi</td>\n",
       "      <td>Mystery</td>\n",
       "      <td>2020-10-30</td>\n",
       "      <td>90</td>\n",
       "      <td>3.4</td>\n",
       "      <td>Hindi</td>\n",
       "      <td>None</td>\n",
       "      <td>None</td>\n",
       "    </tr>\n",
       "    <tr>\n",
       "      <th>...</th>\n",
       "      <td>...</td>\n",
       "      <td>...</td>\n",
       "      <td>...</td>\n",
       "      <td>...</td>\n",
       "      <td>...</td>\n",
       "      <td>...</td>\n",
       "      <td>...</td>\n",
       "      <td>...</td>\n",
       "    </tr>\n",
       "    <tr>\n",
       "      <th>579</th>\n",
       "      <td>Taylor Swift: Reputation Stadium Tour</td>\n",
       "      <td>Concert Film</td>\n",
       "      <td>2018-12-31</td>\n",
       "      <td>125</td>\n",
       "      <td>8.4</td>\n",
       "      <td>English</td>\n",
       "      <td>None</td>\n",
       "      <td>None</td>\n",
       "    </tr>\n",
       "    <tr>\n",
       "      <th>580</th>\n",
       "      <td>Winter on Fire: Ukraine's Fight for Freedom</td>\n",
       "      <td>Documentary</td>\n",
       "      <td>2015-10-09</td>\n",
       "      <td>91</td>\n",
       "      <td>8.4</td>\n",
       "      <td>English</td>\n",
       "      <td>Ukranian</td>\n",
       "      <td>Russian</td>\n",
       "    </tr>\n",
       "    <tr>\n",
       "      <th>581</th>\n",
       "      <td>Springsteen on Broadway</td>\n",
       "      <td>One-man show</td>\n",
       "      <td>2018-12-16</td>\n",
       "      <td>153</td>\n",
       "      <td>8.5</td>\n",
       "      <td>English</td>\n",
       "      <td>None</td>\n",
       "      <td>None</td>\n",
       "    </tr>\n",
       "    <tr>\n",
       "      <th>582</th>\n",
       "      <td>Emicida: AmarElo - It's All For Yesterday</td>\n",
       "      <td>Documentary</td>\n",
       "      <td>2020-12-08</td>\n",
       "      <td>89</td>\n",
       "      <td>8.6</td>\n",
       "      <td>Portuguese</td>\n",
       "      <td>None</td>\n",
       "      <td>None</td>\n",
       "    </tr>\n",
       "    <tr>\n",
       "      <th>583</th>\n",
       "      <td>David Attenborough: A Life on Our Planet</td>\n",
       "      <td>Documentary</td>\n",
       "      <td>2020-10-04</td>\n",
       "      <td>83</td>\n",
       "      <td>9.0</td>\n",
       "      <td>English</td>\n",
       "      <td>None</td>\n",
       "      <td>None</td>\n",
       "    </tr>\n",
       "  </tbody>\n",
       "</table>\n",
       "<p>584 rows × 8 columns</p>\n",
       "</div>"
      ],
      "text/plain": [
       "                                           Title                  Genre  \\\n",
       "0                                Enter the Anime            Documentary   \n",
       "1                                    Dark Forces               Thriller   \n",
       "2                                        The App  Science fiction/Drama   \n",
       "3                                 The Open House               Thriller   \n",
       "4                                    Kaali Khuhi                Mystery   \n",
       "..                                           ...                    ...   \n",
       "579        Taylor Swift: Reputation Stadium Tour           Concert Film   \n",
       "580  Winter on Fire: Ukraine's Fight for Freedom            Documentary   \n",
       "581                      Springsteen on Broadway           One-man show   \n",
       "582    Emicida: AmarElo - It's All For Yesterday            Documentary   \n",
       "583     David Attenborough: A Life on Our Planet            Documentary   \n",
       "\n",
       "      Premiere  Runtime  IMDB Score   Language1 Language2 Language3  \n",
       "0   2019-08-05       58         2.5     English  Japanese      None  \n",
       "1   2020-08-21       81         2.6     Spanish      None      None  \n",
       "2   2019-12-26       79         2.6     Italian      None      None  \n",
       "3   2018-01-19       94         3.2     English      None      None  \n",
       "4   2020-10-30       90         3.4       Hindi      None      None  \n",
       "..         ...      ...         ...         ...       ...       ...  \n",
       "579 2018-12-31      125         8.4     English      None      None  \n",
       "580 2015-10-09       91         8.4     English  Ukranian   Russian  \n",
       "581 2018-12-16      153         8.5     English      None      None  \n",
       "582 2020-12-08       89         8.6  Portuguese      None      None  \n",
       "583 2020-10-04       83         9.0     English      None      None  \n",
       "\n",
       "[584 rows x 8 columns]"
      ]
     },
     "execution_count": 148,
     "metadata": {},
     "output_type": "execute_result"
    }
   ],
   "source": [
    "eda_df = netflix_df.copy()\n",
    "eda_df"
   ]
  },
  {
   "cell_type": "markdown",
   "metadata": {},
   "source": [
    "To do this, we must first know what genres have less than 5 frequency count. "
   ]
  },
  {
   "cell_type": "code",
   "execution_count": 221,
   "metadata": {},
   "outputs": [
    {
     "data": {
      "text/plain": [
       "Documentary            154\n",
       "Comedy                 112\n",
       "Drama                  111\n",
       "Thriller                49\n",
       "Horror                   9\n",
       "Biopic                   9\n",
       "Action                   7\n",
       "Romance                  7\n",
       "Aftershow/Interview      6\n",
       "Concert Film             6\n",
       "Animation                5\n",
       "Musical                  5\n",
       "Name: Genre, dtype: int64"
      ]
     },
     "execution_count": 221,
     "metadata": {},
     "output_type": "execute_result"
    }
   ],
   "source": [
    "value_counts = eda_df['Genre'].value_counts()\n",
    "value_counts"
   ]
  },
  {
   "cell_type": "markdown",
   "metadata": {},
   "source": [
    "After identifying these categories, we may now remove them from the dataframe."
   ]
  },
  {
   "cell_type": "code",
   "execution_count": 222,
   "metadata": {},
   "outputs": [],
   "source": [
    "to_remove = value_counts[value_counts < 4].index\n"
   ]
  },
  {
   "cell_type": "code",
   "execution_count": 223,
   "metadata": {},
   "outputs": [],
   "source": [
    "eda_df = eda_df[~eda_df.Genre.isin(to_remove)]\n"
   ]
  },
  {
   "cell_type": "code",
   "execution_count": 224,
   "metadata": {},
   "outputs": [
    {
     "data": {
      "text/plain": [
       "Documentary            154\n",
       "Comedy                 112\n",
       "Drama                  111\n",
       "Thriller                49\n",
       "Horror                   9\n",
       "Biopic                   9\n",
       "Action                   7\n",
       "Romance                  7\n",
       "Aftershow/Interview      6\n",
       "Concert Film             6\n",
       "Animation                5\n",
       "Musical                  5\n",
       "Name: Genre, dtype: int64"
      ]
     },
     "execution_count": 224,
     "metadata": {},
     "output_type": "execute_result"
    }
   ],
   "source": [
    "value_counts = eda_df['Genre'].value_counts()\n",
    "value_counts"
   ]
  },
  {
   "cell_type": "markdown",
   "metadata": {},
   "source": [
    "After doing the cleanup on the dataframe, we can see that there are only **12 Genre Categories** left in the dataframe. We now proceed to doing the same process for the Language category which is removing all the movies with a Language category frequency that is lower than 5."
   ]
  },
  {
   "cell_type": "code",
   "execution_count": 225,
   "metadata": {},
   "outputs": [
    {
     "data": {
      "text/plain": [
       "English       349\n",
       "Hindi          32\n",
       "Spanish        32\n",
       "French         20\n",
       "Italian        12\n",
       "Portuguese     11\n",
       "Indonesian      9\n",
       "Turkish         5\n",
       "German          5\n",
       "Korean          5\n",
       "Name: Language1, dtype: int64"
      ]
     },
     "execution_count": 225,
     "metadata": {},
     "output_type": "execute_result"
    }
   ],
   "source": [
    "lang_value_counts = eda_df['Language1'].value_counts()\n",
    "lang_value_counts"
   ]
  },
  {
   "cell_type": "code",
   "execution_count": 226,
   "metadata": {},
   "outputs": [],
   "source": [
    "to_remove = lang_value_counts[lang_value_counts <4].index\n"
   ]
  },
  {
   "cell_type": "code",
   "execution_count": 227,
   "metadata": {},
   "outputs": [],
   "source": [
    "eda_df = eda_df[~eda_df.Language1.isin(to_remove)]\n"
   ]
  },
  {
   "cell_type": "code",
   "execution_count": 228,
   "metadata": {},
   "outputs": [
    {
     "data": {
      "text/plain": [
       "English       349\n",
       "Hindi          32\n",
       "Spanish        32\n",
       "French         20\n",
       "Italian        12\n",
       "Portuguese     11\n",
       "Indonesian      9\n",
       "Turkish         5\n",
       "German          5\n",
       "Korean          5\n",
       "Name: Language1, dtype: int64"
      ]
     },
     "execution_count": 228,
     "metadata": {},
     "output_type": "execute_result"
    }
   ],
   "source": [
    "lang_value_counts = eda_df['Language1'].value_counts()\n",
    "lang_value_counts"
   ]
  },
  {
   "cell_type": "markdown",
   "metadata": {},
   "source": [
    "After doing the cleanup on the Language category, there are only 10 Language Categories left."
   ]
  },
  {
   "cell_type": "code",
   "execution_count": 229,
   "metadata": {
    "scrolled": true
   },
   "outputs": [
    {
     "data": {
      "text/html": [
       "<div>\n",
       "<style scoped>\n",
       "    .dataframe tbody tr th:only-of-type {\n",
       "        vertical-align: middle;\n",
       "    }\n",
       "\n",
       "    .dataframe tbody tr th {\n",
       "        vertical-align: top;\n",
       "    }\n",
       "\n",
       "    .dataframe thead th {\n",
       "        text-align: right;\n",
       "    }\n",
       "</style>\n",
       "<table border=\"1\" class=\"dataframe\">\n",
       "  <thead>\n",
       "    <tr style=\"text-align: right;\">\n",
       "      <th></th>\n",
       "      <th>Runtime</th>\n",
       "      <th>IMDB Score</th>\n",
       "    </tr>\n",
       "  </thead>\n",
       "  <tbody>\n",
       "    <tr>\n",
       "      <th>count</th>\n",
       "      <td>480.000000</td>\n",
       "      <td>480.000000</td>\n",
       "    </tr>\n",
       "    <tr>\n",
       "      <th>mean</th>\n",
       "      <td>94.764583</td>\n",
       "      <td>6.321042</td>\n",
       "    </tr>\n",
       "    <tr>\n",
       "      <th>std</th>\n",
       "      <td>25.786760</td>\n",
       "      <td>0.962379</td>\n",
       "    </tr>\n",
       "    <tr>\n",
       "      <th>min</th>\n",
       "      <td>10.000000</td>\n",
       "      <td>2.500000</td>\n",
       "    </tr>\n",
       "    <tr>\n",
       "      <th>25%</th>\n",
       "      <td>87.000000</td>\n",
       "      <td>5.700000</td>\n",
       "    </tr>\n",
       "    <tr>\n",
       "      <th>50%</th>\n",
       "      <td>97.000000</td>\n",
       "      <td>6.400000</td>\n",
       "    </tr>\n",
       "    <tr>\n",
       "      <th>75%</th>\n",
       "      <td>108.000000</td>\n",
       "      <td>7.000000</td>\n",
       "    </tr>\n",
       "    <tr>\n",
       "      <th>max</th>\n",
       "      <td>209.000000</td>\n",
       "      <td>9.000000</td>\n",
       "    </tr>\n",
       "  </tbody>\n",
       "</table>\n",
       "</div>"
      ],
      "text/plain": [
       "          Runtime  IMDB Score\n",
       "count  480.000000  480.000000\n",
       "mean    94.764583    6.321042\n",
       "std     25.786760    0.962379\n",
       "min     10.000000    2.500000\n",
       "25%     87.000000    5.700000\n",
       "50%     97.000000    6.400000\n",
       "75%    108.000000    7.000000\n",
       "max    209.000000    9.000000"
      ]
     },
     "execution_count": 229,
     "metadata": {},
     "output_type": "execute_result"
    }
   ],
   "source": [
    "eda_df.describe()"
   ]
  },
  {
   "cell_type": "markdown",
   "metadata": {},
   "source": [
    "With this, we know that the average runtime of the movies is **93.58 minutes** and an average of **6.27 IMDB Score**."
   ]
  },
  {
   "cell_type": "markdown",
   "metadata": {},
   "source": [
    "### Question 1: Which Language and Genre has the highest movie count?"
   ]
  },
  {
   "cell_type": "markdown",
   "metadata": {},
   "source": [
    "For the first question, we want to know what is the most common used Language and Genre in all the movies in the dataframe. To answer this question, the variables of interest are:\n",
    "- **`Language`**: The language used in the film.\n",
    "- **`Genre`**: The genre type of the movie.\n",
    "- **`IMDB Score`**: The IMDB Score rating of the movie.\n",
    "- **`Runtime Length`**: The overall length of the film in minutes."
   ]
  },
  {
   "cell_type": "code",
   "execution_count": 230,
   "metadata": {},
   "outputs": [
    {
     "data": {
      "text/plain": [
       "0         English\n",
       "1         Spanish\n",
       "3         English\n",
       "5           Hindi\n",
       "6         Turkish\n",
       "          ...    \n",
       "578       English\n",
       "579       English\n",
       "580       English\n",
       "582    Portuguese\n",
       "583       English\n",
       "Name: Language1, Length: 480, dtype: object"
      ]
     },
     "execution_count": 230,
     "metadata": {},
     "output_type": "execute_result"
    }
   ],
   "source": [
    "eda_df[\"Language1\"] "
   ]
  },
  {
   "cell_type": "code",
   "execution_count": 231,
   "metadata": {},
   "outputs": [
    {
     "data": {
      "text/plain": [
       "English       349\n",
       "Hindi          32\n",
       "Spanish        32\n",
       "French         20\n",
       "Italian        12\n",
       "Portuguese     11\n",
       "Indonesian      9\n",
       "Turkish         5\n",
       "German          5\n",
       "Korean          5\n",
       "Name: Language1, dtype: int64"
      ]
     },
     "execution_count": 231,
     "metadata": {},
     "output_type": "execute_result"
    }
   ],
   "source": [
    "language_count_df = eda_df['Language1'].value_counts()\n",
    "language_count_df"
   ]
  },
  {
   "cell_type": "code",
   "execution_count": 203,
   "metadata": {
    "scrolled": true
   },
   "outputs": [
    {
     "data": {
      "text/plain": [
       "Text(0.5, 1.0, 'Language Count in Movies')"
      ]
     },
     "execution_count": 203,
     "metadata": {},
     "output_type": "execute_result"
    },
    {
     "data": {
      "image/png": "[encoded data removed]",
      "text/plain": [
       "<Figure size 432x288 with 1 Axes>"
      ]
     },
     "metadata": {
      "needs_background": "light"
     },
     "output_type": "display_data"
    }
   ],
   "source": [
    "language_count_df.plot.bar()\n",
    "plt.xlabel('Language1')\n",
    "plt.ylabel('Count')\n",
    "plt.title('Language Count in Movies')"
   ]
  },
  {
   "cell_type": "markdown",
   "metadata": {},
   "source": [
    "There are a total of 10 languages in the new dataframe as we only used the languages that has 5 and more movies. We can see that **English** is the most frequently used Language in the dataframe."
   ]
  },
  {
   "cell_type": "markdown",
   "metadata": {},
   "source": [
    "Next, we move on to finding out the frequency count of the genres."
   ]
  },
  {
   "cell_type": "code",
   "execution_count": 232,
   "metadata": {},
   "outputs": [
    {
     "data": {
      "text/plain": [
       "Documentary            154\n",
       "Comedy                 112\n",
       "Drama                  111\n",
       "Thriller                49\n",
       "Horror                   9\n",
       "Biopic                   9\n",
       "Action                   7\n",
       "Romance                  7\n",
       "Aftershow/Interview      6\n",
       "Concert Film             6\n",
       "Animation                5\n",
       "Musical                  5\n",
       "Name: Genre, dtype: int64"
      ]
     },
     "execution_count": 232,
     "metadata": {},
     "output_type": "execute_result"
    }
   ],
   "source": [
    "genre_count_df = eda_df['Genre'].value_counts()\n",
    "genre_count_df"
   ]
  },
  {
   "cell_type": "code",
   "execution_count": 233,
   "metadata": {},
   "outputs": [
    {
     "data": {
      "text/plain": [
       "Text(0.5, 1.0, 'Genre Count')"
      ]
     },
     "execution_count": 233,
     "metadata": {},
     "output_type": "execute_result"
    },
    {
     "data": {
      "image/png": "[encoded data removed]",
      "text/plain": [
       "<Figure size 432x288 with 1 Axes>"
      ]
     },
     "metadata": {
      "needs_background": "light"
     },
     "output_type": "display_data"
    }
   ],
   "source": [
    "genre_count_df.plot.bar()\n",
    "plt.xlabel('Genre')\n",
    "plt.ylabel('Count')\n",
    "plt.title('Genre Count')"
   ]
  },
  {
   "cell_type": "markdown",
   "metadata": {},
   "source": [
    "Out of the 12 genre categories, **Documentary** had the highest frequency count in all the movies."
   ]
  },
  {
   "cell_type": "markdown",
   "metadata": {},
   "source": [
    "### Question 2: Which Genre and Language has the highest and lowest average IMDB Score? "
   ]
  },
  {
   "cell_type": "markdown",
   "metadata": {},
   "source": [
    "For the second question, we want to know which Genre and Language has the highest and lowest average IMDB Score, to answer this question we need the variables:\n",
    "- **`Language`**: Language used in the film.\n",
    "- **`Genre`**: The genre type of the movie.\n",
    "- **`IMDB Score`**: The IMDB Score rating of the movie.\n"
   ]
  },
  {
   "cell_type": "markdown",
   "metadata": {},
   "source": [
    "To do this, we must first find out the median and mean of the Language and the IMDB Score."
   ]
  },
  {
   "cell_type": "markdown",
   "metadata": {},
   "source": [
    "#### Language and IMDB Score"
   ]
  },
  {
   "cell_type": "code",
   "execution_count": 234,
   "metadata": {},
   "outputs": [
    {
     "data": {
      "text/html": [
       "<div>\n",
       "<style scoped>\n",
       "    .dataframe tbody tr th:only-of-type {\n",
       "        vertical-align: middle;\n",
       "    }\n",
       "\n",
       "    .dataframe tbody tr th {\n",
       "        vertical-align: top;\n",
       "    }\n",
       "\n",
       "    .dataframe thead tr th {\n",
       "        text-align: left;\n",
       "    }\n",
       "\n",
       "    .dataframe thead tr:last-of-type th {\n",
       "        text-align: right;\n",
       "    }\n",
       "</style>\n",
       "<table border=\"1\" class=\"dataframe\">\n",
       "  <thead>\n",
       "    <tr>\n",
       "      <th></th>\n",
       "      <th colspan=\"2\" halign=\"left\">IMDB Score</th>\n",
       "    </tr>\n",
       "    <tr>\n",
       "      <th></th>\n",
       "      <th>median</th>\n",
       "      <th>std</th>\n",
       "    </tr>\n",
       "    <tr>\n",
       "      <th>Language1</th>\n",
       "      <th></th>\n",
       "      <th></th>\n",
       "    </tr>\n",
       "  </thead>\n",
       "  <tbody>\n",
       "    <tr>\n",
       "      <th>English</th>\n",
       "      <td>6.50</td>\n",
       "      <td>0.916644</td>\n",
       "    </tr>\n",
       "    <tr>\n",
       "      <th>Spanish</th>\n",
       "      <td>6.45</td>\n",
       "      <td>1.068420</td>\n",
       "    </tr>\n",
       "    <tr>\n",
       "      <th>Korean</th>\n",
       "      <td>6.30</td>\n",
       "      <td>1.507315</td>\n",
       "    </tr>\n",
       "    <tr>\n",
       "      <th>Portuguese</th>\n",
       "      <td>6.30</td>\n",
       "      <td>1.119009</td>\n",
       "    </tr>\n",
       "    <tr>\n",
       "      <th>Indonesian</th>\n",
       "      <td>6.20</td>\n",
       "      <td>0.912567</td>\n",
       "    </tr>\n",
       "    <tr>\n",
       "      <th>Hindi</th>\n",
       "      <td>6.20</td>\n",
       "      <td>1.034798</td>\n",
       "    </tr>\n",
       "    <tr>\n",
       "      <th>Turkish</th>\n",
       "      <td>6.10</td>\n",
       "      <td>1.163185</td>\n",
       "    </tr>\n",
       "    <tr>\n",
       "      <th>French</th>\n",
       "      <td>6.00</td>\n",
       "      <td>0.824046</td>\n",
       "    </tr>\n",
       "    <tr>\n",
       "      <th>German</th>\n",
       "      <td>5.80</td>\n",
       "      <td>0.589915</td>\n",
       "    </tr>\n",
       "    <tr>\n",
       "      <th>Italian</th>\n",
       "      <td>5.65</td>\n",
       "      <td>0.930746</td>\n",
       "    </tr>\n",
       "  </tbody>\n",
       "</table>\n",
       "</div>"
      ],
      "text/plain": [
       "           IMDB Score          \n",
       "               median       std\n",
       "Language1                      \n",
       "English          6.50  0.916644\n",
       "Spanish          6.45  1.068420\n",
       "Korean           6.30  1.507315\n",
       "Portuguese       6.30  1.119009\n",
       "Indonesian       6.20  0.912567\n",
       "Hindi            6.20  1.034798\n",
       "Turkish          6.10  1.163185\n",
       "French           6.00  0.824046\n",
       "German           5.80  0.589915\n",
       "Italian          5.65  0.930746"
      ]
     },
     "execution_count": 234,
     "metadata": {},
     "output_type": "execute_result"
    }
   ],
   "source": [
    "median_df = eda_df.groupby(\"Language1\").agg({\"IMDB Score\": [\"median\", \"std\"]})\n",
    "median_df.sort_values((\"IMDB Score\", \"median\"), ascending=False)"
   ]
  },
  {
   "cell_type": "code",
   "execution_count": 235,
   "metadata": {},
   "outputs": [
    {
     "data": {
      "text/html": [
       "<div>\n",
       "<style scoped>\n",
       "    .dataframe tbody tr th:only-of-type {\n",
       "        vertical-align: middle;\n",
       "    }\n",
       "\n",
       "    .dataframe tbody tr th {\n",
       "        vertical-align: top;\n",
       "    }\n",
       "\n",
       "    .dataframe thead tr th {\n",
       "        text-align: left;\n",
       "    }\n",
       "\n",
       "    .dataframe thead tr:last-of-type th {\n",
       "        text-align: right;\n",
       "    }\n",
       "</style>\n",
       "<table border=\"1\" class=\"dataframe\">\n",
       "  <thead>\n",
       "    <tr>\n",
       "      <th></th>\n",
       "      <th colspan=\"2\" halign=\"left\">IMDB Score</th>\n",
       "    </tr>\n",
       "    <tr>\n",
       "      <th></th>\n",
       "      <th>mean</th>\n",
       "      <th>std</th>\n",
       "    </tr>\n",
       "    <tr>\n",
       "      <th>Language1</th>\n",
       "      <th></th>\n",
       "      <th></th>\n",
       "    </tr>\n",
       "  </thead>\n",
       "  <tbody>\n",
       "    <tr>\n",
       "      <th>English</th>\n",
       "      <td>6.440688</td>\n",
       "      <td>0.916644</td>\n",
       "    </tr>\n",
       "    <tr>\n",
       "      <th>Spanish</th>\n",
       "      <td>6.290625</td>\n",
       "      <td>1.068420</td>\n",
       "    </tr>\n",
       "    <tr>\n",
       "      <th>Portuguese</th>\n",
       "      <td>6.227273</td>\n",
       "      <td>1.119009</td>\n",
       "    </tr>\n",
       "    <tr>\n",
       "      <th>Hindi</th>\n",
       "      <td>6.062500</td>\n",
       "      <td>1.034798</td>\n",
       "    </tr>\n",
       "    <tr>\n",
       "      <th>Indonesian</th>\n",
       "      <td>5.844444</td>\n",
       "      <td>0.912567</td>\n",
       "    </tr>\n",
       "    <tr>\n",
       "      <th>Korean</th>\n",
       "      <td>5.780000</td>\n",
       "      <td>1.507315</td>\n",
       "    </tr>\n",
       "    <tr>\n",
       "      <th>French</th>\n",
       "      <td>5.770000</td>\n",
       "      <td>0.824046</td>\n",
       "    </tr>\n",
       "    <tr>\n",
       "      <th>Italian</th>\n",
       "      <td>5.758333</td>\n",
       "      <td>0.930746</td>\n",
       "    </tr>\n",
       "    <tr>\n",
       "      <th>Turkish</th>\n",
       "      <td>5.660000</td>\n",
       "      <td>1.163185</td>\n",
       "    </tr>\n",
       "    <tr>\n",
       "      <th>German</th>\n",
       "      <td>5.640000</td>\n",
       "      <td>0.589915</td>\n",
       "    </tr>\n",
       "  </tbody>\n",
       "</table>\n",
       "</div>"
      ],
      "text/plain": [
       "           IMDB Score          \n",
       "                 mean       std\n",
       "Language1                      \n",
       "English      6.440688  0.916644\n",
       "Spanish      6.290625  1.068420\n",
       "Portuguese   6.227273  1.119009\n",
       "Hindi        6.062500  1.034798\n",
       "Indonesian   5.844444  0.912567\n",
       "Korean       5.780000  1.507315\n",
       "French       5.770000  0.824046\n",
       "Italian      5.758333  0.930746\n",
       "Turkish      5.660000  1.163185\n",
       "German       5.640000  0.589915"
      ]
     },
     "execution_count": 235,
     "metadata": {},
     "output_type": "execute_result"
    }
   ],
   "source": [
    "mean_df = eda_df.groupby(\"Language1\").agg({\"IMDB Score\":[\"mean\",\"std\"]})\n",
    "mean_df.sort_values((\"IMDB Score\",\"mean\"), ascending = False)"
   ]
  },
  {
   "cell_type": "code",
   "execution_count": 236,
   "metadata": {},
   "outputs": [
    {
     "data": {
      "image/png": "[encoded data removed]",
      "text/plain": [
       "<Figure size 864x720 with 1 Axes>"
      ]
     },
     "metadata": {
      "needs_background": "light"
     },
     "output_type": "display_data"
    }
   ],
   "source": [
    "eda_df.boxplot(\"IMDB Score\", by=\"Language1\", figsize=(12,10))\n",
    "plt.show()"
   ]
  },
  {
   "cell_type": "markdown",
   "metadata": {},
   "source": [
    "The movies with **English** as its language has the the highest average IMDB score of 6.44 and the highest median score of  6.50 while the **German** movies scored the lowest average score of 5.64 and the movies in **Italian** scored the lowest median score of 5.65."
   ]
  },
  {
   "cell_type": "markdown",
   "metadata": {},
   "source": [
    "Next, we will proceed to doing the same procedure for getting the highest and lowest average scores for the Genre category."
   ]
  },
  {
   "cell_type": "markdown",
   "metadata": {},
   "source": [
    "#### GENRE AND IMDB SCORE\n"
   ]
  },
  {
   "cell_type": "code",
   "execution_count": 237,
   "metadata": {},
   "outputs": [
    {
     "data": {
      "text/html": [
       "<div>\n",
       "<style scoped>\n",
       "    .dataframe tbody tr th:only-of-type {\n",
       "        vertical-align: middle;\n",
       "    }\n",
       "\n",
       "    .dataframe tbody tr th {\n",
       "        vertical-align: top;\n",
       "    }\n",
       "\n",
       "    .dataframe thead tr th {\n",
       "        text-align: left;\n",
       "    }\n",
       "\n",
       "    .dataframe thead tr:last-of-type th {\n",
       "        text-align: right;\n",
       "    }\n",
       "</style>\n",
       "<table border=\"1\" class=\"dataframe\">\n",
       "  <thead>\n",
       "    <tr>\n",
       "      <th></th>\n",
       "      <th colspan=\"2\" halign=\"left\">IMDB Score</th>\n",
       "    </tr>\n",
       "    <tr>\n",
       "      <th></th>\n",
       "      <th>mean</th>\n",
       "      <th>std</th>\n",
       "    </tr>\n",
       "    <tr>\n",
       "      <th>Genre</th>\n",
       "      <th></th>\n",
       "      <th></th>\n",
       "    </tr>\n",
       "  </thead>\n",
       "  <tbody>\n",
       "    <tr>\n",
       "      <th>Concert Film</th>\n",
       "      <td>7.633333</td>\n",
       "      <td>0.744759</td>\n",
       "    </tr>\n",
       "    <tr>\n",
       "      <th>Documentary</th>\n",
       "      <td>6.947403</td>\n",
       "      <td>0.850313</td>\n",
       "    </tr>\n",
       "    <tr>\n",
       "      <th>Aftershow/Interview</th>\n",
       "      <td>6.750000</td>\n",
       "      <td>0.784219</td>\n",
       "    </tr>\n",
       "    <tr>\n",
       "      <th>Animation</th>\n",
       "      <td>6.560000</td>\n",
       "      <td>0.920869</td>\n",
       "    </tr>\n",
       "    <tr>\n",
       "      <th>Romance</th>\n",
       "      <td>6.442857</td>\n",
       "      <td>0.461364</td>\n",
       "    </tr>\n",
       "    <tr>\n",
       "      <th>Biopic</th>\n",
       "      <td>6.400000</td>\n",
       "      <td>0.524404</td>\n",
       "    </tr>\n",
       "    <tr>\n",
       "      <th>Drama</th>\n",
       "      <td>6.324324</td>\n",
       "      <td>0.732519</td>\n",
       "    </tr>\n",
       "    <tr>\n",
       "      <th>Musical</th>\n",
       "      <td>5.760000</td>\n",
       "      <td>0.487852</td>\n",
       "    </tr>\n",
       "    <tr>\n",
       "      <th>Comedy</th>\n",
       "      <td>5.759821</td>\n",
       "      <td>0.730353</td>\n",
       "    </tr>\n",
       "    <tr>\n",
       "      <th>Thriller</th>\n",
       "      <td>5.724490</td>\n",
       "      <td>1.004268</td>\n",
       "    </tr>\n",
       "    <tr>\n",
       "      <th>Action</th>\n",
       "      <td>5.414286</td>\n",
       "      <td>1.112697</td>\n",
       "    </tr>\n",
       "    <tr>\n",
       "      <th>Horror</th>\n",
       "      <td>5.344444</td>\n",
       "      <td>0.736735</td>\n",
       "    </tr>\n",
       "  </tbody>\n",
       "</table>\n",
       "</div>"
      ],
      "text/plain": [
       "                    IMDB Score          \n",
       "                          mean       std\n",
       "Genre                                   \n",
       "Concert Film          7.633333  0.744759\n",
       "Documentary           6.947403  0.850313\n",
       "Aftershow/Interview   6.750000  0.784219\n",
       "Animation             6.560000  0.920869\n",
       "Romance               6.442857  0.461364\n",
       "Biopic                6.400000  0.524404\n",
       "Drama                 6.324324  0.732519\n",
       "Musical               5.760000  0.487852\n",
       "Comedy                5.759821  0.730353\n",
       "Thriller              5.724490  1.004268\n",
       "Action                5.414286  1.112697\n",
       "Horror                5.344444  0.736735"
      ]
     },
     "execution_count": 237,
     "metadata": {},
     "output_type": "execute_result"
    }
   ],
   "source": [
    "meangenscore_df = eda_df.groupby(\"Genre\").agg({\"IMDB Score\":[\"mean\",\"std\"]})\n",
    "meangenscore_df.sort_values((\"IMDB Score\",\"mean\"), ascending = False)"
   ]
  },
  {
   "cell_type": "code",
   "execution_count": 238,
   "metadata": {},
   "outputs": [
    {
     "data": {
      "text/html": [
       "<div>\n",
       "<style scoped>\n",
       "    .dataframe tbody tr th:only-of-type {\n",
       "        vertical-align: middle;\n",
       "    }\n",
       "\n",
       "    .dataframe tbody tr th {\n",
       "        vertical-align: top;\n",
       "    }\n",
       "\n",
       "    .dataframe thead tr th {\n",
       "        text-align: left;\n",
       "    }\n",
       "\n",
       "    .dataframe thead tr:last-of-type th {\n",
       "        text-align: right;\n",
       "    }\n",
       "</style>\n",
       "<table border=\"1\" class=\"dataframe\">\n",
       "  <thead>\n",
       "    <tr>\n",
       "      <th></th>\n",
       "      <th colspan=\"2\" halign=\"left\">IMDB Score</th>\n",
       "    </tr>\n",
       "    <tr>\n",
       "      <th></th>\n",
       "      <th>median</th>\n",
       "      <th>std</th>\n",
       "    </tr>\n",
       "    <tr>\n",
       "      <th>Genre</th>\n",
       "      <th></th>\n",
       "      <th></th>\n",
       "    </tr>\n",
       "  </thead>\n",
       "  <tbody>\n",
       "    <tr>\n",
       "      <th>Concert Film</th>\n",
       "      <td>7.60</td>\n",
       "      <td>0.744759</td>\n",
       "    </tr>\n",
       "    <tr>\n",
       "      <th>Animation</th>\n",
       "      <td>7.10</td>\n",
       "      <td>0.920869</td>\n",
       "    </tr>\n",
       "    <tr>\n",
       "      <th>Documentary</th>\n",
       "      <td>7.05</td>\n",
       "      <td>0.850313</td>\n",
       "    </tr>\n",
       "    <tr>\n",
       "      <th>Aftershow/Interview</th>\n",
       "      <td>7.00</td>\n",
       "      <td>0.784219</td>\n",
       "    </tr>\n",
       "    <tr>\n",
       "      <th>Romance</th>\n",
       "      <td>6.50</td>\n",
       "      <td>0.461364</td>\n",
       "    </tr>\n",
       "    <tr>\n",
       "      <th>Drama</th>\n",
       "      <td>6.30</td>\n",
       "      <td>0.732519</td>\n",
       "    </tr>\n",
       "    <tr>\n",
       "      <th>Biopic</th>\n",
       "      <td>6.20</td>\n",
       "      <td>0.524404</td>\n",
       "    </tr>\n",
       "    <tr>\n",
       "      <th>Thriller</th>\n",
       "      <td>6.00</td>\n",
       "      <td>1.004268</td>\n",
       "    </tr>\n",
       "    <tr>\n",
       "      <th>Comedy</th>\n",
       "      <td>5.80</td>\n",
       "      <td>0.730353</td>\n",
       "    </tr>\n",
       "    <tr>\n",
       "      <th>Action</th>\n",
       "      <td>5.70</td>\n",
       "      <td>1.112697</td>\n",
       "    </tr>\n",
       "    <tr>\n",
       "      <th>Musical</th>\n",
       "      <td>5.70</td>\n",
       "      <td>0.487852</td>\n",
       "    </tr>\n",
       "    <tr>\n",
       "      <th>Horror</th>\n",
       "      <td>5.40</td>\n",
       "      <td>0.736735</td>\n",
       "    </tr>\n",
       "  </tbody>\n",
       "</table>\n",
       "</div>"
      ],
      "text/plain": [
       "                    IMDB Score          \n",
       "                        median       std\n",
       "Genre                                   \n",
       "Concert Film              7.60  0.744759\n",
       "Animation                 7.10  0.920869\n",
       "Documentary               7.05  0.850313\n",
       "Aftershow/Interview       7.00  0.784219\n",
       "Romance                   6.50  0.461364\n",
       "Drama                     6.30  0.732519\n",
       "Biopic                    6.20  0.524404\n",
       "Thriller                  6.00  1.004268\n",
       "Comedy                    5.80  0.730353\n",
       "Action                    5.70  1.112697\n",
       "Musical                   5.70  0.487852\n",
       "Horror                    5.40  0.736735"
      ]
     },
     "execution_count": 238,
     "metadata": {},
     "output_type": "execute_result"
    }
   ],
   "source": [
    "median_df = eda_df.groupby(\"Genre\").agg({\"IMDB Score\": [\"median\", \"std\"]})\n",
    "median_df.sort_values((\"IMDB Score\", \"median\"), ascending=False)"
   ]
  },
  {
   "cell_type": "code",
   "execution_count": 239,
   "metadata": {},
   "outputs": [
    {
     "data": {
      "image/png": "[encoded data removed]",
      "text/plain": [
       "<Figure size 864x720 with 1 Axes>"
      ]
     },
     "metadata": {
      "needs_background": "light"
     },
     "output_type": "display_data"
    }
   ],
   "source": [
    "eda_df.boxplot(\"IMDB Score\", by=\"Genre\", figsize=(12,10))\n",
    "plt.show()"
   ]
  },
  {
   "cell_type": "markdown",
   "metadata": {},
   "source": [
    "The **Concert Film** genre had the highest average IMDB score rate of 7.63 and also the higest median score of 7.60. Meanwhile, the **Horror** genre scored the lowest for both mean and median with 5.34 and 5.44 IMDB Scores respectively."
   ]
  },
  {
   "cell_type": "markdown",
   "metadata": {},
   "source": [
    "### Question 3: Which Genre and Language has the longest and shortest average runtime length?\n",
    "\n",
    "For the third question, we want to know which Genre and Language has the longest and shortest average runtime length, to answer this question we need the variables:\n",
    "- **`Language`**: Language used in the film.\n",
    "- **`Genre`**: The genre type of the movie.\n",
    "- **`Runtime`**: The overall length of the film in minutes."
   ]
  },
  {
   "cell_type": "markdown",
   "metadata": {},
   "source": [
    "Like the second question, we must first find the mean runtime length for both the Genre and Language categories."
   ]
  },
  {
   "cell_type": "markdown",
   "metadata": {},
   "source": [
    "#### Language and Runtime"
   ]
  },
  {
   "cell_type": "code",
   "execution_count": 240,
   "metadata": {},
   "outputs": [
    {
     "data": {
      "text/html": [
       "<div>\n",
       "<style scoped>\n",
       "    .dataframe tbody tr th:only-of-type {\n",
       "        vertical-align: middle;\n",
       "    }\n",
       "\n",
       "    .dataframe tbody tr th {\n",
       "        vertical-align: top;\n",
       "    }\n",
       "\n",
       "    .dataframe thead tr th {\n",
       "        text-align: left;\n",
       "    }\n",
       "\n",
       "    .dataframe thead tr:last-of-type th {\n",
       "        text-align: right;\n",
       "    }\n",
       "</style>\n",
       "<table border=\"1\" class=\"dataframe\">\n",
       "  <thead>\n",
       "    <tr>\n",
       "      <th></th>\n",
       "      <th colspan=\"2\" halign=\"left\">Runtime</th>\n",
       "    </tr>\n",
       "    <tr>\n",
       "      <th></th>\n",
       "      <th>mean</th>\n",
       "      <th>std</th>\n",
       "    </tr>\n",
       "    <tr>\n",
       "      <th>Language1</th>\n",
       "      <th></th>\n",
       "      <th></th>\n",
       "    </tr>\n",
       "  </thead>\n",
       "  <tbody>\n",
       "    <tr>\n",
       "      <th>Hindi</th>\n",
       "      <td>116.593750</td>\n",
       "      <td>16.618799</td>\n",
       "    </tr>\n",
       "    <tr>\n",
       "      <th>Korean</th>\n",
       "      <td>111.800000</td>\n",
       "      <td>22.764007</td>\n",
       "    </tr>\n",
       "    <tr>\n",
       "      <th>Indonesian</th>\n",
       "      <td>103.777778</td>\n",
       "      <td>12.255384</td>\n",
       "    </tr>\n",
       "    <tr>\n",
       "      <th>Turkish</th>\n",
       "      <td>101.800000</td>\n",
       "      <td>10.592450</td>\n",
       "    </tr>\n",
       "    <tr>\n",
       "      <th>German</th>\n",
       "      <td>99.600000</td>\n",
       "      <td>9.396808</td>\n",
       "    </tr>\n",
       "    <tr>\n",
       "      <th>Italian</th>\n",
       "      <td>99.166667</td>\n",
       "      <td>7.720496</td>\n",
       "    </tr>\n",
       "    <tr>\n",
       "      <th>Spanish</th>\n",
       "      <td>94.437500</td>\n",
       "      <td>24.137960</td>\n",
       "    </tr>\n",
       "    <tr>\n",
       "      <th>French</th>\n",
       "      <td>92.700000</td>\n",
       "      <td>12.498842</td>\n",
       "    </tr>\n",
       "    <tr>\n",
       "      <th>English</th>\n",
       "      <td>92.246418</td>\n",
       "      <td>27.225052</td>\n",
       "    </tr>\n",
       "    <tr>\n",
       "      <th>Portuguese</th>\n",
       "      <td>90.545455</td>\n",
       "      <td>23.930581</td>\n",
       "    </tr>\n",
       "  </tbody>\n",
       "</table>\n",
       "</div>"
      ],
      "text/plain": [
       "               Runtime           \n",
       "                  mean        std\n",
       "Language1                        \n",
       "Hindi       116.593750  16.618799\n",
       "Korean      111.800000  22.764007\n",
       "Indonesian  103.777778  12.255384\n",
       "Turkish     101.800000  10.592450\n",
       "German       99.600000   9.396808\n",
       "Italian      99.166667   7.720496\n",
       "Spanish      94.437500  24.137960\n",
       "French       92.700000  12.498842\n",
       "English      92.246418  27.225052\n",
       "Portuguese   90.545455  23.930581"
      ]
     },
     "execution_count": 240,
     "metadata": {},
     "output_type": "execute_result"
    }
   ],
   "source": [
    "meanLangRun_df = eda_df.groupby(\"Language1\").agg({\"Runtime\":[\"mean\",\"std\"]})\n",
    "meanLangRun_df.sort_values((\"Runtime\",\"mean\"), ascending = False)"
   ]
  },
  {
   "cell_type": "code",
   "execution_count": 220,
   "metadata": {},
   "outputs": [
    {
     "data": {
      "image/png": "[encoded data removed]",
      "text/plain": [
       "<Figure size 864x720 with 1 Axes>"
      ]
     },
     "metadata": {
      "needs_background": "light"
     },
     "output_type": "display_data"
    }
   ],
   "source": [
    "eda_df.boxplot(\"Runtime\", by=\"Language1\", figsize=(12,10))\n",
    "plt.show()"
   ]
  },
  {
   "cell_type": "markdown",
   "metadata": {},
   "source": [
    "The **Hindi** language have the highest runtime length count with an average of 116.59 minutes. Meanwhile the **Portugese** language has the shortest runtime length count with an average time of of 90.55 minutes."
   ]
  },
  {
   "cell_type": "markdown",
   "metadata": {},
   "source": [
    "#### GENRE AND RUNTIME"
   ]
  },
  {
   "cell_type": "code",
   "execution_count": 251,
   "metadata": {
    "scrolled": true
   },
   "outputs": [
    {
     "data": {
      "text/html": [
       "<div>\n",
       "<style scoped>\n",
       "    .dataframe tbody tr th:only-of-type {\n",
       "        vertical-align: middle;\n",
       "    }\n",
       "\n",
       "    .dataframe tbody tr th {\n",
       "        vertical-align: top;\n",
       "    }\n",
       "\n",
       "    .dataframe thead tr th {\n",
       "        text-align: left;\n",
       "    }\n",
       "\n",
       "    .dataframe thead tr:last-of-type th {\n",
       "        text-align: right;\n",
       "    }\n",
       "</style>\n",
       "<table border=\"1\" class=\"dataframe\">\n",
       "  <thead>\n",
       "    <tr>\n",
       "      <th></th>\n",
       "      <th colspan=\"2\" halign=\"left\">Runtime</th>\n",
       "    </tr>\n",
       "    <tr>\n",
       "      <th></th>\n",
       "      <th>mean</th>\n",
       "      <th>std</th>\n",
       "    </tr>\n",
       "    <tr>\n",
       "      <th>Genre</th>\n",
       "      <th></th>\n",
       "      <th></th>\n",
       "    </tr>\n",
       "  </thead>\n",
       "  <tbody>\n",
       "    <tr>\n",
       "      <th>Musical</th>\n",
       "      <td>109.200000</td>\n",
       "      <td>15.610894</td>\n",
       "    </tr>\n",
       "    <tr>\n",
       "      <th>Thriller</th>\n",
       "      <td>108.571429</td>\n",
       "      <td>16.410109</td>\n",
       "    </tr>\n",
       "    <tr>\n",
       "      <th>Action</th>\n",
       "      <td>108.000000</td>\n",
       "      <td>26.312228</td>\n",
       "    </tr>\n",
       "    <tr>\n",
       "      <th>Biopic</th>\n",
       "      <td>107.555556</td>\n",
       "      <td>13.258121</td>\n",
       "    </tr>\n",
       "    <tr>\n",
       "      <th>Drama</th>\n",
       "      <td>107.342342</td>\n",
       "      <td>18.247538</td>\n",
       "    </tr>\n",
       "    <tr>\n",
       "      <th>Horror</th>\n",
       "      <td>102.222222</td>\n",
       "      <td>18.680055</td>\n",
       "    </tr>\n",
       "    <tr>\n",
       "      <th>Romance</th>\n",
       "      <td>98.857143</td>\n",
       "      <td>13.082158</td>\n",
       "    </tr>\n",
       "    <tr>\n",
       "      <th>Concert Film</th>\n",
       "      <td>98.666667</td>\n",
       "      <td>15.370968</td>\n",
       "    </tr>\n",
       "    <tr>\n",
       "      <th>Comedy</th>\n",
       "      <td>98.598214</td>\n",
       "      <td>15.073071</td>\n",
       "    </tr>\n",
       "    <tr>\n",
       "      <th>Documentary</th>\n",
       "      <td>79.915584</td>\n",
       "      <td>28.597032</td>\n",
       "    </tr>\n",
       "    <tr>\n",
       "      <th>Animation</th>\n",
       "      <td>57.200000</td>\n",
       "      <td>23.679105</td>\n",
       "    </tr>\n",
       "    <tr>\n",
       "      <th>Aftershow/Interview</th>\n",
       "      <td>23.666667</td>\n",
       "      <td>10.053192</td>\n",
       "    </tr>\n",
       "  </tbody>\n",
       "</table>\n",
       "</div>"
      ],
      "text/plain": [
       "                        Runtime           \n",
       "                           mean        std\n",
       "Genre                                     \n",
       "Musical              109.200000  15.610894\n",
       "Thriller             108.571429  16.410109\n",
       "Action               108.000000  26.312228\n",
       "Biopic               107.555556  13.258121\n",
       "Drama                107.342342  18.247538\n",
       "Horror               102.222222  18.680055\n",
       "Romance               98.857143  13.082158\n",
       "Concert Film          98.666667  15.370968\n",
       "Comedy                98.598214  15.073071\n",
       "Documentary           79.915584  28.597032\n",
       "Animation             57.200000  23.679105\n",
       "Aftershow/Interview   23.666667  10.053192"
      ]
     },
     "execution_count": 251,
     "metadata": {},
     "output_type": "execute_result"
    }
   ],
   "source": [
    "meangenrun_df = eda_df.groupby(\"Genre\").agg({\"Runtime\":[\"mean\",\"std\"]})\n",
    "meangenrun_df.sort_values((\"Runtime\",\"mean\"), ascending = False)"
   ]
  },
  {
   "cell_type": "code",
   "execution_count": 252,
   "metadata": {},
   "outputs": [
    {
     "data": {
      "image/png": "[encoded data removed]",
      "text/plain": [
       "<Figure size 864x360 with 1 Axes>"
      ]
     },
     "metadata": {
      "needs_background": "light"
     },
     "output_type": "display_data"
    }
   ],
   "source": [
    "eda_df.boxplot(\"Runtime\", by=\"Genre\", figsize=(12,5))\n",
    "plt.show()"
   ]
  },
  {
   "cell_type": "markdown",
   "metadata": {},
   "source": [
    "The **Musical** genre had the highest average runtime length with 109.20 minutes and the **Documentary** genre had the lowest mean runtime length of 79.91 minutes. "
   ]
  },
  {
   "cell_type": "markdown",
   "metadata": {},
   "source": [
    "<h1> Statistical Inference </h1>"
   ]
  },
  {
   "cell_type": "markdown",
   "metadata": {},
   "source": [
    "<h3>Research Questions </h3>\n",
    "\n",
    "- <b>Is there association between the Languages of a Netflix original and IMDB Score?</b><br>\n",
    "\n",
    "    - Language is our way of communicating to each other, and there are a lot of languages in the entire world. And of course there are also a lot of movies with different languages. Knowing if languages have effect on IMDB scores will know if there are certain languages that is appealing more to critics and the audience or not. <br><br>\n",
    "    \n",
    "- <b>Is there a difference in IMDB Scores between Netflix Originals released before before 2020?</b><br>\n",
    "    \n",
    "    - Before 2019 ended, there was a virus detected in Wuhan China, and later on will spread around the world and will be known as \"COVID-19\". In 2020, countries have closed its borders to prevent the virus from spreading and our society has collapsed ever since. With the strict protocols in preventing the virus from spreading, there were certain industries that had a hard time keeping up with society. One of those is the entertainment industry. In the year 2020, it became very hard to create movies and other entertainment shows as they have to decrease the number of people in a location, follow social distancing protocols, and changing of plans since some locations are closed to the public. Knowing the difficulties the entertainment industry have faced throughout this pandemic, did Netflix Originals became better or worse because of the pandemic?"
   ]
  },
  {
   "cell_type": "markdown",
   "metadata": {},
   "source": [
    "<h2> Research Question 1: Is there a difference in IMDB Scores between Netflix Originals released before 2020 and Netflix Originals that were created 2020 onwards? </h2>\n",
    "\n",
    "<b>H0</b> : There is no difference in the average IMDB Scores of Netflix originals released before 2020 and 2020 onwards<br>\n",
    "<b>H1</b> : There is a difference in the average IMDB Scores of Netflix originals released before 2020 and 2020 onwards <br>\n",
    "\n",
    "95% Confidence interval"
   ]
  },
  {
   "cell_type": "markdown",
   "metadata": {},
   "source": [
    "Before starting, we have to check if IMDB Scores are normally distributed"
   ]
  },
  {
   "cell_type": "code",
   "execution_count": 253,
   "metadata": {},
   "outputs": [
    {
     "data": {
      "text/plain": [
       "<AxesSubplot:xlabel='IMDB Score', ylabel='Count'>"
      ]
     },
     "execution_count": 253,
     "metadata": {},
     "output_type": "execute_result"
    },
    {
     "data": {
      "image/png": "[encoded data removed]",
      "text/plain": [
       "<Figure size 432x288 with 1 Axes>"
      ]
     },
     "metadata": {
      "needs_background": "light"
     },
     "output_type": "display_data"
    }
   ],
   "source": [
    "sns.histplot(data = netflix_df, x = \"IMDB Score\", kde = True)"
   ]
  },
  {
   "cell_type": "markdown",
   "metadata": {},
   "source": [
    "As shown in the graph, The IMDB scores of Netflix Originals are normally distributed, having the majority somewhere between 6 - 7."
   ]
  },
  {
   "cell_type": "markdown",
   "metadata": {},
   "source": [
    "Before we start, we first create a copy of the dataset"
   ]
  },
  {
   "cell_type": "code",
   "execution_count": 254,
   "metadata": {},
   "outputs": [
    {
     "data": {
      "text/html": [
       "<div>\n",
       "<style scoped>\n",
       "    .dataframe tbody tr th:only-of-type {\n",
       "        vertical-align: middle;\n",
       "    }\n",
       "\n",
       "    .dataframe tbody tr th {\n",
       "        vertical-align: top;\n",
       "    }\n",
       "\n",
       "    .dataframe thead th {\n",
       "        text-align: right;\n",
       "    }\n",
       "</style>\n",
       "<table border=\"1\" class=\"dataframe\">\n",
       "  <thead>\n",
       "    <tr style=\"text-align: right;\">\n",
       "      <th></th>\n",
       "      <th>Title</th>\n",
       "      <th>Genre</th>\n",
       "      <th>Premiere</th>\n",
       "      <th>Runtime</th>\n",
       "      <th>IMDB Score</th>\n",
       "      <th>Language1</th>\n",
       "      <th>Language2</th>\n",
       "      <th>Language3</th>\n",
       "    </tr>\n",
       "  </thead>\n",
       "  <tbody>\n",
       "    <tr>\n",
       "      <th>0</th>\n",
       "      <td>Enter the Anime</td>\n",
       "      <td>Documentary</td>\n",
       "      <td>2019-08-05</td>\n",
       "      <td>58</td>\n",
       "      <td>2.5</td>\n",
       "      <td>English</td>\n",
       "      <td>Japanese</td>\n",
       "      <td>None</td>\n",
       "    </tr>\n",
       "    <tr>\n",
       "      <th>1</th>\n",
       "      <td>Dark Forces</td>\n",
       "      <td>Thriller</td>\n",
       "      <td>2020-08-21</td>\n",
       "      <td>81</td>\n",
       "      <td>2.6</td>\n",
       "      <td>Spanish</td>\n",
       "      <td>None</td>\n",
       "      <td>None</td>\n",
       "    </tr>\n",
       "    <tr>\n",
       "      <th>2</th>\n",
       "      <td>The App</td>\n",
       "      <td>Science fiction/Drama</td>\n",
       "      <td>2019-12-26</td>\n",
       "      <td>79</td>\n",
       "      <td>2.6</td>\n",
       "      <td>Italian</td>\n",
       "      <td>None</td>\n",
       "      <td>None</td>\n",
       "    </tr>\n",
       "    <tr>\n",
       "      <th>3</th>\n",
       "      <td>The Open House</td>\n",
       "      <td>Thriller</td>\n",
       "      <td>2018-01-19</td>\n",
       "      <td>94</td>\n",
       "      <td>3.2</td>\n",
       "      <td>English</td>\n",
       "      <td>None</td>\n",
       "      <td>None</td>\n",
       "    </tr>\n",
       "    <tr>\n",
       "      <th>4</th>\n",
       "      <td>Kaali Khuhi</td>\n",
       "      <td>Mystery</td>\n",
       "      <td>2020-10-30</td>\n",
       "      <td>90</td>\n",
       "      <td>3.4</td>\n",
       "      <td>Hindi</td>\n",
       "      <td>None</td>\n",
       "      <td>None</td>\n",
       "    </tr>\n",
       "    <tr>\n",
       "      <th>...</th>\n",
       "      <td>...</td>\n",
       "      <td>...</td>\n",
       "      <td>...</td>\n",
       "      <td>...</td>\n",
       "      <td>...</td>\n",
       "      <td>...</td>\n",
       "      <td>...</td>\n",
       "      <td>...</td>\n",
       "    </tr>\n",
       "    <tr>\n",
       "      <th>579</th>\n",
       "      <td>Taylor Swift: Reputation Stadium Tour</td>\n",
       "      <td>Concert Film</td>\n",
       "      <td>2018-12-31</td>\n",
       "      <td>125</td>\n",
       "      <td>8.4</td>\n",
       "      <td>English</td>\n",
       "      <td>None</td>\n",
       "      <td>None</td>\n",
       "    </tr>\n",
       "    <tr>\n",
       "      <th>580</th>\n",
       "      <td>Winter on Fire: Ukraine's Fight for Freedom</td>\n",
       "      <td>Documentary</td>\n",
       "      <td>2015-10-09</td>\n",
       "      <td>91</td>\n",
       "      <td>8.4</td>\n",
       "      <td>English</td>\n",
       "      <td>Ukranian</td>\n",
       "      <td>Russian</td>\n",
       "    </tr>\n",
       "    <tr>\n",
       "      <th>581</th>\n",
       "      <td>Springsteen on Broadway</td>\n",
       "      <td>One-man show</td>\n",
       "      <td>2018-12-16</td>\n",
       "      <td>153</td>\n",
       "      <td>8.5</td>\n",
       "      <td>English</td>\n",
       "      <td>None</td>\n",
       "      <td>None</td>\n",
       "    </tr>\n",
       "    <tr>\n",
       "      <th>582</th>\n",
       "      <td>Emicida: AmarElo - It's All For Yesterday</td>\n",
       "      <td>Documentary</td>\n",
       "      <td>2020-12-08</td>\n",
       "      <td>89</td>\n",
       "      <td>8.6</td>\n",
       "      <td>Portuguese</td>\n",
       "      <td>None</td>\n",
       "      <td>None</td>\n",
       "    </tr>\n",
       "    <tr>\n",
       "      <th>583</th>\n",
       "      <td>David Attenborough: A Life on Our Planet</td>\n",
       "      <td>Documentary</td>\n",
       "      <td>2020-10-04</td>\n",
       "      <td>83</td>\n",
       "      <td>9.0</td>\n",
       "      <td>English</td>\n",
       "      <td>None</td>\n",
       "      <td>None</td>\n",
       "    </tr>\n",
       "  </tbody>\n",
       "</table>\n",
       "<p>584 rows × 8 columns</p>\n",
       "</div>"
      ],
      "text/plain": [
       "                                           Title                  Genre  \\\n",
       "0                                Enter the Anime            Documentary   \n",
       "1                                    Dark Forces               Thriller   \n",
       "2                                        The App  Science fiction/Drama   \n",
       "3                                 The Open House               Thriller   \n",
       "4                                    Kaali Khuhi                Mystery   \n",
       "..                                           ...                    ...   \n",
       "579        Taylor Swift: Reputation Stadium Tour           Concert Film   \n",
       "580  Winter on Fire: Ukraine's Fight for Freedom            Documentary   \n",
       "581                      Springsteen on Broadway           One-man show   \n",
       "582    Emicida: AmarElo - It's All For Yesterday            Documentary   \n",
       "583     David Attenborough: A Life on Our Planet            Documentary   \n",
       "\n",
       "      Premiere  Runtime  IMDB Score   Language1 Language2 Language3  \n",
       "0   2019-08-05       58         2.5     English  Japanese      None  \n",
       "1   2020-08-21       81         2.6     Spanish      None      None  \n",
       "2   2019-12-26       79         2.6     Italian      None      None  \n",
       "3   2018-01-19       94         3.2     English      None      None  \n",
       "4   2020-10-30       90         3.4       Hindi      None      None  \n",
       "..         ...      ...         ...         ...       ...       ...  \n",
       "579 2018-12-31      125         8.4     English      None      None  \n",
       "580 2015-10-09       91         8.4     English  Ukranian   Russian  \n",
       "581 2018-12-16      153         8.5     English      None      None  \n",
       "582 2020-12-08       89         8.6  Portuguese      None      None  \n",
       "583 2020-10-04       83         9.0     English      None      None  \n",
       "\n",
       "[584 rows x 8 columns]"
      ]
     },
     "execution_count": 254,
     "metadata": {},
     "output_type": "execute_result"
    }
   ],
   "source": [
    "temp_df = netflix_df.copy()\n",
    "temp_df"
   ]
  },
  {
   "cell_type": "markdown",
   "metadata": {},
   "source": [
    "Two dataframes will be created, one for Netflix Originals that are premiered before 2020 and 2020 onwards. After creating the two dataframes, the mean and standard deviation of the IMDB scores will be computed using the agg function "
   ]
  },
  {
   "cell_type": "code",
   "execution_count": 255,
   "metadata": {},
   "outputs": [
    {
     "name": "stdout",
     "output_type": "stream",
     "text": [
      "      IMDB Score\n",
      "mean    6.362727\n",
      "std     0.954642\n",
      "      IMDB Score\n",
      "mean    6.153543\n",
      "std     0.999905\n"
     ]
    }
   ],
   "source": [
    "#b20_df - below 2020\n",
    "#a20_df - above 2020\n",
    "\n",
    "b20_df = temp_df[(temp_df['Premiere'] > '2013') & (temp_df['Premiere'] < '2020')]\n",
    "a20_df = temp_df[temp_df['Premiere'] >= '2020']\n",
    "\n",
    "a20_n = len(a20_df)\n",
    "b20_n = len(b20_df)\n",
    "\n",
    "a20_agg = a20_df.agg({\"IMDB Score\": [\"mean\", \"std\"]})\n",
    "b20_agg = b20_df.agg({\"IMDB Score\": [\"mean\", \"std\"]})\n",
    "\n",
    "print(b20_agg)\n",
    "print(a20_agg)"
   ]
  },
  {
   "cell_type": "markdown",
   "metadata": {},
   "source": [
    "After getting the mean and standard deviation of the two groups. It is time to compute for the standard error, degrees of freedom and t-statistic to be able to compute for the p-value"
   ]
  },
  {
   "cell_type": "code",
   "execution_count": 256,
   "metadata": {},
   "outputs": [
    {
     "name": "stdout",
     "output_type": "stream",
     "text": [
      "Standard Error of a20 : 0.0627\n",
      "Standard Error of b20 : 0.0526\n",
      "SED : 0.0818\n"
     ]
    }
   ],
   "source": [
    "#compute for standard error\n",
    "a20_se = a20_agg.loc[\"std\"][0]/np.sqrt(a20_n)\n",
    "b20_se = b20_agg.loc[\"std\"][0]/np.sqrt(b20_n)\n",
    "\n",
    "print('Standard Error of a20 : {:.4f}'.format(a20_se))\n",
    "print('Standard Error of b20 : {:.4f}'.format(b20_se))\n",
    "\n",
    "sed = np.sqrt((a20_se**2.0) + (b20_se**2.0))\n",
    "print('SED : {:.4f}'.format(sed))"
   ]
  },
  {
   "cell_type": "code",
   "execution_count": 257,
   "metadata": {},
   "outputs": [
    {
     "name": "stdout",
     "output_type": "stream",
     "text": [
      "t-statistics : 2.5560\n",
      "degrees of freedom : 582.0000\n"
     ]
    }
   ],
   "source": [
    "#compute for t statistic\n",
    "t_stat = (b20_agg.loc[\"mean\"][0] - a20_agg.loc[\"mean\"][0]) / sed\n",
    "\n",
    "df = a20_n + b20_n - 2\n",
    "\n",
    "print('t-statistics : {:.4f}'.format(t_stat))\n",
    "print('degrees of freedom : {:.4f}'.format(df))"
   ]
  },
  {
   "cell_type": "code",
   "execution_count": 258,
   "metadata": {},
   "outputs": [
    {
     "name": "stdout",
     "output_type": "stream",
     "text": [
      "p-value : 0.010842\n"
     ]
    }
   ],
   "source": [
    "#now compute the p-value\n",
    "\n",
    "#significance level\n",
    "a = 0.05\n",
    "\n",
    "#get critical value\n",
    "critical_value = scipy.stats.t.ppf(1.0 - a, df)\n",
    "\n",
    "#get \n",
    "researchQ1_p = (1 - scipy.stats.t.cdf(abs(t_stat), df)) * 2\n",
    "\n",
    "print('p-value : {:4f}'.format(researchQ1_p))"
   ]
  },
  {
   "cell_type": "markdown",
   "metadata": {},
   "source": [
    "<h2> Research Question 2: Is there association between the Available Languages of a Netflix original and IMDB Score? </h2>\n",
    "\n",
    "<b>H0</b> : The IMDB Score range has no association with the Language availble of a Netflix Original <br>\n",
    "<b>H1</b> : The IMDB score has association with the Language avaible of a Netflix Original <br>\n",
    "\n",
    "95% Confidence interval"
   ]
  },
  {
   "cell_type": "markdown",
   "metadata": {},
   "source": [
    "As seen in Research Question 1, the IMDB scores of Netflix Originals are normally distributed\n",
    "\n",
    "<h3> Legend: </h3><br>\n",
    "<b>High</b> : score >= 7.0 <br>\n",
    "<b>low</b>  : score < 7.0 <br>\n",
    "\n",
    "According to IMDB, the average score of all films is 7.0. Therefore, we will use 7.0 as our guideline to determine what makes a Netflix original have a good or bad IMDB Score."
   ]
  },
  {
   "cell_type": "markdown",
   "metadata": {},
   "source": [
    "Before starting, Data preprocessing must be done before computing the p-value. <br>\n",
    "\n",
    "We first apply the scoring to the dataset by creating a copy. Then apply the \"score\" algorithm to determine what category is the IMDB Score of the Netflix Original"
   ]
  },
  {
   "cell_type": "code",
   "execution_count": 259,
   "metadata": {},
   "outputs": [
    {
     "data": {
      "text/html": [
       "<div>\n",
       "<style scoped>\n",
       "    .dataframe tbody tr th:only-of-type {\n",
       "        vertical-align: middle;\n",
       "    }\n",
       "\n",
       "    .dataframe tbody tr th {\n",
       "        vertical-align: top;\n",
       "    }\n",
       "\n",
       "    .dataframe thead th {\n",
       "        text-align: right;\n",
       "    }\n",
       "</style>\n",
       "<table border=\"1\" class=\"dataframe\">\n",
       "  <thead>\n",
       "    <tr style=\"text-align: right;\">\n",
       "      <th></th>\n",
       "      <th>Title</th>\n",
       "      <th>Genre</th>\n",
       "      <th>Premiere</th>\n",
       "      <th>Runtime</th>\n",
       "      <th>IMDB Score</th>\n",
       "      <th>Language1</th>\n",
       "      <th>Language2</th>\n",
       "      <th>Language3</th>\n",
       "      <th>IMDB Score Type</th>\n",
       "    </tr>\n",
       "  </thead>\n",
       "  <tbody>\n",
       "    <tr>\n",
       "      <th>0</th>\n",
       "      <td>Enter the Anime</td>\n",
       "      <td>Documentary</td>\n",
       "      <td>2019-08-05</td>\n",
       "      <td>58</td>\n",
       "      <td>2.5</td>\n",
       "      <td>English</td>\n",
       "      <td>Japanese</td>\n",
       "      <td>None</td>\n",
       "      <td>Low</td>\n",
       "    </tr>\n",
       "    <tr>\n",
       "      <th>1</th>\n",
       "      <td>Dark Forces</td>\n",
       "      <td>Thriller</td>\n",
       "      <td>2020-08-21</td>\n",
       "      <td>81</td>\n",
       "      <td>2.6</td>\n",
       "      <td>Spanish</td>\n",
       "      <td>None</td>\n",
       "      <td>None</td>\n",
       "      <td>Low</td>\n",
       "    </tr>\n",
       "    <tr>\n",
       "      <th>2</th>\n",
       "      <td>The App</td>\n",
       "      <td>Science fiction/Drama</td>\n",
       "      <td>2019-12-26</td>\n",
       "      <td>79</td>\n",
       "      <td>2.6</td>\n",
       "      <td>Italian</td>\n",
       "      <td>None</td>\n",
       "      <td>None</td>\n",
       "      <td>Low</td>\n",
       "    </tr>\n",
       "    <tr>\n",
       "      <th>3</th>\n",
       "      <td>The Open House</td>\n",
       "      <td>Thriller</td>\n",
       "      <td>2018-01-19</td>\n",
       "      <td>94</td>\n",
       "      <td>3.2</td>\n",
       "      <td>English</td>\n",
       "      <td>None</td>\n",
       "      <td>None</td>\n",
       "      <td>Low</td>\n",
       "    </tr>\n",
       "    <tr>\n",
       "      <th>4</th>\n",
       "      <td>Kaali Khuhi</td>\n",
       "      <td>Mystery</td>\n",
       "      <td>2020-10-30</td>\n",
       "      <td>90</td>\n",
       "      <td>3.4</td>\n",
       "      <td>Hindi</td>\n",
       "      <td>None</td>\n",
       "      <td>None</td>\n",
       "      <td>Low</td>\n",
       "    </tr>\n",
       "    <tr>\n",
       "      <th>...</th>\n",
       "      <td>...</td>\n",
       "      <td>...</td>\n",
       "      <td>...</td>\n",
       "      <td>...</td>\n",
       "      <td>...</td>\n",
       "      <td>...</td>\n",
       "      <td>...</td>\n",
       "      <td>...</td>\n",
       "      <td>...</td>\n",
       "    </tr>\n",
       "    <tr>\n",
       "      <th>579</th>\n",
       "      <td>Taylor Swift: Reputation Stadium Tour</td>\n",
       "      <td>Concert Film</td>\n",
       "      <td>2018-12-31</td>\n",
       "      <td>125</td>\n",
       "      <td>8.4</td>\n",
       "      <td>English</td>\n",
       "      <td>None</td>\n",
       "      <td>None</td>\n",
       "      <td>High</td>\n",
       "    </tr>\n",
       "    <tr>\n",
       "      <th>580</th>\n",
       "      <td>Winter on Fire: Ukraine's Fight for Freedom</td>\n",
       "      <td>Documentary</td>\n",
       "      <td>2015-10-09</td>\n",
       "      <td>91</td>\n",
       "      <td>8.4</td>\n",
       "      <td>English</td>\n",
       "      <td>Ukranian</td>\n",
       "      <td>Russian</td>\n",
       "      <td>High</td>\n",
       "    </tr>\n",
       "    <tr>\n",
       "      <th>581</th>\n",
       "      <td>Springsteen on Broadway</td>\n",
       "      <td>One-man show</td>\n",
       "      <td>2018-12-16</td>\n",
       "      <td>153</td>\n",
       "      <td>8.5</td>\n",
       "      <td>English</td>\n",
       "      <td>None</td>\n",
       "      <td>None</td>\n",
       "      <td>High</td>\n",
       "    </tr>\n",
       "    <tr>\n",
       "      <th>582</th>\n",
       "      <td>Emicida: AmarElo - It's All For Yesterday</td>\n",
       "      <td>Documentary</td>\n",
       "      <td>2020-12-08</td>\n",
       "      <td>89</td>\n",
       "      <td>8.6</td>\n",
       "      <td>Portuguese</td>\n",
       "      <td>None</td>\n",
       "      <td>None</td>\n",
       "      <td>High</td>\n",
       "    </tr>\n",
       "    <tr>\n",
       "      <th>583</th>\n",
       "      <td>David Attenborough: A Life on Our Planet</td>\n",
       "      <td>Documentary</td>\n",
       "      <td>2020-10-04</td>\n",
       "      <td>83</td>\n",
       "      <td>9.0</td>\n",
       "      <td>English</td>\n",
       "      <td>None</td>\n",
       "      <td>None</td>\n",
       "      <td>High</td>\n",
       "    </tr>\n",
       "  </tbody>\n",
       "</table>\n",
       "<p>584 rows × 9 columns</p>\n",
       "</div>"
      ],
      "text/plain": [
       "                                           Title                  Genre  \\\n",
       "0                                Enter the Anime            Documentary   \n",
       "1                                    Dark Forces               Thriller   \n",
       "2                                        The App  Science fiction/Drama   \n",
       "3                                 The Open House               Thriller   \n",
       "4                                    Kaali Khuhi                Mystery   \n",
       "..                                           ...                    ...   \n",
       "579        Taylor Swift: Reputation Stadium Tour           Concert Film   \n",
       "580  Winter on Fire: Ukraine's Fight for Freedom            Documentary   \n",
       "581                      Springsteen on Broadway           One-man show   \n",
       "582    Emicida: AmarElo - It's All For Yesterday            Documentary   \n",
       "583     David Attenborough: A Life on Our Planet            Documentary   \n",
       "\n",
       "      Premiere  Runtime  IMDB Score   Language1 Language2 Language3  \\\n",
       "0   2019-08-05       58         2.5     English  Japanese      None   \n",
       "1   2020-08-21       81         2.6     Spanish      None      None   \n",
       "2   2019-12-26       79         2.6     Italian      None      None   \n",
       "3   2018-01-19       94         3.2     English      None      None   \n",
       "4   2020-10-30       90         3.4       Hindi      None      None   \n",
       "..         ...      ...         ...         ...       ...       ...   \n",
       "579 2018-12-31      125         8.4     English      None      None   \n",
       "580 2015-10-09       91         8.4     English  Ukranian   Russian   \n",
       "581 2018-12-16      153         8.5     English      None      None   \n",
       "582 2020-12-08       89         8.6  Portuguese      None      None   \n",
       "583 2020-10-04       83         9.0     English      None      None   \n",
       "\n",
       "    IMDB Score Type  \n",
       "0               Low  \n",
       "1               Low  \n",
       "2               Low  \n",
       "3               Low  \n",
       "4               Low  \n",
       "..              ...  \n",
       "579            High  \n",
       "580            High  \n",
       "581            High  \n",
       "582            High  \n",
       "583            High  \n",
       "\n",
       "[584 rows x 9 columns]"
      ]
     },
     "execution_count": 259,
     "metadata": {},
     "output_type": "execute_result"
    }
   ],
   "source": [
    "#apply high or low score\n",
    "def score (score):\n",
    "    if score >= 7.0:\n",
    "        return \"High\"\n",
    "    elif score < 7.0:\n",
    "        return \"Low\"\n",
    "    \n",
    "netflix_copy = netflix_df.copy()\n",
    "netflix_copy[\"IMDB Score Type\"] = netflix_copy[\"IMDB Score\"].apply(score)\n",
    "netflix_copy"
   ]
  },
  {
   "cell_type": "markdown",
   "metadata": {},
   "source": [
    "We now group the Languages. We will only choose the languages that have at least a sample size of 5. But before we do that, we have to check the count of the Netflix Originals with Multilpe Languages."
   ]
  },
  {
   "cell_type": "code",
   "execution_count": 260,
   "metadata": {},
   "outputs": [],
   "source": [
    "count1 = netflix_copy['Language1'].value_counts()\n",
    "count2 = netflix_copy['Language2'].value_counts()\n",
    "count3 = netflix_copy['Language3'].value_counts()"
   ]
  },
  {
   "cell_type": "code",
   "execution_count": 261,
   "metadata": {},
   "outputs": [
    {
     "data": {
      "text/plain": [
       "English       419\n",
       "Spanish        34\n",
       "Hindi          33\n",
       "French         20\n",
       "Italian        14\n",
       "Portuguese     12\n",
       "Indonesian      9\n",
       "Japanese        6\n",
       "Korean          6\n",
       "German          5\n",
       "Turkish         5\n",
       "Marathi         3\n",
       "Dutch           3\n",
       "Polish          3\n",
       "Thai            3\n",
       "Filipino        2\n",
       "Tamil           1\n",
       "Malay           1\n",
       "Swedish         1\n",
       "Bengali         1\n",
       "Norwegian       1\n",
       "Khmer           1\n",
       "Georgian        1\n",
       "Name: Language1, dtype: int64"
      ]
     },
     "execution_count": 261,
     "metadata": {},
     "output_type": "execute_result"
    }
   ],
   "source": [
    "#use this to check values of all counts\n",
    "count1\n",
    "#count2\n",
    "#count3"
   ]
  },
  {
   "cell_type": "code",
   "execution_count": 262,
   "metadata": {},
   "outputs": [
    {
     "data": {
      "text/plain": [
       "English       422.0\n",
       "Spanish        39.0\n",
       "Hindi          35.0\n",
       "French         21.0\n",
       "Italian        14.0\n",
       "Portuguese     12.0\n",
       "Indonesian      9.0\n",
       "Japanese        8.0\n",
       "Korean          7.0\n",
       "Turkish         5.0\n",
       "German          5.0\n",
       "Marathi         3.0\n",
       "Mandarin        3.0\n",
       "Polish          3.0\n",
       "Dutch           3.0\n",
       "Thai            3.0\n",
       "Swedish         2.0\n",
       "Filipino        2.0\n",
       "Russian         2.0\n",
       "Taiwanese       1.0\n",
       "Tamil           1.0\n",
       "Akan            1.0\n",
       "Khmer           1.0\n",
       "Norwegian       1.0\n",
       "Malay           1.0\n",
       "Arabic          1.0\n",
       "Georgian        1.0\n",
       "Catalan         1.0\n",
       "Bengali         1.0\n",
       "Basque          1.0\n",
       "Ukranian        1.0\n",
       "dtype: float64"
      ]
     },
     "execution_count": 262,
     "metadata": {},
     "output_type": "execute_result"
    }
   ],
   "source": [
    "count1 = count1.add(count2, fill_value = 0)\n",
    "total = count1.add(count3, fill_value = 0)\n",
    "total.sort_values(ascending = False)"
   ]
  },
  {
   "cell_type": "markdown",
   "metadata": {},
   "source": [
    "Now that we got all the languages separated. We now check the count for each. After getting and checking the counts. We add the three\n",
    "\n",
    "The Netflix Originals now must be grouped according to the available languages. Netflix Originals with more than two languages will be in 2 or more groups."
   ]
  },
  {
   "cell_type": "markdown",
   "metadata": {},
   "source": [
    "Seen in the table above, The languages, English, Hindi, Spanish, French, Italian, Portuguese, Indonesian, Japanese and Korean, German and Turkish are the only languages that have at least 5 netflix originals. <br>\n",
    "\n",
    "We will now only take the Netflix Originals with languages that have the chosen languages."
   ]
  },
  {
   "cell_type": "code",
   "execution_count": 263,
   "metadata": {},
   "outputs": [
    {
     "data": {
      "text/html": [
       "<div>\n",
       "<style scoped>\n",
       "    .dataframe tbody tr th:only-of-type {\n",
       "        vertical-align: middle;\n",
       "    }\n",
       "\n",
       "    .dataframe tbody tr th {\n",
       "        vertical-align: top;\n",
       "    }\n",
       "\n",
       "    .dataframe thead th {\n",
       "        text-align: right;\n",
       "    }\n",
       "</style>\n",
       "<table border=\"1\" class=\"dataframe\">\n",
       "  <thead>\n",
       "    <tr style=\"text-align: right;\">\n",
       "      <th></th>\n",
       "      <th>Title</th>\n",
       "      <th>Genre</th>\n",
       "      <th>Premiere</th>\n",
       "      <th>Runtime</th>\n",
       "      <th>IMDB Score</th>\n",
       "      <th>Language1</th>\n",
       "      <th>Language2</th>\n",
       "      <th>Language3</th>\n",
       "      <th>IMDB Score Type</th>\n",
       "    </tr>\n",
       "  </thead>\n",
       "  <tbody>\n",
       "    <tr>\n",
       "      <th>0</th>\n",
       "      <td>Enter the Anime</td>\n",
       "      <td>Documentary</td>\n",
       "      <td>2019-08-05</td>\n",
       "      <td>58</td>\n",
       "      <td>2.5</td>\n",
       "      <td>English</td>\n",
       "      <td>Japanese</td>\n",
       "      <td>None</td>\n",
       "      <td>Low</td>\n",
       "    </tr>\n",
       "    <tr>\n",
       "      <th>1</th>\n",
       "      <td>Dark Forces</td>\n",
       "      <td>Thriller</td>\n",
       "      <td>2020-08-21</td>\n",
       "      <td>81</td>\n",
       "      <td>2.6</td>\n",
       "      <td>Spanish</td>\n",
       "      <td>None</td>\n",
       "      <td>None</td>\n",
       "      <td>Low</td>\n",
       "    </tr>\n",
       "    <tr>\n",
       "      <th>2</th>\n",
       "      <td>The App</td>\n",
       "      <td>Science fiction/Drama</td>\n",
       "      <td>2019-12-26</td>\n",
       "      <td>79</td>\n",
       "      <td>2.6</td>\n",
       "      <td>Italian</td>\n",
       "      <td>None</td>\n",
       "      <td>None</td>\n",
       "      <td>Low</td>\n",
       "    </tr>\n",
       "    <tr>\n",
       "      <th>3</th>\n",
       "      <td>The Open House</td>\n",
       "      <td>Thriller</td>\n",
       "      <td>2018-01-19</td>\n",
       "      <td>94</td>\n",
       "      <td>3.2</td>\n",
       "      <td>English</td>\n",
       "      <td>None</td>\n",
       "      <td>None</td>\n",
       "      <td>Low</td>\n",
       "    </tr>\n",
       "    <tr>\n",
       "      <th>4</th>\n",
       "      <td>Kaali Khuhi</td>\n",
       "      <td>Mystery</td>\n",
       "      <td>2020-10-30</td>\n",
       "      <td>90</td>\n",
       "      <td>3.4</td>\n",
       "      <td>Hindi</td>\n",
       "      <td>None</td>\n",
       "      <td>None</td>\n",
       "      <td>Low</td>\n",
       "    </tr>\n",
       "    <tr>\n",
       "      <th>...</th>\n",
       "      <td>...</td>\n",
       "      <td>...</td>\n",
       "      <td>...</td>\n",
       "      <td>...</td>\n",
       "      <td>...</td>\n",
       "      <td>...</td>\n",
       "      <td>...</td>\n",
       "      <td>...</td>\n",
       "      <td>...</td>\n",
       "    </tr>\n",
       "    <tr>\n",
       "      <th>581</th>\n",
       "      <td>Springsteen on Broadway</td>\n",
       "      <td>One-man show</td>\n",
       "      <td>2018-12-16</td>\n",
       "      <td>153</td>\n",
       "      <td>8.5</td>\n",
       "      <td>English</td>\n",
       "      <td>None</td>\n",
       "      <td>None</td>\n",
       "      <td>High</td>\n",
       "    </tr>\n",
       "    <tr>\n",
       "      <th>582</th>\n",
       "      <td>Emicida: AmarElo - It's All For Yesterday</td>\n",
       "      <td>Documentary</td>\n",
       "      <td>2020-12-08</td>\n",
       "      <td>89</td>\n",
       "      <td>8.6</td>\n",
       "      <td>Portuguese</td>\n",
       "      <td>None</td>\n",
       "      <td>None</td>\n",
       "      <td>High</td>\n",
       "    </tr>\n",
       "    <tr>\n",
       "      <th>583</th>\n",
       "      <td>David Attenborough: A Life on Our Planet</td>\n",
       "      <td>Documentary</td>\n",
       "      <td>2020-10-04</td>\n",
       "      <td>83</td>\n",
       "      <td>9.0</td>\n",
       "      <td>English</td>\n",
       "      <td>None</td>\n",
       "      <td>None</td>\n",
       "      <td>High</td>\n",
       "    </tr>\n",
       "    <tr>\n",
       "      <th>375</th>\n",
       "      <td>Hope Frozen: A Quest to Live Twice</td>\n",
       "      <td>Documentary</td>\n",
       "      <td>2020-09-15</td>\n",
       "      <td>80</td>\n",
       "      <td>6.7</td>\n",
       "      <td>None</td>\n",
       "      <td>English</td>\n",
       "      <td>None</td>\n",
       "      <td>Low</td>\n",
       "    </tr>\n",
       "    <tr>\n",
       "      <th>481</th>\n",
       "      <td>First They Killed My Father</td>\n",
       "      <td>Drama</td>\n",
       "      <td>2017-09-15</td>\n",
       "      <td>136</td>\n",
       "      <td>7.2</td>\n",
       "      <td>None</td>\n",
       "      <td>English</td>\n",
       "      <td>French</td>\n",
       "      <td>High</td>\n",
       "    </tr>\n",
       "  </tbody>\n",
       "</table>\n",
       "<p>565 rows × 9 columns</p>\n",
       "</div>"
      ],
      "text/plain": [
       "                                         Title                  Genre  \\\n",
       "0                              Enter the Anime            Documentary   \n",
       "1                                  Dark Forces               Thriller   \n",
       "2                                      The App  Science fiction/Drama   \n",
       "3                               The Open House               Thriller   \n",
       "4                                  Kaali Khuhi                Mystery   \n",
       "..                                         ...                    ...   \n",
       "581                    Springsteen on Broadway           One-man show   \n",
       "582  Emicida: AmarElo - It's All For Yesterday            Documentary   \n",
       "583   David Attenborough: A Life on Our Planet            Documentary   \n",
       "375         Hope Frozen: A Quest to Live Twice            Documentary   \n",
       "481                First They Killed My Father                  Drama   \n",
       "\n",
       "      Premiere  Runtime  IMDB Score   Language1 Language2 Language3  \\\n",
       "0   2019-08-05       58         2.5     English  Japanese      None   \n",
       "1   2020-08-21       81         2.6     Spanish      None      None   \n",
       "2   2019-12-26       79         2.6     Italian      None      None   \n",
       "3   2018-01-19       94         3.2     English      None      None   \n",
       "4   2020-10-30       90         3.4       Hindi      None      None   \n",
       "..         ...      ...         ...         ...       ...       ...   \n",
       "581 2018-12-16      153         8.5     English      None      None   \n",
       "582 2020-12-08       89         8.6  Portuguese      None      None   \n",
       "583 2020-10-04       83         9.0     English      None      None   \n",
       "375 2020-09-15       80         6.7        None   English      None   \n",
       "481 2017-09-15      136         7.2        None   English    French   \n",
       "\n",
       "    IMDB Score Type  \n",
       "0               Low  \n",
       "1               Low  \n",
       "2               Low  \n",
       "3               Low  \n",
       "4               Low  \n",
       "..              ...  \n",
       "581            High  \n",
       "582            High  \n",
       "583            High  \n",
       "375             Low  \n",
       "481            High  \n",
       "\n",
       "[565 rows x 9 columns]"
      ]
     },
     "execution_count": 263,
     "metadata": {},
     "output_type": "execute_result"
    }
   ],
   "source": [
    "def removeLanguage(l):\n",
    "    arr = ['English', 'Hindi', 'Spanish', 'French', 'Italian', 'Portuguese', 'Indonesian','Japanese', 'Korean', 'German', \"Turkish\"]\n",
    "    if l in arr:\n",
    "        return l\n",
    "    \n",
    "    return None\n",
    "    \n",
    "\n",
    "temp_Language = ['English', 'Hindi', 'Spanish', 'French', 'Italian', 'Portuguese', 'Indonesian','Japanese', 'Korean', 'German', \"Turkish\"]\n",
    "temp1_df = netflix_copy[netflix_copy['Language1'].isin(temp_Language)]\n",
    "temp2_df = netflix_copy[netflix_copy['Language2'].isin(temp_Language)]\n",
    "temp3_df = netflix_copy[netflix_copy['Language3'].isin(temp_Language)]\n",
    "\n",
    "\n",
    "researchQ2_df = pd.concat([temp1_df, temp2_df, temp3_df]).drop_duplicates()\n",
    "\n",
    "#remove languages not in chosen languages.\n",
    "researchQ2_df['Language1'] = researchQ2_df['Language1'].apply(removeLanguage)\n",
    "researchQ2_df['Language2'] = researchQ2_df['Language2'].apply(removeLanguage)\n",
    "researchQ2_df['Language3'] = researchQ2_df['Language3'].apply(removeLanguage)\n",
    "researchQ2_df"
   ]
  },
  {
   "cell_type": "markdown",
   "metadata": {},
   "source": [
    "Here is a table to see how many Netflix Originals have a high and low IMDB Score per Language."
   ]
  },
  {
   "cell_type": "code",
   "execution_count": 264,
   "metadata": {},
   "outputs": [
    {
     "data": {
      "text/html": [
       "<div>\n",
       "<style scoped>\n",
       "    .dataframe tbody tr th:only-of-type {\n",
       "        vertical-align: middle;\n",
       "    }\n",
       "\n",
       "    .dataframe tbody tr th {\n",
       "        vertical-align: top;\n",
       "    }\n",
       "\n",
       "    .dataframe thead th {\n",
       "        text-align: right;\n",
       "    }\n",
       "</style>\n",
       "<table border=\"1\" class=\"dataframe\">\n",
       "  <thead>\n",
       "    <tr style=\"text-align: right;\">\n",
       "      <th></th>\n",
       "      <th>High</th>\n",
       "      <th>Low</th>\n",
       "    </tr>\n",
       "    <tr>\n",
       "      <th>Language</th>\n",
       "      <th></th>\n",
       "      <th></th>\n",
       "    </tr>\n",
       "  </thead>\n",
       "  <tbody>\n",
       "    <tr>\n",
       "      <th>English</th>\n",
       "      <td>128</td>\n",
       "      <td>294.0</td>\n",
       "    </tr>\n",
       "    <tr>\n",
       "      <th>French</th>\n",
       "      <td>1</td>\n",
       "      <td>20.0</td>\n",
       "    </tr>\n",
       "    <tr>\n",
       "      <th>German</th>\n",
       "      <td>0</td>\n",
       "      <td>5.0</td>\n",
       "    </tr>\n",
       "    <tr>\n",
       "      <th>Hindi</th>\n",
       "      <td>7</td>\n",
       "      <td>28.0</td>\n",
       "    </tr>\n",
       "    <tr>\n",
       "      <th>Indonesian</th>\n",
       "      <td>1</td>\n",
       "      <td>8.0</td>\n",
       "    </tr>\n",
       "    <tr>\n",
       "      <th>Italian</th>\n",
       "      <td>2</td>\n",
       "      <td>12.0</td>\n",
       "    </tr>\n",
       "    <tr>\n",
       "      <th>Japanese</th>\n",
       "      <td>0</td>\n",
       "      <td>8.0</td>\n",
       "    </tr>\n",
       "    <tr>\n",
       "      <th>Korean</th>\n",
       "      <td>2</td>\n",
       "      <td>5.0</td>\n",
       "    </tr>\n",
       "    <tr>\n",
       "      <th>Portuguese</th>\n",
       "      <td>2</td>\n",
       "      <td>10.0</td>\n",
       "    </tr>\n",
       "    <tr>\n",
       "      <th>Spanish</th>\n",
       "      <td>11</td>\n",
       "      <td>28.0</td>\n",
       "    </tr>\n",
       "    <tr>\n",
       "      <th>Turkish</th>\n",
       "      <td>0</td>\n",
       "      <td>5.0</td>\n",
       "    </tr>\n",
       "  </tbody>\n",
       "</table>\n",
       "</div>"
      ],
      "text/plain": [
       "            High    Low\n",
       "Language               \n",
       "English      128  294.0\n",
       "French         1   20.0\n",
       "German         0    5.0\n",
       "Hindi          7   28.0\n",
       "Indonesian     1    8.0\n",
       "Italian        2   12.0\n",
       "Japanese       0    8.0\n",
       "Korean         2    5.0\n",
       "Portuguese     2   10.0\n",
       "Spanish       11   28.0\n",
       "Turkish        0    5.0"
      ]
     },
     "execution_count": 264,
     "metadata": {},
     "output_type": "execute_result"
    }
   ],
   "source": [
    "temp1_table = pd.crosstab(researchQ2_df[\"Language1\"], researchQ2_df[\"IMDB Score Type\"])\n",
    "temp2_table = pd.crosstab(researchQ2_df[\"Language2\"], researchQ2_df[\"IMDB Score Type\"])\n",
    "temp3_table = pd.crosstab(researchQ2_df[\"Language3\"], researchQ2_df[\"IMDB Score Type\"])\n",
    "\n",
    "vals = [\"Language\", \"High\", \"Low\"]\n",
    "vals1 = [\"Language\", \"High\"]\n",
    "\n",
    "temp1_table = temp1_table.reset_index().set_index('Language1', drop = False)\n",
    "temp2_table = temp2_table.reset_index().set_index('Language2', drop = False)\n",
    "temp3_table = temp3_table.reset_index().set_index('Language3', drop = False)\n",
    "\n",
    "temp1_table.columns = vals\n",
    "temp2_table.columns = vals\n",
    "temp3_table.columns = vals1\n",
    "\n",
    "researchQ2_table =  pd.concat([temp1_table, temp2_table, temp3_table])\n",
    "researchQ2_table = researchQ2_table.groupby(\"Language\", sort = False).sum()\n",
    "researchQ2_table"
   ]
  },
  {
   "cell_type": "markdown",
   "metadata": {},
   "source": [
    "After processing all the data that we need, it is now time to solve for the p-value. The Test used to answer this research question is <b> Chi-Square test </b>.\n",
    "\n",
    "Also after checking dataset, all of the observations are independent, and the groups have a sample size of atleast 5."
   ]
  },
  {
   "cell_type": "code",
   "execution_count": 265,
   "metadata": {},
   "outputs": [
    {
     "name": "stdout",
     "output_type": "stream",
     "text": [
      "p-value : 0.0506\n"
     ]
    }
   ],
   "source": [
    "researchQ2_chi = scipy.stats.chi2_contingency(researchQ2_table, correction = True)\n",
    "print('p-value : {:.4f}'.format(researchQ2_chi[1]))"
   ]
  },
  {
   "cell_type": "markdown",
   "metadata": {},
   "source": [
    "# Insights and Conclusions\n",
    "<p> In summary, we conducted the hypothesis testing as seen above to obtain the data for the research question. The testing of hypotheses or P-value method involves determining likely\" or \"unlikely\" by determining the probability — assuming the null hypothesis were true — of observing a more extreme test statistic in the direction of the alternative hypothesis than the one observed. If the P-value is small, say less than (or equal to) the alpha level, then it is \"unlikely.\" And, if the P-value is large, or more than the alpha level, then it is \"likely.\""
   ]
  },
  {
   "cell_type": "markdown",
   "metadata": {},
   "source": [
    "### For Research Question 1: Is there a difference in IMDB Scores between Netflix Originals released before 2020 and Netflix Originals that were created 2020 onwards?"
   ]
  },
  {
   "cell_type": "markdown",
   "metadata": {},
   "source": [
    "With the p-value of 0.010842 and the confidence interval of 95%, tells us that there is **sufficient evidence** to warrant rejection of the claim that there is no difference in the average IMDB Scores of Netflix originals released before 2020 and 2020 onwards.\n"
   ]
  },
  {
   "cell_type": "markdown",
   "metadata": {},
   "source": [
    "### For Research Question 2: Is there association between the Available Languages of a Netflix original and IMDB Score? </h2>"
   ]
  },
  {
   "cell_type": "markdown",
   "metadata": {},
   "source": [
    "With the calculated p-value of 0.0506 and the confidence interval of 95%, we can conclude from this question that there is **insufficient evidence** to infer that the IMDB Score range has no association with the Language availble of a Netflix Original. \n"
   ]
  },
  {
   "cell_type": "code",
   "execution_count": null,
   "metadata": {},
   "outputs": [],
   "source": []
  }
 ],
 "metadata": {
  "kernelspec": {
   "display_name": "Python 3",
   "language": "python",
   "name": "python3"
  },
  "language_info": {
   "codemirror_mode": {
    "name": "ipython",
    "version": 3
   },
   "file_extension": ".py",
   "mimetype": "text/x-python",
   "name": "python",
   "nbconvert_exporter": "python",
   "pygments_lexer": "ipython3",
   "version": "3.8.8"
  }
 },
 "nbformat": 4,
 "nbformat_minor": 4
}
