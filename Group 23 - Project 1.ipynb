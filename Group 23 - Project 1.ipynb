{
 "cells": [
  {
   "cell_type": "markdown",
   "metadata": {},
   "source": [
    "<h1> CSMODEL Project 1 </h1>\n",
    "<h2> Group 23</h2>\n",
    "Members:\n",
    "Lima, Alfonso Gabriel V.\n",
    "Olalia, Pamela Kirsten G.\n",
    "Ortega, A\n"
   ]
  },
  {
   "cell_type": "markdown",
   "metadata": {},
   "source": [
    "## Netflix Original Films & IMDb Scores\n",
    "The dataset of the notebook is called *Netflix Original Films & IMDB Scores*. It contains all of Netflix's produced films as of June 1, 2021. It contains basic information regarding each film such as the title, genre, language, runtime, and IMDb Score. \n",
    "\n",
    "The data in this dataset was acquired via webscraping of a [Wikipedia page](https://en.wikipedia.org/wiki/Lists_of_Netflix_original_films) by Nakul Lakhotia about Netflix's produced films over the years. The data was then integrated with its corresponding IMDb score manually by the owner of the dataset. The IMDb scores were aquired in their official website: [imdb.com](https://www.imdb.com/), which is the premiere website for movie reviews and critique.\n",
    "\n"
   ]
  },
  {
   "cell_type": "markdown",
   "metadata": {},
   "source": [
    "## pandas, matplotlib and chardet\n",
    "**pandas** is a software library for Python that is designed for data manipulation and data analysis. **matplotlib** is a software libary for data visualization, which allows us to easily render various types of graphs. We will be using these two libraries in this Notebook. **chardet** is a software library for Python that serves as the Universal Character Encoding Detector."
   ]
  },
  {
   "cell_type": "code",
   "execution_count": 9,
   "metadata": {},
   "outputs": [],
   "source": [
    "import numpy as np\n",
    "import pandas as pd\n",
    "import matplotlib.pyplot as plt\n",
    "import seaborn as sns\n",
    "import chardet"
   ]
  },
  {
   "cell_type": "markdown",
   "metadata": {},
   "source": [
    "## Reading the dataset"
   ]
  },
  {
   "cell_type": "code",
   "execution_count": 10,
   "metadata": {},
   "outputs": [],
   "source": [
    "with open('NetflixOriginals.csv', 'rb') as f:\n",
    "    result = chardet.detect(f.read())  # or readline if the file is large"
   ]
  },
  {
   "cell_type": "code",
   "execution_count": 11,
   "metadata": {},
   "outputs": [],
   "source": [
    "netflix_df = pd.read_csv('NetflixOriginals.csv', encoding=result['encoding'])"
   ]
  },
  {
   "cell_type": "markdown",
   "metadata": {},
   "source": [
    "## Structure of the Dataset"
   ]
  },
  {
   "cell_type": "code",
   "execution_count": 12,
   "metadata": {},
   "outputs": [
    {
     "name": "stdout",
     "output_type": "stream",
     "text": [
      "<class 'pandas.core.frame.DataFrame'>\n",
      "RangeIndex: 584 entries, 0 to 583\n",
      "Data columns (total 6 columns):\n",
      " #   Column      Non-Null Count  Dtype  \n",
      "---  ------      --------------  -----  \n",
      " 0   Title       584 non-null    object \n",
      " 1   Genre       584 non-null    object \n",
      " 2   Premiere    584 non-null    object \n",
      " 3   Runtime     584 non-null    int64  \n",
      " 4   IMDB Score  584 non-null    float64\n",
      " 5   Language    584 non-null    object \n",
      "dtypes: float64(1), int64(1), object(4)\n",
      "memory usage: 27.5+ KB\n"
     ]
    }
   ],
   "source": [
    "netflix_df.info()"
   ]
  },
  {
   "cell_type": "markdown",
   "metadata": {},
   "source": [
    "There are a total of 584 observations in the dataset. Each observation contains 6 variables to describe each observation. These are the records and details for every film by Netflix"
   ]
  },
  {
   "cell_type": "code",
   "execution_count": 13,
   "metadata": {},
   "outputs": [
    {
     "data": {
      "text/html": [
       "<div>\n",
       "<style scoped>\n",
       "    .dataframe tbody tr th:only-of-type {\n",
       "        vertical-align: middle;\n",
       "    }\n",
       "\n",
       "    .dataframe tbody tr th {\n",
       "        vertical-align: top;\n",
       "    }\n",
       "\n",
       "    .dataframe thead th {\n",
       "        text-align: right;\n",
       "    }\n",
       "</style>\n",
       "<table border=\"1\" class=\"dataframe\">\n",
       "  <thead>\n",
       "    <tr style=\"text-align: right;\">\n",
       "      <th></th>\n",
       "      <th>Title</th>\n",
       "      <th>Genre</th>\n",
       "      <th>Premiere</th>\n",
       "      <th>Runtime</th>\n",
       "      <th>IMDB Score</th>\n",
       "      <th>Language</th>\n",
       "    </tr>\n",
       "  </thead>\n",
       "  <tbody>\n",
       "    <tr>\n",
       "      <th>0</th>\n",
       "      <td>Enter the Anime</td>\n",
       "      <td>Documentary</td>\n",
       "      <td>August 5, 2019</td>\n",
       "      <td>58</td>\n",
       "      <td>2.5</td>\n",
       "      <td>English/Japanese</td>\n",
       "    </tr>\n",
       "    <tr>\n",
       "      <th>1</th>\n",
       "      <td>Dark Forces</td>\n",
       "      <td>Thriller</td>\n",
       "      <td>August 21, 2020</td>\n",
       "      <td>81</td>\n",
       "      <td>2.6</td>\n",
       "      <td>Spanish</td>\n",
       "    </tr>\n",
       "    <tr>\n",
       "      <th>2</th>\n",
       "      <td>The App</td>\n",
       "      <td>Science fiction/Drama</td>\n",
       "      <td>December 26, 2019</td>\n",
       "      <td>79</td>\n",
       "      <td>2.6</td>\n",
       "      <td>Italian</td>\n",
       "    </tr>\n",
       "    <tr>\n",
       "      <th>3</th>\n",
       "      <td>The Open House</td>\n",
       "      <td>Horror thriller</td>\n",
       "      <td>January 19, 2018</td>\n",
       "      <td>94</td>\n",
       "      <td>3.2</td>\n",
       "      <td>English</td>\n",
       "    </tr>\n",
       "    <tr>\n",
       "      <th>4</th>\n",
       "      <td>Kaali Khuhi</td>\n",
       "      <td>Mystery</td>\n",
       "      <td>October 30, 2020</td>\n",
       "      <td>90</td>\n",
       "      <td>3.4</td>\n",
       "      <td>Hindi</td>\n",
       "    </tr>\n",
       "  </tbody>\n",
       "</table>\n",
       "</div>"
      ],
      "text/plain": [
       "             Title                  Genre           Premiere  Runtime  \\\n",
       "0  Enter the Anime            Documentary     August 5, 2019       58   \n",
       "1      Dark Forces               Thriller    August 21, 2020       81   \n",
       "2          The App  Science fiction/Drama  December 26, 2019       79   \n",
       "3   The Open House        Horror thriller   January 19, 2018       94   \n",
       "4      Kaali Khuhi                Mystery   October 30, 2020       90   \n",
       "\n",
       "   IMDB Score          Language  \n",
       "0         2.5  English/Japanese  \n",
       "1         2.6           Spanish  \n",
       "2         2.6           Italian  \n",
       "3         3.2           English  \n",
       "4         3.4             Hindi  "
      ]
     },
     "execution_count": 13,
     "metadata": {},
     "output_type": "execute_result"
    }
   ],
   "source": [
    "netflix_df.head()"
   ]
  },
  {
   "cell_type": "markdown",
   "metadata": {},
   "source": [
    "## Variables in the Dataset"
   ]
  },
  {
   "cell_type": "markdown",
   "metadata": {},
   "source": [
    "The following are detailed descriptions of each column in the dataset: <br>\n",
    "> 1. ***Title*** - The name of the film. This is the unique value of each observation in the dataset <br>\n",
    "2. ***Genre*** - The type of film based on its narrative elements. This describes what kind of plot the film portrays. Some observations may have a mix of 2 or more genres. <br>\n",
    "3. ***Premiere*** - The date when the film was released to the public.<br>\n",
    "4. ***Runtime*** - The overall length of the film in minutes.<br>\n",
    "5. ***IMDB Score*** - The score of the film on the IMDB website. The scores are taken from members of the IMDB community.\n",
    "6. ***Language*** - The languages used in the film. Some films may have a mix of 2 or more languages"
   ]
  },
  {
   "cell_type": "markdown",
   "metadata": {},
   "source": [
    "## Data Cleaning"
   ]
  },
  {
   "cell_type": "markdown",
   "metadata": {},
   "source": [
    "#### Missing Values\n",
    "The following code returns the number of null values which represents a missing value for each variable in the dataset."
   ]
  },
  {
   "cell_type": "code",
   "execution_count": 14,
   "metadata": {},
   "outputs": [
    {
     "data": {
      "text/plain": [
       "Title         0\n",
       "Genre         0\n",
       "Premiere      0\n",
       "Runtime       0\n",
       "IMDB Score    0\n",
       "Language      0\n",
       "dtype: int64"
      ]
     },
     "execution_count": 14,
     "metadata": {},
     "output_type": "execute_result"
    }
   ],
   "source": [
    "netflix_df.isnull().sum()"
   ]
  },
  {
   "cell_type": "markdown",
   "metadata": {},
   "source": [
    "As seen above, there are no observations that contains a null value in any variable."
   ]
  },
  {
   "cell_type": "markdown",
   "metadata": {},
   "source": [
    "#### Data Type\n",
    "The following code returns the data type of each variable in the dataset."
   ]
  },
  {
   "cell_type": "code",
   "execution_count": 15,
   "metadata": {},
   "outputs": [
    {
     "data": {
      "text/plain": [
       "Title          object\n",
       "Genre          object\n",
       "Premiere       object\n",
       "Runtime         int64\n",
       "IMDB Score    float64\n",
       "Language       object\n",
       "dtype: object"
      ]
     },
     "execution_count": 15,
     "metadata": {},
     "output_type": "execute_result"
    }
   ],
   "source": [
    "netflix_df.dtypes"
   ]
  },
  {
   "cell_type": "markdown",
   "metadata": {},
   "source": [
    "Almost all of the variables have the appropriate data type for their values except for the *Premiere*. Since the *Premiere* column contains the date of the premiere of the film, the appropriate data type for this is the **Datetime** data type not an object/string.\n",
    "\n",
    "The following code will convert the data type to **Datetime**."
   ]
  },
  {
   "cell_type": "code",
   "execution_count": 16,
   "metadata": {},
   "outputs": [
    {
     "data": {
      "text/plain": [
       "Title                 object\n",
       "Genre                 object\n",
       "Premiere      datetime64[ns]\n",
       "Runtime                int64\n",
       "IMDB Score           float64\n",
       "Language              object\n",
       "dtype: object"
      ]
     },
     "execution_count": 16,
     "metadata": {},
     "output_type": "execute_result"
    }
   ],
   "source": [
    "netflix_df[\"Premiere\"] = pd.to_datetime(netflix_df['Premiere'])\n",
    "netflix_df.dtypes"
   ]
  },
  {
   "cell_type": "markdown",
   "metadata": {},
   "source": [
    "Now all of the variables in the dataset have the appropriate data type for their values."
   ]
  },
  {
   "cell_type": "markdown",
   "metadata": {},
   "source": [
    "#### Duplicate  Values\n",
    "The values under the *Title* column are the only distinct values for each observation. This is because this is the only attribute that does not describe the observation but names it. So, to check if there are any duplicate values in the dataset, we must count how many unique values are under the *Title* column. If they are equal to the number of observations, then there are no duplicate observations.\n"
   ]
  },
  {
   "cell_type": "code",
   "execution_count": 17,
   "metadata": {},
   "outputs": [
    {
     "data": {
      "text/plain": [
       "584"
      ]
     },
     "execution_count": 17,
     "metadata": {},
     "output_type": "execute_result"
    }
   ],
   "source": [
    "netflix_df['Title'].nunique()"
   ]
  },
  {
   "cell_type": "markdown",
   "metadata": {},
   "source": [
    "The code above returns the number of unique values under the *Title* column. It is equal to the number of observations, therefore, there are **no duplicate values in the dataset**"
   ]
  },
  {
   "cell_type": "markdown",
   "metadata": {},
   "source": [
    "#### Data Format\n",
    "Now we want to check if the data under the different columns are consistent with each other. The following blocks of code will display this."
   ]
  },
  {
   "cell_type": "code",
   "execution_count": 18,
   "metadata": {},
   "outputs": [
    {
     "data": {
      "text/plain": [
       "array(['Enter the Anime', 'Dark Forces', 'The App', 'The Open House',\n",
       "       'Kaali Khuhi', 'Drive', 'Leyla Everlasting',\n",
       "       'The Last Days of American Crime', 'Paradox', 'Sardar Ka Grandson',\n",
       "       'Searching for Sheela', 'The Call', 'Whipped',\n",
       "       'All Because of You', 'Mercy', 'After the Raid', 'Ghost Stories',\n",
       "       'The Last Thing He Wanted', 'What Happened to Mr. Cha?',\n",
       "       'Death Note', \"Hello Privilege. It's Me, Chelsea\",\n",
       "       'Secret Obsession', 'Sextuplets', 'The Girl on the Train',\n",
       "       'Thunder Force', 'Fatal Affair', 'Just Say Yes',\n",
       "       'Seriously Single', 'The Misadventures of Hedi and Cokeman',\n",
       "       '5 Star Christmas', 'After Maria',\n",
       "       'I Am the Pretty Thing That Lives in the House', 'Paris Is Us',\n",
       "       'Porta dos Fundos: The First Temptation of Christ', 'Rattlesnake',\n",
       "       'The Players', 'We Are One', 'Finding Agnes', 'IO', 'Sentinelle',\n",
       "       'Sol Levante', 'The Binding', 'We Can Be Heroes',\n",
       "       'Christmas Crossfire', 'Coin Heist', 'Mrs. Serial Killer',\n",
       "       'Nobody Sleeps in the Woods Tonight', 'Take the 10',\n",
       "       'The Main Event', 'The Ridiculous 6', 'Earth and Blood',\n",
       "       'Fearless', 'Holiday Rush', 'The Day of the Lord', 'Airplane Mode',\n",
       "       'How It Ends', 'Love Like the Falling Rain', 'Rebirth',\n",
       "       'Squared Love', 'Cadaver', 'Clinical', 'Coffee & Kareem', 'Dude',\n",
       "       'Geez & Ann', 'The Larva Island Movie', '#REALITYHIGH',\n",
       "       'American Factory: A Conversation with the Obamas ', 'Desperados',\n",
       "       \"Dolly Parton's Christmas on the Square\", 'Father of the Year',\n",
       "       'Firebrand', 'Ghost Lab', \"Girlfriend's Day\",\n",
       "       'Handsome: A Netflix Mystery Movie', 'Hubie Halloween', 'Ibiza',\n",
       "       'Rim of the World', 'Sandy Wexler', 'See You Yesterday',\n",
       "       'Still Laugh-In: The Stars Celebrate', 'Strip Down, Rise Up',\n",
       "       'Tall Girl', 'The Beast', 'The Week Of',\n",
       "       'A Christmas Prince: The Royal Wedding', 'Back to School',\n",
       "       'Dangerous Lies', 'Gunjan Saxena: The Kargil Girl', 'Intuition',\n",
       "       'The Most Assassinated Woman in the World', 'Things Heard & Seen',\n",
       "       'To Each, Her Own', 'Who Would You Take to a Deserted Island?',\n",
       "       'XOXO', \"A Babysitter's Guide to Monster Hunting\",\n",
       "       'A Christmas Prince: The Royal Baby', 'Despite Everything',\n",
       "       'Dolly Kitty and Those Twinkling Stars',\n",
       "       \"Freaks: You're One of Us\", 'Game Over, Man!', 'Guilty',\n",
       "       'In the Tall Grass', 'Madame Claude', 'Naked', 'Outside the Wire',\n",
       "       'The Princess Switch: Switched Again', 'Under the Riccione Sun',\n",
       "       'A Very Murray Christmas', 'Been So Long', 'Dead Kids',\n",
       "       'Get the Grift', 'Ghosts of Sugar Land', 'House Arrest',\n",
       "       \"Kevin Hart's Guide to Black History\", 'Love Wedding Repeat',\n",
       "       'Mute', 'Òlòt?ré', 'Red Dot', 'Ride or Die', 'Step Sisters',\n",
       "       'The Cloverfield Paradox', 'The Knight Before Christmas',\n",
       "       'The Legacy of a Whitetail Deer Hunter', 'The Package',\n",
       "       'Unicorn Store', 'Wine Country', 'Bomb Scared', 'Brahman Naman',\n",
       "       'Double Dad', 'Falling Inn Love', 'Hold the Dark',\n",
       "       'Love, Guaranteed', 'One-Way to Tomorrow',\n",
       "       \"Sarah Cooper: Everything's Fine\", 'The Last Laugh',\n",
       "       'The Last Paradiso', 'The Midnight Sky', 'The Paramedic',\n",
       "       'The Sleepover', 'Vampires vs. the Bronx', 'Why Did You Kill Me?',\n",
       "       'A Week Away', 'Caught by a Wave', 'Christmas Inheritance',\n",
       "       'Dad Wanted', 'El Camino Christmas', 'Eli', 'Ginny Weds Sunny',\n",
       "       'Good Sam', 'Lionheart', 'Little Evil', 'One Take',\n",
       "       'Out of Many, One', 'Point Blank', 'Prime Time', 'The Do-Over',\n",
       "       'The Holiday Calendar', 'The Woman in the Window',\n",
       "       'The Wrong Missy', 'Velvet Buzzsaw', 'Yes Day', '15 August',\n",
       "       'A California Christmas', 'A Christmas Prince',\n",
       "       'All Day and a Night', 'American Son', 'Barry', 'Candy Jar',\n",
       "       'Choked: Paisa Bolta Hai', \"Class of '83\", 'Extinction',\n",
       "       'Happy Anniversary', 'I Am All Girls', 'Let It Snow', 'Mascots',\n",
       "       'Operation Christmas Drop', 'Rajma Chawal', 'Rich in Love',\n",
       "       'Rising High', 'Rodney King', 'Sierra Burgess Is a Loser',\n",
       "       'Small Crimes', 'Special Correspondents', 'TAU', 'The After Party',\n",
       "       'The Babysitter: Killer Queen', 'The Claus Family',\n",
       "       'The Kissing Booth 2', 'The Perfect Date', 'What We Wanted',\n",
       "       \"You've Got This\", '6 Balloons', 'A Fall from Grace', 'Amateur',\n",
       "       'Army of the Dead', 'Cam', 'Earthquake Bird',\n",
       "       \"Frankenstein's Monster's Monster, Frankenstein\", 'Horse Girl',\n",
       "       'Notes from Dunblane: Lesson from a School Shooting', 'Maska',\n",
       "       'The Decline', 'The Minimalists: Less Is Now', 'The Polka King',\n",
       "       'The Prom', 'True Memoirs of an International Assassin', 'Ultras',\n",
       "       'Come Sunday', 'Forgive Us Our Debts', 'iBoy', 'Lovefucked',\n",
       "       'Juanita', 'Murder Mystery', 'Project Power', 'Rebecca',\n",
       "       'The Christmas Chronicles: Part Two', 'The Kissing Booth',\n",
       "       'The Princess Switch', 'To All the Boys: P.S. I Still Love You',\n",
       "       'War Machine', '6 Underground', 'Between Two Ferns: The Movie',\n",
       "       'Burning Sands', 'Casting JonBenet', 'Deidra & Laney Rob a Train',\n",
       "       \"Finding 'Ohana\", 'Holidate', 'Holiday in the Wild',\n",
       "       'Hot Girls Wanted', 'Like Father', 'Lost Girls', 'Otherhood',\n",
       "       \"Pee-wee's Big Holiday\", 'Rogue City', 'Sergio', 'Stuck Apart',\n",
       "       'Tersanjung the Movie', 'The Killer', 'The Lovebirds',\n",
       "       'The Most Hated Woman in America', 'The Perfection',\n",
       "       'Tribhanga – Tedhi Medhi Crazy', 'Unknown Origins', 'Work It',\n",
       "       'Alien Xmas', 'Baggio: The Divine Ponytail', 'Below Zero',\n",
       "       'Citation', 'Crazy Awesome Teachers',\n",
       "       'Have You Ever Seen Fireflies?', 'High Flying Bird',\n",
       "       'In the Shadow of the Moon', 'Lost Bullet',\n",
       "       'Octonauts & the Caves of Sac Actun', 'Offering to the Storm',\n",
       "       'Roxanne Roxanne', 'Someone Great', 'Spenser Confidential',\n",
       "       'The Land of Steady Habits', 'The Rachel Divide', 'Voyuer ',\n",
       "       'Win It All', '1922', 'A Tale of Two Kitchens', 'Alex Strangelove',\n",
       "       'Apostle', 'Benji', 'Bright', 'Cargo', 'Concrete Cowboy',\n",
       "       'Feel the Beat', 'Get the Goat', 'I Am Not an Easy Man',\n",
       "       'June & Kopi', 'Music Teacher', 'Nail Bomber: Manhunt',\n",
       "       'Notes for My Son', 'Polar', 'Porta dos Fundos: The Last Hangover',\n",
       "       'Sand Castle', 'Shimmer Lake', 'Spectral', 'The Babysitter',\n",
       "       'The Discovery', 'The Forest of Love', 'The Laundromat',\n",
       "       'The Legend of Cocaine Island', 'The Outsider', 'Time to Hunt',\n",
       "       'To All the Boys: Always and Forever',\n",
       "       'Travis Scott: Look Mom I Can Fly', 'Uncorked',\n",
       "       'Anelka: Misunderstood', 'Ariana Grande: Excuse Me, I Love You',\n",
       "       'ARQ', 'Birders', 'Como Caído del Cielo', 'First Match',\n",
       "       'Fractured', 'Irreplaceable You', 'Isi & Ossi',\n",
       "       'John Was Trying to Contact Aliens', 'Layla Majnun',\n",
       "       'Murder to Mercy: The Cyntoia Brown Story', 'My Own Man',\n",
       "       'Nappily Ever After', 'Over the Moon', 'Street Flow',\n",
       "       'Strong Island', 'Sturgill Simpson Presents: Sound & Fury',\n",
       "       'Take Your Pills', 'The Heartbreak Club', 'The Mars Generation',\n",
       "       'The Occupant', 'The Willoughbys', 'Triple Frontier',\n",
       "       'Two Catalonias', 'Walk. Ride. Rodeo.', 'Wheelman',\n",
       "       'When We First Met', 'A 3 Minute Hug', 'All the Bright Places',\n",
       "       'All Together Now', 'Altered Carbon: Resleeved',\n",
       "       'Antoine Griezmann: The Making of a Legend', 'Canvas ',\n",
       "       'Chadwick Boseman: Portrait of an Artist', 'Chopsticks',\n",
       "       'Da 5 Bloods', 'Dolly Parton: A MusiCares Tribute',\n",
       "       'Eurovision Song Contest: The Story of Fire Saga', \"Gerald's Game\",\n",
       "       'His House', 'Jingle Jangle: A Christmas Journey',\n",
       "       'Life Overtakes Me', 'Lust Stories', 'Monster',\n",
       "       'Mowgli: Legend of the Jungle', \"Nobody Knows I'm Here\",\n",
       "       'Nobody Speak: Trials of the Free Press', 'Oxygen', 'Set It Up',\n",
       "       'The Incredible Jessica James', 'Tigertail', 'Tramps',\n",
       "       'What Did Jack Do?', 'Bad Trip', 'Bird Box', 'Bulbbul',\n",
       "       'Crazy About Her', 'Elisa & Marcela', \"I'll Sleep When I'm Dead\",\n",
       "       \"I'm Thinking of Ending Things\", 'It Takes a Lunatic', 'Milestone',\n",
       "       'Recovery Boys', 'ReMastered: Who Killed Jam Master Jay?',\n",
       "       'Shawn Mendes: In Wonder', 'Space Sweepers', 'The American Meme',\n",
       "       'The Angel', 'The Crimes That Bind', 'The Red Sea Diving Resort',\n",
       "       'What Would Sophia Loren Do?', 'A Whisker Away', 'Ajeeb Daastaans',\n",
       "       'Arlo the Alligator Boy', 'Bikram: Yogi, Guru, Predator', 'Blame!',\n",
       "       'Blue Miracle', 'CounterPunch ',\n",
       "       'Crack: Cocaine, Corruption & Conspiracy', 'Extraction',\n",
       "       'Giving Voice', 'Hillbilly Elegy',\n",
       "       'Hope Frozen: A Quest to Live Twice', 'Imperial Dreams',\n",
       "       'Just Another Christmas', 'Little Miss Sumo', 'Malcolm & Marie',\n",
       "       \"Michael Bolton's Big, Sexy, Valentine's Day Special\", 'Moxie',\n",
       "       'Night in Paradise', 'Paper Lives', 'Parchis: The Documentary',\n",
       "       'Tallulah', 'The Old Guard', 'Tony Robbins: I Am Not Your Guru',\n",
       "       'Upstarts', '22 July', '7 años', 'A Futile and Stupid Gesture',\n",
       "       'A Life of Speed: The Juan Manuel Fangio Story',\n",
       "       'A Love Song for Latasha', 'All in My Family',\n",
       "       'Always Be My Maybe', 'Becoming', 'Long Live Brij Mohan',\n",
       "       'Calibre', 'Death to 2020', 'GIMS: On the Record',\n",
       "       'Have a Good Trip: Adventures in Psychedelics', 'Heroin(e) ',\n",
       "       'Mercury 13', 'Saving Capitalism', 'Serious Men',\n",
       "       'The Boys in the Band', 'The Boys in the Band: Something Personal',\n",
       "       'The Life Ahead', 'The Other Side of the Wind', 'The Trader',\n",
       "       'To the Bone', 'Tony Parker: The Final Shot', 'AK vs AK',\n",
       "       'Amanda Knox', 'Bigflo & Oil: Hip Hop Frenzy',\n",
       "       'Biggie: I Got a Story to Tell', 'Cops and Robbers',\n",
       "       \"I Don't Feel at Home in This World Anymore\", 'Laerte-se', 'Mank',\n",
       "       'Our Souls at Night', 'Outlaw King', 'Pagglait',\n",
       "       'ReMastered: Who Shot the Sheriff?', 'Seeing Allred',\n",
       "       'Spelling the Dream', 'The Claudia Kishi Club', 'The Half of It',\n",
       "       'The Highwaymen',\n",
       "       'The Lonely Island Presents: The Unauthorized Bash Brothers Experience',\n",
       "       'The Meyerowitz Stories (New and Selected)',\n",
       "       'Feminists: What Were They Thinking?', 'Gaga: Five Foot Two',\n",
       "       \"I'm No Longer Here: A Discussion with Guillermo del Toro and Alfonso Cuaron\",\n",
       "       'Kingdom of Us', 'Lorena, Light-Footed Woman',\n",
       "       'Los Tigres del Norte at Folsom Prison',\n",
       "       \"Ma Rainey's Black Bottom\",\n",
       "       \"Ma Rainey's Black Bottom: A Legacy Brought to Screen\",\n",
       "       'Operation Varsity Blues: The College Admissions Scandal', 'Pele',\n",
       "       'ReMastered: Devil at the Crossroads',\n",
       "       \"ReMastered: The Lion's Share\",\n",
       "       'ReMastered: The Miami Showband Massacre', 'Resurface',\n",
       "       \"Rocko's Modern Life: Static Cling\", 'Rose Island',\n",
       "       'The Christmas Chronicles', 'The Dirt', 'The Night Comes for Us',\n",
       "       '13th: A Conversation with Oprah Winfrey & Ava DuVernay',\n",
       "       \"Angela's Christmas\", \"Angela's Christmas Wish\", 'Beats',\n",
       "       'Circus of Books', 'Dance Dreams: Hot Chocolate Nutcracker',\n",
       "       'Derren Brown: Sacrifice', 'El Pepe: A Supreme Life', 'End Game',\n",
       "       'Evelyn', 'Ferry', 'Grass Is Greener',\n",
       "       'Guillermo Vilas: Settling the Score',\n",
       "       'Joshua: Teenager vs. Superpower',\n",
       "       'Keith Richards: Under the Influence', 'Knock Down the House',\n",
       "       'Loudon Wainwright III: Surviving Twin',\n",
       "       'My Beautiful Broken Brain', 'One of Us', 'Pieces of a Woman',\n",
       "       'Ram Dass, Going Home',\n",
       "       'ReMastered: Tricky Dick & the Man in Black', 'Rooting for Roona',\n",
       "       'The Devil All the Time', 'The Dig', 'The Great Hack',\n",
       "       'The White Tiger', \"To All the Boys I've Loved Before\",\n",
       "       'American Murder: The Family Next Door', 'Audrie & Daisy',\n",
       "       'First They Killed My Father',\n",
       "       'Fyre: The Greatest Party That Never Happened', 'Into the Inferno',\n",
       "       'LA Originals', 'Ladies First', 'Love per Square Foot',\n",
       "       'Paddleton', 'Private Life', 'Seventeen', 'Sometimes', 'Soni',\n",
       "       'The 40-Year-Old Version', 'The Disciple', 'The Edge of Democracy',\n",
       "       'The King', 'The Road to El Camino: A Breaking Bad Movie',\n",
       "       'The Siege of Jadotville', 'Zion ', 'Dolemite Is My Name',\n",
       "       'El Camino: A Breaking Bad Movie', 'Extremis',\n",
       "       'Father Soldier Son', 'Get Me Roger Stone', \"I'm No Longer Here\",\n",
       "       'Mucho Mucho Amor: The Legend of Walter Mercado ',\n",
       "       'Octonauts & the Great Barrier Reef', 'Okja', 'On My Skin',\n",
       "       'Raat Akeli Hai', 'ReMastered: Massacre at the Stadium',\n",
       "       'ReMastered: The Two Killings of Sam Cooke',\n",
       "       'Secrets of the Saqqara Tomb', 'Sitara: Let Girls Dream',\n",
       "       'Sky Ladder: The Art of Cai Guo-Qiang', 'Team Foxcatcher',\n",
       "       'The Ballad of Buster Scruggs',\n",
       "       'The Death and Life of Marsha P. Johnson',\n",
       "       'The Fundamentals of Caring',\n",
       "       'The Other One: The Long Strange Trip of Bob Weir',\n",
       "       'American Factory', 'Fire in Paradise', 'Long Shot',\n",
       "       'Miss Americana', 'Period. End of Sentence.',\n",
       "       'Shawn Mendes: Live in Concert', 'Shirkers', 'The Black Godfather',\n",
       "       'The Irishman: In Conversation', 'The Speed Cubers',\n",
       "       \"They'll Love Me When I'm Dead\", 'Tig',\n",
       "       \"Barbra: The Music, The Mem'ries, The Magic!\",\n",
       "       'Blackpink: Light Up the Sky', 'City of Joy',\n",
       "       'Dick Johnson Is Dead', 'Homecoming: A Film by Beyonce ',\n",
       "       'Invader Zim: Enter the Florpus',\n",
       "       'Joan Didion: The Center Will Not Hold',\n",
       "       'John Mulaney & the Sack Lunch Bunch', 'Reversing Roe',\n",
       "       'The White Helmets', 'Athlete A', 'Ludo', 'Quincy',\n",
       "       'Rolling Thunder Revue: A bob Dylan Story by Martin Scorsere',\n",
       "       'Tell Me Who I Am', 'The Bleeding Edge', 'The Social Dilemma',\n",
       "       'The Two Popes', 'What Happened, Miss Simone?', 'Yeh Ballet',\n",
       "       'Anima', 'Beasts of No Nation', 'Brene Brown: The Call to Courage',\n",
       "       'Crip Camp: A Disability Revolution',\n",
       "       'Jim & Andy: The Great Beyond - Featuring a Very Special, Contractually Obligated Mention of Tony Cliffton ',\n",
       "       'Justin Timberlake + The Tennessee Kids', 'Road to Roma', 'Roma',\n",
       "       'If Anything Happens I Love You', 'The Irishman',\n",
       "       'The Trial of the Chicago 7', 'A Secret Love', 'Icarus',\n",
       "       'Marriage Story', 'The Ivory Game',\n",
       "       'Struggle: The Life and Lost Art of Szukaiski', 'Chasing Coral ',\n",
       "       'My Octopus Teacher', 'Rising Phoenix', '13th',\n",
       "       'Disclosure: Trans Lives on Screen', 'Klaus', 'Seaspiracy',\n",
       "       'The Three Deaths of Marisela Escobedo', 'Cuba and the Cameraman ',\n",
       "       'Dancing with the Birds',\n",
       "       'Ben Platt: Live from Radio City Music Hall',\n",
       "       'Taylor Swift: Reputation Stadium Tour',\n",
       "       \"Winter on Fire: Ukraine's Fight for Freedom\",\n",
       "       'Springsteen on Broadway',\n",
       "       \"Emicida: AmarElo - It's All For Yesterday\",\n",
       "       'David Attenborough: A Life on Our Planet'], dtype=object)"
      ]
     },
     "execution_count": 18,
     "metadata": {},
     "output_type": "execute_result"
    }
   ],
   "source": [
    "netflix_df['Title'].unique()\n"
   ]
  },
  {
   "cell_type": "code",
   "execution_count": 19,
   "metadata": {},
   "outputs": [
    {
     "data": {
      "text/plain": [
       "array(['Documentary', 'Thriller', 'Science fiction/Drama',\n",
       "       'Horror thriller', 'Mystery', 'Action', 'Comedy',\n",
       "       'Heist film/Thriller', 'Musical/Western/Fantasy', 'Drama',\n",
       "       'Romantic comedy', 'Action comedy', 'Horror anthology',\n",
       "       'Political thriller', 'Superhero-Comedy', 'Horror',\n",
       "       'Romance drama', 'Anime / Short', 'Superhero', 'Heist', 'Western',\n",
       "       'Animation/Superhero', 'Family film', 'Action-thriller',\n",
       "       'Teen comedy-drama', 'Romantic drama', 'Animation',\n",
       "       'Aftershow / Interview', 'Christmas musical',\n",
       "       'Science fiction adventure', 'Science fiction', 'Variety show',\n",
       "       'Comedy-drama', 'Comedy/Fantasy/Family', 'Supernatural drama',\n",
       "       'Action/Comedy', 'Action/Science fiction',\n",
       "       'Romantic teenage drama', 'Comedy / Musical', 'Musical',\n",
       "       'Science fiction/Mystery', 'Crime drama',\n",
       "       'Psychological thriller drama', 'Adventure/Comedy', 'Black comedy',\n",
       "       'Romance', 'Horror comedy', 'Christian musical',\n",
       "       'Romantic teen drama', 'Family', 'Dark comedy', 'Comedy horror',\n",
       "       'Psychological thriller', 'Biopic', 'Science fiction/Thriller',\n",
       "       'Mockumentary', 'Satire', 'One-man show', 'Romantic comedy-drama',\n",
       "       'Comedy/Horror', 'Fantasy', 'Sports-drama', 'Zombie/Heist',\n",
       "       'Psychological horror', 'Sports film', 'Comedy mystery',\n",
       "       'Romantic thriller', 'Christmas comedy', 'War-Comedy',\n",
       "       'Romantic comedy/Holiday', 'Adventure-romance', 'Adventure',\n",
       "       'Horror-thriller', 'Dance comedy', 'Stop Motion',\n",
       "       'Horror/Crime drama', 'Urban fantasy', 'Drama/Horror',\n",
       "       'Family/Comedy-drama', 'War', 'Crime thriller',\n",
       "       'Science fiction/Action', 'Teen comedy horror', 'Concert Film',\n",
       "       'Musical comedy', 'Animation/Musical/Adventure',\n",
       "       'Animation / Musicial', 'Animation/Comedy/Adventure',\n",
       "       'Action thriller', 'Anime/Science fiction', 'Animation / Short',\n",
       "       'War drama', 'Family/Christmas musical',\n",
       "       'Science fiction thriller', 'Drama / Short',\n",
       "       'Hidden-camera prank comedy', 'Spy thriller', 'Anime/Fantasy',\n",
       "       'Animated musical comedy', 'Variety Show', 'Superhero/Action',\n",
       "       'Biographical/Comedy', 'Historical-epic', 'Animation / Comedy',\n",
       "       'Christmas/Fantasy/Adventure/Comedy', 'Mentalism special',\n",
       "       'Drama-Comedy', 'Coming-of-age comedy-drama', 'Historical drama',\n",
       "       'Making-of', 'Action-adventure', 'Animation / Science Fiction',\n",
       "       'Anthology/Dark comedy', 'Musical / Short',\n",
       "       'Animation/Christmas/Comedy/Adventure'], dtype=object)"
      ]
     },
     "execution_count": 19,
     "metadata": {},
     "output_type": "execute_result"
    }
   ],
   "source": [
    "netflix_df['Genre'].unique()\n"
   ]
  },
  {
   "cell_type": "markdown",
   "metadata": {},
   "source": [
    "For the *Genre* column, we can see that some multi-genre values are inconsistent with each other. Some have spaces before and after the \"/\" while others do not. This might cause difficulty later on in finding values so we want to change this to be having no space at all. <br> <br>\n",
    "The following code will do that:\n"
   ]
  },
  {
   "cell_type": "code",
   "execution_count": 20,
   "metadata": {},
   "outputs": [
    {
     "data": {
      "text/plain": [
       "array(['Documentary', 'Thriller', 'Science fiction/Drama',\n",
       "       'Horror thriller', 'Mystery', 'Action', 'Comedy',\n",
       "       'Heist film/Thriller', 'Musical/Western/Fantasy', 'Drama',\n",
       "       'Romantic comedy', 'Action comedy', 'Horror anthology',\n",
       "       'Political thriller', 'Superhero-Comedy', 'Horror',\n",
       "       'Romance drama', 'Anime/Short', 'Superhero', 'Heist', 'Western',\n",
       "       'Animation/Superhero', 'Family film', 'Action-thriller',\n",
       "       'Teen comedy-drama', 'Romantic drama', 'Animation',\n",
       "       'Aftershow/Interview', 'Christmas musical',\n",
       "       'Science fiction adventure', 'Science fiction', 'Variety show',\n",
       "       'Comedy-drama', 'Comedy/Fantasy/Family', 'Supernatural drama',\n",
       "       'Action/Comedy', 'Action/Science fiction',\n",
       "       'Romantic teenage drama', 'Comedy/Musical', 'Musical',\n",
       "       'Science fiction/Mystery', 'Crime drama',\n",
       "       'Psychological thriller drama', 'Adventure/Comedy', 'Black comedy',\n",
       "       'Romance', 'Horror comedy', 'Christian musical',\n",
       "       'Romantic teen drama', 'Family', 'Dark comedy', 'Comedy horror',\n",
       "       'Psychological thriller', 'Biopic', 'Science fiction/Thriller',\n",
       "       'Mockumentary', 'Satire', 'One-man show', 'Romantic comedy-drama',\n",
       "       'Comedy/Horror', 'Fantasy', 'Sports-drama', 'Zombie/Heist',\n",
       "       'Psychological horror', 'Sports film', 'Comedy mystery',\n",
       "       'Romantic thriller', 'Christmas comedy', 'War-Comedy',\n",
       "       'Romantic comedy/Holiday', 'Adventure-romance', 'Adventure',\n",
       "       'Horror-thriller', 'Dance comedy', 'Stop Motion',\n",
       "       'Horror/Crime drama', 'Urban fantasy', 'Drama/Horror',\n",
       "       'Family/Comedy-drama', 'War', 'Crime thriller',\n",
       "       'Science fiction/Action', 'Teen comedy horror', 'Concert Film',\n",
       "       'Musical comedy', 'Animation/Musical/Adventure',\n",
       "       'Animation/Musicial', 'Animation/Comedy/Adventure',\n",
       "       'Action thriller', 'Anime/Science fiction', 'Animation/Short',\n",
       "       'War drama', 'Family/Christmas musical',\n",
       "       'Science fiction thriller', 'Drama/Short',\n",
       "       'Hidden-camera prank comedy', 'Spy thriller', 'Anime/Fantasy',\n",
       "       'Animated musical comedy', 'Variety Show', 'Superhero/Action',\n",
       "       'Biographical/Comedy', 'Historical-epic', 'Animation/Comedy',\n",
       "       'Christmas/Fantasy/Adventure/Comedy', 'Mentalism special',\n",
       "       'Drama-Comedy', 'Coming-of-age comedy-drama', 'Historical drama',\n",
       "       'Making-of', 'Action-adventure', 'Animation/Science Fiction',\n",
       "       'Anthology/Dark comedy', 'Musical/Short',\n",
       "       'Animation/Christmas/Comedy/Adventure'], dtype=object)"
      ]
     },
     "execution_count": 20,
     "metadata": {},
     "output_type": "execute_result"
    }
   ],
   "source": [
    "netflix_df[\"Genre\"] = netflix_df[\"Genre\"].str.replace(\" / \",\"/\")\n",
    "netflix_df[\"Genre\"].unique()"
   ]
  },
  {
   "cell_type": "markdown",
   "metadata": {},
   "source": [
    "Now everything is consistent."
   ]
  },
  {
   "cell_type": "code",
   "execution_count": 21,
   "metadata": {},
   "outputs": [
    {
     "data": {
      "text/plain": [
       "array(['2019-08-05T00:00:00.000000000', '2020-08-21T00:00:00.000000000',\n",
       "       '2019-12-26T00:00:00.000000000', '2018-01-19T00:00:00.000000000',\n",
       "       '2020-10-30T00:00:00.000000000', '2019-11-01T00:00:00.000000000',\n",
       "       '2020-12-04T00:00:00.000000000', '2020-06-05T00:00:00.000000000',\n",
       "       '2018-03-23T00:00:00.000000000', '2021-05-18T00:00:00.000000000',\n",
       "       '2021-04-22T00:00:00.000000000', '2020-11-27T00:00:00.000000000',\n",
       "       '2020-09-18T00:00:00.000000000', '2020-10-01T00:00:00.000000000',\n",
       "       '2016-11-22T00:00:00.000000000', '2019-12-19T00:00:00.000000000',\n",
       "       '2020-01-01T00:00:00.000000000', '2020-02-21T00:00:00.000000000',\n",
       "       '2021-01-01T00:00:00.000000000', '2017-08-25T00:00:00.000000000',\n",
       "       '2019-09-13T00:00:00.000000000', '2019-07-18T00:00:00.000000000',\n",
       "       '2019-08-16T00:00:00.000000000', '2021-02-26T00:00:00.000000000',\n",
       "       '2021-04-09T00:00:00.000000000', '2020-07-16T00:00:00.000000000',\n",
       "       '2021-04-02T00:00:00.000000000', '2020-07-31T00:00:00.000000000',\n",
       "       '2021-02-10T00:00:00.000000000', '2018-12-07T00:00:00.000000000',\n",
       "       '2019-05-24T00:00:00.000000000', '2016-10-28T00:00:00.000000000',\n",
       "       '2019-02-22T00:00:00.000000000', '2019-12-03T00:00:00.000000000',\n",
       "       '2019-10-25T00:00:00.000000000', '2020-07-15T00:00:00.000000000',\n",
       "       '2020-07-14T00:00:00.000000000', '2020-11-30T00:00:00.000000000',\n",
       "       '2019-01-18T00:00:00.000000000', '2021-03-05T00:00:00.000000000',\n",
       "       '2020-04-02T00:00:00.000000000', '2020-10-02T00:00:00.000000000',\n",
       "       '2020-12-25T00:00:00.000000000', '2017-01-06T00:00:00.000000000',\n",
       "       '2020-05-01T00:00:00.000000000', '2020-10-28T00:00:00.000000000',\n",
       "       '2017-01-20T00:00:00.000000000', '2020-04-10T00:00:00.000000000',\n",
       "       '2015-12-11T00:00:00.000000000', '2020-04-17T00:00:00.000000000',\n",
       "       '2020-08-14T00:00:00.000000000', '2019-11-28T00:00:00.000000000',\n",
       "       '2020-01-23T00:00:00.000000000', '2018-07-13T00:00:00.000000000',\n",
       "       '2020-10-15T00:00:00.000000000', '2016-07-15T00:00:00.000000000',\n",
       "       '2021-02-11T00:00:00.000000000', '2020-10-22T00:00:00.000000000',\n",
       "       '2017-01-13T00:00:00.000000000', '2020-04-03T00:00:00.000000000',\n",
       "       '2018-04-20T00:00:00.000000000', '2021-02-25T00:00:00.000000000',\n",
       "       '2020-07-23T00:00:00.000000000', '2017-09-08T00:00:00.000000000',\n",
       "       '2019-08-21T00:00:00.000000000', '2020-07-03T00:00:00.000000000',\n",
       "       '2020-11-22T00:00:00.000000000', '2018-07-20T00:00:00.000000000',\n",
       "       '2021-05-26T00:00:00.000000000', '2017-02-14T00:00:00.000000000',\n",
       "       '2017-05-05T00:00:00.000000000', '2020-10-07T00:00:00.000000000',\n",
       "       '2018-05-25T00:00:00.000000000', '2017-04-14T00:00:00.000000000',\n",
       "       '2019-05-17T00:00:00.000000000', '2019-05-14T00:00:00.000000000',\n",
       "       '2021-02-05T00:00:00.000000000', '2018-04-27T00:00:00.000000000',\n",
       "       '2018-11-30T00:00:00.000000000', '2019-08-30T00:00:00.000000000',\n",
       "       '2020-04-30T00:00:00.000000000', '2020-08-12T00:00:00.000000000',\n",
       "       '2020-05-28T00:00:00.000000000', '2018-09-07T00:00:00.000000000',\n",
       "       '2021-04-29T00:00:00.000000000', '2018-06-24T00:00:00.000000000',\n",
       "       '2019-04-12T00:00:00.000000000', '2016-08-26T00:00:00.000000000',\n",
       "       '2019-12-05T00:00:00.000000000', '2019-05-03T00:00:00.000000000',\n",
       "       '2020-09-02T00:00:00.000000000', '2020-03-06T00:00:00.000000000',\n",
       "       '2019-10-04T00:00:00.000000000', '2017-08-11T00:00:00.000000000',\n",
       "       '2021-01-15T00:00:00.000000000', '2020-11-19T00:00:00.000000000',\n",
       "       '2020-07-01T00:00:00.000000000', '2015-12-04T00:00:00.000000000',\n",
       "       '2018-10-26T00:00:00.000000000', '2019-12-01T00:00:00.000000000',\n",
       "       '2021-04-28T00:00:00.000000000', '2019-10-16T00:00:00.000000000',\n",
       "       '2019-11-15T00:00:00.000000000', '2019-02-08T00:00:00.000000000',\n",
       "       '2018-02-23T00:00:00.000000000', '2021-04-15T00:00:00.000000000',\n",
       "       '2018-02-04T00:00:00.000000000', '2019-11-21T00:00:00.000000000',\n",
       "       '2018-07-06T00:00:00.000000000', '2018-08-10T00:00:00.000000000',\n",
       "       '2019-04-05T00:00:00.000000000', '2019-05-10T00:00:00.000000000',\n",
       "       '2017-10-12T00:00:00.000000000', '2016-07-07T00:00:00.000000000',\n",
       "       '2019-08-29T00:00:00.000000000', '2018-09-28T00:00:00.000000000',\n",
       "       '2020-09-03T00:00:00.000000000', '2020-06-19T00:00:00.000000000',\n",
       "       '2020-10-27T00:00:00.000000000', '2019-01-11T00:00:00.000000000',\n",
       "       '2020-12-23T00:00:00.000000000', '2020-09-16T00:00:00.000000000',\n",
       "       '2021-04-14T00:00:00.000000000', '2021-03-26T00:00:00.000000000',\n",
       "       '2021-03-25T00:00:00.000000000', '2017-12-15T00:00:00.000000000',\n",
       "       '2020-09-11T00:00:00.000000000', '2017-12-08T00:00:00.000000000',\n",
       "       '2019-10-18T00:00:00.000000000', '2020-10-09T00:00:00.000000000',\n",
       "       '2019-05-16T00:00:00.000000000', '2019-01-04T00:00:00.000000000',\n",
       "       '2017-09-01T00:00:00.000000000', '2020-06-18T00:00:00.000000000',\n",
       "       '2018-12-12T00:00:00.000000000', '2019-07-12T00:00:00.000000000',\n",
       "       '2016-05-27T00:00:00.000000000', '2018-11-02T00:00:00.000000000',\n",
       "       '2021-05-14T00:00:00.000000000', '2020-05-13T00:00:00.000000000',\n",
       "       '2019-02-01T00:00:00.000000000', '2021-03-12T00:00:00.000000000',\n",
       "       '2019-03-29T00:00:00.000000000', '2020-12-14T00:00:00.000000000',\n",
       "       '2017-11-17T00:00:00.000000000', '2016-12-16T00:00:00.000000000',\n",
       "       '2018-07-27T00:00:00.000000000', '2018-03-30T00:00:00.000000000',\n",
       "       '2019-11-08T00:00:00.000000000', '2016-10-13T00:00:00.000000000',\n",
       "       '2020-11-05T00:00:00.000000000', '2017-04-28T00:00:00.000000000',\n",
       "       '2016-04-29T00:00:00.000000000', '2018-06-29T00:00:00.000000000',\n",
       "       '2018-08-24T00:00:00.000000000', '2020-09-10T00:00:00.000000000',\n",
       "       '2020-12-07T00:00:00.000000000', '2020-07-24T00:00:00.000000000',\n",
       "       '2020-11-11T00:00:00.000000000', '2018-04-06T00:00:00.000000000',\n",
       "       '2020-01-17T00:00:00.000000000', '2021-05-21T00:00:00.000000000',\n",
       "       '2018-11-16T00:00:00.000000000', '2019-07-16T00:00:00.000000000',\n",
       "       '2020-02-07T00:00:00.000000000', '2020-03-27T00:00:00.000000000',\n",
       "       '2018-01-12T00:00:00.000000000', '2020-12-11T00:00:00.000000000',\n",
       "       '2016-11-11T00:00:00.000000000', '2020-03-20T00:00:00.000000000',\n",
       "       '2018-04-13T00:00:00.000000000', '2018-05-04T00:00:00.000000000',\n",
       "       '2017-01-27T00:00:00.000000000', '2019-08-09T00:00:00.000000000',\n",
       "       '2019-03-08T00:00:00.000000000', '2019-06-14T00:00:00.000000000',\n",
       "       '2020-10-21T00:00:00.000000000', '2020-11-25T00:00:00.000000000',\n",
       "       '2018-05-11T00:00:00.000000000', '2020-02-12T00:00:00.000000000',\n",
       "       '2017-05-26T00:00:00.000000000', '2019-12-13T00:00:00.000000000',\n",
       "       '2019-09-20T00:00:00.000000000', '2017-03-10T00:00:00.000000000',\n",
       "       '2017-03-17T00:00:00.000000000', '2021-01-29T00:00:00.000000000',\n",
       "       '2015-05-29T00:00:00.000000000', '2018-08-03T00:00:00.000000000',\n",
       "       '2020-03-13T00:00:00.000000000', '2019-08-02T00:00:00.000000000',\n",
       "       '2016-03-18T00:00:00.000000000', '2021-01-08T00:00:00.000000000',\n",
       "       '2021-04-01T00:00:00.000000000', '2017-11-10T00:00:00.000000000',\n",
       "       '2020-05-22T00:00:00.000000000', '2017-03-24T00:00:00.000000000',\n",
       "       '2020-08-28T00:00:00.000000000', '2020-08-07T00:00:00.000000000',\n",
       "       '2020-11-20T00:00:00.000000000', '2020-11-06T00:00:00.000000000',\n",
       "       '2020-08-17T00:00:00.000000000', '2019-09-27T00:00:00.000000000',\n",
       "       '2019-04-19T00:00:00.000000000', '2018-09-14T00:00:00.000000000',\n",
       "       '2017-12-01T00:00:00.000000000', '2017-04-07T00:00:00.000000000',\n",
       "       '2017-10-20T00:00:00.000000000', '2019-05-22T00:00:00.000000000',\n",
       "       '2018-06-08T00:00:00.000000000', '2018-10-12T00:00:00.000000000',\n",
       "       '2018-03-16T00:00:00.000000000', '2017-12-22T00:00:00.000000000',\n",
       "       '2018-05-18T00:00:00.000000000', '2021-03-18T00:00:00.000000000',\n",
       "       '2021-01-28T00:00:00.000000000', '2020-11-24T00:00:00.000000000',\n",
       "       '2019-01-25T00:00:00.000000000', '2018-12-21T00:00:00.000000000',\n",
       "       '2017-04-21T00:00:00.000000000', '2017-06-09T00:00:00.000000000',\n",
       "       '2016-12-09T00:00:00.000000000', '2017-10-13T00:00:00.000000000',\n",
       "       '2017-03-31T00:00:00.000000000', '2019-10-11T00:00:00.000000000',\n",
       "       '2018-03-09T00:00:00.000000000', '2020-04-23T00:00:00.000000000',\n",
       "       '2021-02-12T00:00:00.000000000', '2019-08-28T00:00:00.000000000',\n",
       "       '2020-08-05T00:00:00.000000000', '2020-12-21T00:00:00.000000000',\n",
       "       '2016-09-16T00:00:00.000000000', '2019-09-25T00:00:00.000000000',\n",
       "       '2019-12-24T00:00:00.000000000', '2018-02-16T00:00:00.000000000',\n",
       "       '2020-02-14T00:00:00.000000000', '2020-08-20T00:00:00.000000000',\n",
       "       '2020-04-29T00:00:00.000000000', '2014-12-13T00:00:00.000000000',\n",
       "       '2018-09-21T00:00:00.000000000', '2020-10-23T00:00:00.000000000',\n",
       "       '2019-10-12T00:00:00.000000000', '2017-09-15T00:00:00.000000000',\n",
       "       '2021-01-14T00:00:00.000000000', '2020-03-25T00:00:00.000000000',\n",
       "       '2020-04-22T00:00:00.000000000', '2019-03-13T00:00:00.000000000',\n",
       "       '2018-02-09T00:00:00.000000000', '2019-10-28T00:00:00.000000000',\n",
       "       '2020-02-28T00:00:00.000000000', '2020-03-19T00:00:00.000000000',\n",
       "       '2019-03-21T00:00:00.000000000', '2021-04-17T00:00:00.000000000',\n",
       "       '2019-05-31T00:00:00.000000000', '2020-06-12T00:00:00.000000000',\n",
       "       '2021-04-07T00:00:00.000000000', '2020-06-26T00:00:00.000000000',\n",
       "       '2017-09-29T00:00:00.000000000', '2020-11-13T00:00:00.000000000',\n",
       "       '2018-06-15T00:00:00.000000000', '2021-05-07T00:00:00.000000000',\n",
       "       '2020-06-24T00:00:00.000000000', '2017-06-23T00:00:00.000000000',\n",
       "       '2021-05-12T00:00:00.000000000', '2017-07-28T00:00:00.000000000',\n",
       "       '2020-01-20T00:00:00.000000000', '2019-06-07T00:00:00.000000000',\n",
       "       '2016-08-19T00:00:00.000000000', '2020-09-04T00:00:00.000000000',\n",
       "       '2020-11-23T00:00:00.000000000', '2019-07-31T00:00:00.000000000',\n",
       "       '2021-04-16T00:00:00.000000000', '2019-11-20T00:00:00.000000000',\n",
       "       '2017-05-20T00:00:00.000000000', '2021-05-27T00:00:00.000000000',\n",
       "       '2017-06-16T00:00:00.000000000', '2021-01-11T00:00:00.000000000',\n",
       "       '2020-04-24T00:00:00.000000000', '2020-09-15T00:00:00.000000000',\n",
       "       '2017-02-03T00:00:00.000000000', '2020-12-03T00:00:00.000000000',\n",
       "       '2017-02-07T00:00:00.000000000', '2021-03-03T00:00:00.000000000',\n",
       "       '2019-07-10T00:00:00.000000000', '2016-07-29T00:00:00.000000000',\n",
       "       '2020-07-10T00:00:00.000000000', '2018-10-10T00:00:00.000000000',\n",
       "       '2018-01-26T00:00:00.000000000', '2020-09-21T00:00:00.000000000',\n",
       "       '2020-05-06T00:00:00.000000000', '2020-12-27T00:00:00.000000000',\n",
       "       '2020-09-17T00:00:00.000000000', '2020-05-11T00:00:00.000000000',\n",
       "       '2017-09-12T00:00:00.000000000', '2017-11-21T00:00:00.000000000',\n",
       "       '2020-09-30T00:00:00.000000000', '2017-07-14T00:00:00.000000000',\n",
       "       '2021-01-06T00:00:00.000000000', '2020-12-24T00:00:00.000000000',\n",
       "       '2016-09-30T00:00:00.000000000', '2020-10-08T00:00:00.000000000',\n",
       "       '2021-03-01T00:00:00.000000000', '2020-12-28T00:00:00.000000000',\n",
       "       '2017-02-24T00:00:00.000000000', '2017-05-19T00:00:00.000000000',\n",
       "       '2018-11-09T00:00:00.000000000', '2020-06-03T00:00:00.000000000',\n",
       "       '2019-05-23T00:00:00.000000000', '2017-09-22T00:00:00.000000000',\n",
       "       '2020-11-03T00:00:00.000000000', '2019-09-15T00:00:00.000000000',\n",
       "       '2020-12-18T00:00:00.000000000', '2021-03-17T00:00:00.000000000',\n",
       "       '2021-02-23T00:00:00.000000000', '2019-04-26T00:00:00.000000000',\n",
       "       '2019-03-22T00:00:00.000000000', '2020-12-09T00:00:00.000000000',\n",
       "       '2018-11-22T00:00:00.000000000', '2018-10-19T00:00:00.000000000',\n",
       "       '2017-01-26T00:00:00.000000000', '2020-12-01T00:00:00.000000000',\n",
       "       '2019-06-19T00:00:00.000000000', '2019-12-27T00:00:00.000000000',\n",
       "       '2019-09-10T00:00:00.000000000', '2019-04-20T00:00:00.000000000',\n",
       "       '2015-09-18T00:00:00.000000000', '2019-05-01T00:00:00.000000000',\n",
       "       '2018-11-13T00:00:00.000000000', '2021-01-07T00:00:00.000000000',\n",
       "       '2019-07-24T00:00:00.000000000', '2021-01-22T00:00:00.000000000',\n",
       "       '2018-08-17T00:00:00.000000000', '2016-09-23T00:00:00.000000000',\n",
       "       '2018-03-08T00:00:00.000000000', '2018-02-14T00:00:00.000000000',\n",
       "       '2018-10-05T00:00:00.000000000', '2018-05-01T00:00:00.000000000',\n",
       "       '2021-04-30T00:00:00.000000000', '2019-10-29T00:00:00.000000000',\n",
       "       '2016-10-07T00:00:00.000000000', '2016-09-13T00:00:00.000000000',\n",
       "       '2020-07-17T00:00:00.000000000', '2017-05-12T00:00:00.000000000',\n",
       "       '2020-05-27T00:00:00.000000000', '2020-07-08T00:00:00.000000000',\n",
       "       '2020-10-13T00:00:00.000000000', '2017-06-28T00:00:00.000000000',\n",
       "       '2018-09-12T00:00:00.000000000', '2020-03-08T00:00:00.000000000',\n",
       "       '2016-10-14T00:00:00.000000000', '2017-10-06T00:00:00.000000000',\n",
       "       '2016-06-24T00:00:00.000000000', '2015-05-22T00:00:00.000000000',\n",
       "       '2020-01-31T00:00:00.000000000', '2019-02-12T00:00:00.000000000',\n",
       "       '2019-11-27T00:00:00.000000000', '2020-07-29T00:00:00.000000000',\n",
       "       '2015-07-17T00:00:00.000000000', '2017-11-22T00:00:00.000000000',\n",
       "       '2020-10-14T00:00:00.000000000', '2019-04-17T00:00:00.000000000',\n",
       "       '2017-10-27T00:00:00.000000000', '2018-09-13T00:00:00.000000000',\n",
       "       '2020-11-12T00:00:00.000000000', '2019-06-12T00:00:00.000000000',\n",
       "       '2020-09-09T00:00:00.000000000', '2019-12-20T00:00:00.000000000',\n",
       "       '2015-06-26T00:00:00.000000000', '2019-06-27T00:00:00.000000000',\n",
       "       '2015-10-16T00:00:00.000000000', '2016-10-12T00:00:00.000000000',\n",
       "       '2020-02-11T00:00:00.000000000', '2018-12-14T00:00:00.000000000',\n",
       "       '2020-10-16T00:00:00.000000000', '2017-08-04T00:00:00.000000000',\n",
       "       '2019-12-06T00:00:00.000000000', '2016-11-04T00:00:00.000000000',\n",
       "       '2020-09-07T00:00:00.000000000', '2020-08-26T00:00:00.000000000',\n",
       "       '2021-03-24T00:00:00.000000000', '2017-11-24T00:00:00.000000000',\n",
       "       '2019-10-23T00:00:00.000000000', '2020-05-20T00:00:00.000000000',\n",
       "       '2018-12-31T00:00:00.000000000', '2015-10-09T00:00:00.000000000',\n",
       "       '2018-12-16T00:00:00.000000000', '2020-12-08T00:00:00.000000000',\n",
       "       '2020-10-04T00:00:00.000000000'], dtype='datetime64[ns]')"
      ]
     },
     "execution_count": 21,
     "metadata": {},
     "output_type": "execute_result"
    }
   ],
   "source": [
    "netflix_df[\"Premiere\"].unique()"
   ]
  },
  {
   "cell_type": "code",
   "execution_count": 22,
   "metadata": {},
   "outputs": [
    {
     "data": {
      "text/plain": [
       "array([ 58,  81,  79,  94,  90, 147, 112, 149,  73, 139,  97, 101,  25,\n",
       "       144, 115, 102, 100,  64,  99, 120, 105,  89, 107,  95,  37,  83,\n",
       "        46,  85,  88,  86,  80,   4,  93, 106, 103, 119,  96, 113, 104,\n",
       "        10,  98, 117,  70, 131,  87,  60, 116,  92, 121,  78, 114,  56,\n",
       "        21,  63, 126, 142, 108, 125,  91,  49, 118,  34, 124,  52, 111,\n",
       "        75, 148,  32,  23,  53, 132, 123, 122, 128,  82,  84,  42, 151,\n",
       "        72,  30, 129,  44, 134, 109,  16,  41,  28,  74,   9, 155,  55,\n",
       "        40,  17, 136, 130,  19,  54,  76,  39,   7,  57,  14,  31,  48,\n",
       "        27,  45,  36,  47, 110, 138, 133, 140,  13,  11,  24,  15,  26,\n",
       "       137,  71, 135,  12, 209,  51, 153])"
      ]
     },
     "execution_count": 22,
     "metadata": {},
     "output_type": "execute_result"
    }
   ],
   "source": [
    "netflix_df[\"Runtime\"].unique()"
   ]
  },
  {
   "cell_type": "code",
   "execution_count": 23,
   "metadata": {},
   "outputs": [
    {
     "data": {
      "text/plain": [
       "array([2.5, 2.6, 3.2, 3.4, 3.5, 3.7, 3.9, 4.1, 4.2, 4.3, 4.4, 4.5, 4.6,\n",
       "       4.7, 4.8, 4.9, 5. , 5.1, 5.2, 5.3, 5.4, 5.5, 5.6, 5.7, 5.8, 5.9,\n",
       "       6. , 6.1, 6.2, 6.3, 6.4, 6.5, 6.6, 6.7, 6.8, 6.9, 7. , 7.1, 7.2,\n",
       "       7.3, 7.4, 7.5, 7.6, 7.7, 7.8, 7.9, 8. , 8.1, 8.2, 8.3, 8.4, 8.5,\n",
       "       8.6, 9. ])"
      ]
     },
     "execution_count": 23,
     "metadata": {},
     "output_type": "execute_result"
    }
   ],
   "source": [
    "netflix_df[\"IMDB Score\"].unique()"
   ]
  },
  {
   "cell_type": "code",
   "execution_count": 24,
   "metadata": {},
   "outputs": [
    {
     "data": {
      "text/plain": [
       "array(['English/Japanese', 'Spanish', 'Italian', 'English', 'Hindi',\n",
       "       'Turkish', 'Korean', 'Indonesian', 'Malay', 'Dutch', 'French',\n",
       "       'English/Spanish', 'Portuguese', 'Filipino', 'German', 'Polish',\n",
       "       'Norwegian', 'Marathi', 'Thai', 'Swedish', 'Japanese',\n",
       "       'Spanish/Basque', 'Spanish/Catalan', 'English/Swedish',\n",
       "       'English/Taiwanese/Mandarin', 'Thia/English', 'English/Mandarin',\n",
       "       'Georgian', 'Bengali', 'Khmer/English/French', 'English/Hindi',\n",
       "       'Tamil', 'Spanish/English', 'English/Korean', 'English/Arabic',\n",
       "       'English/Russian', 'English/Akan', 'English/Ukranian/Russian'],\n",
       "      dtype=object)"
      ]
     },
     "execution_count": 24,
     "metadata": {},
     "output_type": "execute_result"
    }
   ],
   "source": [
    "netflix_df[\"Language\"].unique()"
   ]
  },
  {
   "cell_type": "markdown",
   "metadata": {},
   "source": [
    "From the following code, only the *genre* column had issues then was fixed. The rest of the data in other columns were consistent with each other."
   ]
  },
  {
   "cell_type": "markdown",
   "metadata": {},
   "source": [
    "## Exploratory Data Analysis"
   ]
  },
  {
   "cell_type": "code",
   "execution_count": 53,
   "metadata": {
    "scrolled": true
   },
   "outputs": [
    {
     "data": {
      "text/html": [
       "<div>\n",
       "<style scoped>\n",
       "    .dataframe tbody tr th:only-of-type {\n",
       "        vertical-align: middle;\n",
       "    }\n",
       "\n",
       "    .dataframe tbody tr th {\n",
       "        vertical-align: top;\n",
       "    }\n",
       "\n",
       "    .dataframe thead th {\n",
       "        text-align: right;\n",
       "    }\n",
       "</style>\n",
       "<table border=\"1\" class=\"dataframe\">\n",
       "  <thead>\n",
       "    <tr style=\"text-align: right;\">\n",
       "      <th></th>\n",
       "      <th>Runtime</th>\n",
       "      <th>IMDB Score</th>\n",
       "      <th>LanguageValue</th>\n",
       "      <th>GenreValue</th>\n",
       "    </tr>\n",
       "  </thead>\n",
       "  <tbody>\n",
       "    <tr>\n",
       "      <th>count</th>\n",
       "      <td>584.000000</td>\n",
       "      <td>584.000000</td>\n",
       "      <td>584.000000</td>\n",
       "      <td>584.000000</td>\n",
       "    </tr>\n",
       "    <tr>\n",
       "      <th>mean</th>\n",
       "      <td>93.577055</td>\n",
       "      <td>6.271747</td>\n",
       "      <td>4.938356</td>\n",
       "      <td>21.457192</td>\n",
       "    </tr>\n",
       "    <tr>\n",
       "      <th>std</th>\n",
       "      <td>27.761683</td>\n",
       "      <td>0.979256</td>\n",
       "      <td>5.588794</td>\n",
       "      <td>29.044915</td>\n",
       "    </tr>\n",
       "    <tr>\n",
       "      <th>min</th>\n",
       "      <td>4.000000</td>\n",
       "      <td>2.500000</td>\n",
       "      <td>0.000000</td>\n",
       "      <td>0.000000</td>\n",
       "    </tr>\n",
       "    <tr>\n",
       "      <th>25%</th>\n",
       "      <td>86.000000</td>\n",
       "      <td>5.700000</td>\n",
       "      <td>3.000000</td>\n",
       "      <td>0.000000</td>\n",
       "    </tr>\n",
       "    <tr>\n",
       "      <th>50%</th>\n",
       "      <td>97.000000</td>\n",
       "      <td>6.350000</td>\n",
       "      <td>3.000000</td>\n",
       "      <td>9.000000</td>\n",
       "    </tr>\n",
       "    <tr>\n",
       "      <th>75%</th>\n",
       "      <td>108.000000</td>\n",
       "      <td>7.000000</td>\n",
       "      <td>3.000000</td>\n",
       "      <td>32.000000</td>\n",
       "    </tr>\n",
       "    <tr>\n",
       "      <th>max</th>\n",
       "      <td>209.000000</td>\n",
       "      <td>9.000000</td>\n",
       "      <td>37.000000</td>\n",
       "      <td>114.000000</td>\n",
       "    </tr>\n",
       "  </tbody>\n",
       "</table>\n",
       "</div>"
      ],
      "text/plain": [
       "          Runtime  IMDB Score  LanguageValue  GenreValue\n",
       "count  584.000000  584.000000     584.000000  584.000000\n",
       "mean    93.577055    6.271747       4.938356   21.457192\n",
       "std     27.761683    0.979256       5.588794   29.044915\n",
       "min      4.000000    2.500000       0.000000    0.000000\n",
       "25%     86.000000    5.700000       3.000000    0.000000\n",
       "50%     97.000000    6.350000       3.000000    9.000000\n",
       "75%    108.000000    7.000000       3.000000   32.000000\n",
       "max    209.000000    9.000000      37.000000  114.000000"
      ]
     },
     "execution_count": 53,
     "metadata": {},
     "output_type": "execute_result"
    }
   ],
   "source": [
    "netflix_df.describe()"
   ]
  },
  {
   "cell_type": "markdown",
   "metadata": {},
   "source": [
    "#### Question 1:  Does Language and Genre have an effect on the IMDB score and the Runtime length?"
   ]
  },
  {
   "cell_type": "code",
   "execution_count": 54,
   "metadata": {},
   "outputs": [],
   "source": [
    "# converting language category to numerical values\n",
    "netflix_df['LanguageValue'] = pd.factorize(netflix_df.Language)[0]"
   ]
  },
  {
   "cell_type": "code",
   "execution_count": 55,
   "metadata": {},
   "outputs": [
    {
     "data": {
      "text/plain": [
       "English                       401\n",
       "Hindi                          33\n",
       "Spanish                        31\n",
       "French                         20\n",
       "Italian                        14\n",
       "Portuguese                     12\n",
       "Indonesian                      9\n",
       "Japanese                        6\n",
       "Korean                          6\n",
       "German                          5\n",
       "Turkish                         5\n",
       "English/Spanish                 5\n",
       "Polish                          3\n",
       "Dutch                           3\n",
       "Marathi                         3\n",
       "English/Japanese                2\n",
       "English/Mandarin                2\n",
       "English/Hindi                   2\n",
       "Thai                            2\n",
       "Filipino                        2\n",
       "Thia/English                    1\n",
       "English/Taiwanese/Mandarin      1\n",
       "Swedish                         1\n",
       "Spanish/English                 1\n",
       "Spanish/Basque                  1\n",
       "Spanish/Catalan                 1\n",
       "Malay                           1\n",
       "Georgian                        1\n",
       "English/Swedish                 1\n",
       "Tamil                           1\n",
       "Norwegian                       1\n",
       "English/Ukranian/Russian        1\n",
       "English/Akan                    1\n",
       "English/Arabic                  1\n",
       "Bengali                         1\n",
       "English/Korean                  1\n",
       "Khmer/English/French            1\n",
       "English/Russian                 1\n",
       "Name: Language, dtype: int64"
      ]
     },
     "execution_count": 55,
     "metadata": {},
     "output_type": "execute_result"
    }
   ],
   "source": [
    "netflix_df.Language.value_counts()"
   ]
  },
  {
   "cell_type": "code",
   "execution_count": 56,
   "metadata": {},
   "outputs": [
    {
     "data": {
      "text/plain": [
       "3     401\n",
       "4      33\n",
       "1      31\n",
       "10     20\n",
       "2      14\n",
       "12     12\n",
       "7       9\n",
       "20      6\n",
       "6       6\n",
       "14      5\n",
       "5       5\n",
       "11      5\n",
       "15      3\n",
       "9       3\n",
       "17      3\n",
       "30      2\n",
       "18      2\n",
       "26      2\n",
       "0       2\n",
       "13      2\n",
       "35      1\n",
       "28      1\n",
       "34      1\n",
       "33      1\n",
       "32      1\n",
       "31      1\n",
       "36      1\n",
       "29      1\n",
       "19      1\n",
       "27      1\n",
       "25      1\n",
       "24      1\n",
       "23      1\n",
       "22      1\n",
       "21      1\n",
       "16      1\n",
       "8       1\n",
       "37      1\n",
       "Name: LanguageValue, dtype: int64"
      ]
     },
     "execution_count": 56,
     "metadata": {},
     "output_type": "execute_result"
    }
   ],
   "source": [
    "netflix_df.LanguageValue.value_counts()"
   ]
  },
  {
   "cell_type": "code",
   "execution_count": 57,
   "metadata": {},
   "outputs": [],
   "source": [
    "# converting genre category to numerical values\n",
    "netflix_df['GenreValue'] = pd.factorize(netflix_df.Genre)[0]"
   ]
  },
  {
   "cell_type": "code",
   "execution_count": 58,
   "metadata": {},
   "outputs": [
    {
     "data": {
      "text/plain": [
       "Documentary               159\n",
       "Drama                      77\n",
       "Comedy                     49\n",
       "Romantic comedy            39\n",
       "Thriller                   33\n",
       "                         ... \n",
       "Horror anthology            1\n",
       "Variety Show                1\n",
       "Animation/Comedy            1\n",
       "Science fiction/Action      1\n",
       "Family/Comedy-drama         1\n",
       "Name: Genre, Length: 115, dtype: int64"
      ]
     },
     "execution_count": 58,
     "metadata": {},
     "output_type": "execute_result"
    }
   ],
   "source": [
    "netflix_df.Genre.value_counts()"
   ]
  },
  {
   "cell_type": "code",
   "execution_count": 59,
   "metadata": {},
   "outputs": [
    {
     "data": {
      "text/plain": [
       "0      159\n",
       "9       77\n",
       "6       49\n",
       "10      39\n",
       "1       33\n",
       "      ... \n",
       "58       1\n",
       "7        1\n",
       "8        1\n",
       "12       1\n",
       "114      1\n",
       "Name: GenreValue, Length: 115, dtype: int64"
      ]
     },
     "execution_count": 59,
     "metadata": {},
     "output_type": "execute_result"
    }
   ],
   "source": [
    "netflix_df.GenreValue.value_counts()"
   ]
  },
  {
   "cell_type": "code",
   "execution_count": 60,
   "metadata": {},
   "outputs": [
    {
     "data": {
      "text/html": [
       "<div>\n",
       "<style scoped>\n",
       "    .dataframe tbody tr th:only-of-type {\n",
       "        vertical-align: middle;\n",
       "    }\n",
       "\n",
       "    .dataframe tbody tr th {\n",
       "        vertical-align: top;\n",
       "    }\n",
       "\n",
       "    .dataframe thead th {\n",
       "        text-align: right;\n",
       "    }\n",
       "</style>\n",
       "<table border=\"1\" class=\"dataframe\">\n",
       "  <thead>\n",
       "    <tr style=\"text-align: right;\">\n",
       "      <th></th>\n",
       "      <th>Runtime</th>\n",
       "      <th>IMDB Score</th>\n",
       "      <th>LanguageValue</th>\n",
       "      <th>GenreValue</th>\n",
       "    </tr>\n",
       "  </thead>\n",
       "  <tbody>\n",
       "    <tr>\n",
       "      <th>Runtime</th>\n",
       "      <td>1.000000</td>\n",
       "      <td>-0.040896</td>\n",
       "      <td>-0.037447</td>\n",
       "      <td>0.042249</td>\n",
       "    </tr>\n",
       "    <tr>\n",
       "      <th>IMDB Score</th>\n",
       "      <td>-0.040896</td>\n",
       "      <td>1.000000</td>\n",
       "      <td>0.052679</td>\n",
       "      <td>0.109471</td>\n",
       "    </tr>\n",
       "    <tr>\n",
       "      <th>LanguageValue</th>\n",
       "      <td>-0.037447</td>\n",
       "      <td>0.052679</td>\n",
       "      <td>1.000000</td>\n",
       "      <td>-0.055059</td>\n",
       "    </tr>\n",
       "    <tr>\n",
       "      <th>GenreValue</th>\n",
       "      <td>0.042249</td>\n",
       "      <td>0.109471</td>\n",
       "      <td>-0.055059</td>\n",
       "      <td>1.000000</td>\n",
       "    </tr>\n",
       "  </tbody>\n",
       "</table>\n",
       "</div>"
      ],
      "text/plain": [
       "                Runtime  IMDB Score  LanguageValue  GenreValue\n",
       "Runtime        1.000000   -0.040896      -0.037447    0.042249\n",
       "IMDB Score    -0.040896    1.000000       0.052679    0.109471\n",
       "LanguageValue -0.037447    0.052679       1.000000   -0.055059\n",
       "GenreValue     0.042249    0.109471      -0.055059    1.000000"
      ]
     },
     "execution_count": 60,
     "metadata": {},
     "output_type": "execute_result"
    }
   ],
   "source": [
    "netflix_df.corr()"
   ]
  },
  {
   "cell_type": "code",
   "execution_count": null,
   "metadata": {},
   "outputs": [],
   "source": []
  },
  {
   "cell_type": "code",
   "execution_count": null,
   "metadata": {},
   "outputs": [],
   "source": []
  }
 ],
 "metadata": {
  "kernelspec": {
   "display_name": "Python 3",
   "language": "python",
   "name": "python3"
  },
  "language_info": {
   "codemirror_mode": {
    "name": "ipython",
    "version": 3
   },
   "file_extension": ".py",
   "mimetype": "text/x-python",
   "name": "python",
   "nbconvert_exporter": "python",
   "pygments_lexer": "ipython3",
   "version": "3.8.8"
  }
 },
 "nbformat": 4,
 "nbformat_minor": 4
}
